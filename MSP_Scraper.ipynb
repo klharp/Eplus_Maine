{
 "cells": [
  {
   "cell_type": "markdown",
   "metadata": {},
   "source": [
    "# Mpls Marriott Hotel Simulations\n",
    "8760 rows per simulation<br>\n",
    "Floors for residential and commercial\n",
    "\n",
    "## Preprocess\n",
    "\n",
    "1. Generate zone with facade glazing systems in COMFEN.\n",
    "\n",
    "2. Retrieve IDFs for each scenario from the COMFEN5 Results folder. Have to do each of the 3 sections of the building as its own sqlite file and each project by orientation separately. Then IDF files are copied after each simulation. These files will be used in the Jupyter Notebook.\n",
    "\n",
    "3. Convert from E+ 8.1 to 9.5 using the .lst format.\n",
    "4. Change the reporting in the IDF files to \"All\" to get the HTML summary table and the inch-pound units for verification.\n",
    "      \n",
    "    * OutputControl:Table:Style,\n",
    "    * All,                     !- Column Separator\n",
    "    * InchPound;               !- Unit Conversion\n",
    "5. Rerun batch sims in EnergyPlus v9.5.\n",
    "6. Add \"Scenario\", \"Elevation, and \"GlazingSystem\" to the results CSV files.\n",
    "    - scenario (1-exist, 2-clear panel, 3-lowe panel)\n",
    "    - Elevation (e-project 34, sw-project 36, nw-project37)\n",
    "    - GlazingSystem (1-exist, 2-clear panel, 3-lowe panel)"
   ]
  },
  {
   "cell_type": "code",
   "execution_count": 1,
   "metadata": {},
   "outputs": [],
   "source": [
    "# Dependencies\n",
    "import pandas as pd\n",
    "import os\n",
    "import numpy as np\n",
    "from pathlib import Path\n",
    "from datetime import datetime"
   ]
  },
  {
   "cell_type": "markdown",
   "metadata": {},
   "source": [
    "## Energy Conversions\n",
    "\n",
    "As per E* Documentation<br>\n",
    "\n",
    "Joules --> kBtu (multiply by .00000094781712)<br>\n",
    "Joules --> kWh (multiply by .000000277777778) or (divide by 3600000)<br>\n",
    "Joules --> therms (multiply by .0000000094781712<br>"
   ]
  },
  {
   "cell_type": "markdown",
   "metadata": {},
   "source": [
    "<div>\n",
    "    <img src=\"static/images/elect_conv.png\" width=\"400\"/>\n",
    "     <img src=\"static/images/gas_conv.png\" width=\"400\"/>\n",
    "</div"
   ]
  },
  {
   "cell_type": "markdown",
   "metadata": {},
   "source": [
    "## Energy Costs and Emission Factors\n",
    "\n",
    "http://seeatcalc.gastechnology.org/ResidentialBuildings.aspx"
   ]
  },
  {
   "cell_type": "code",
   "execution_count": 2,
   "metadata": {},
   "outputs": [],
   "source": [
    "# Costs (elec $/kWh, gas $/therm), change values per city\n",
    "comgas_cost = 0.60\n",
    "comelec_cost = 0.1043"
   ]
  },
  {
   "cell_type": "code",
   "execution_count": 3,
   "metadata": {},
   "outputs": [],
   "source": [
    "# Source Energy Conversion Factors (same for res or comm), change values per city\n",
    "gas_source = 1.09\n",
    "elec_source = 2.65"
   ]
  },
  {
   "cell_type": "code",
   "execution_count": 4,
   "metadata": {},
   "outputs": [],
   "source": [
    "# Carbon equivalent factors (same for res or comm), change values per city\n",
    "\n",
    "#Electricity (lb/MMBtu) 323.34 (lb/kbtu).32334 ####\n",
    "#Natural Gas (Building Used, lb/MMBtu) 145.66 (lb/kBtu .14566) ####\n",
    "\n",
    "gas_co2 = 0.14566\n",
    "elec_co2 = 0.2964"
   ]
  },
  {
   "cell_type": "code",
   "execution_count": 5,
   "metadata": {},
   "outputs": [],
   "source": [
    "# Zone size for EUI and cost/sf\n",
    "\n",
    "sf = 210"
   ]
  },
  {
   "cell_type": "code",
   "execution_count": 6,
   "metadata": {},
   "outputs": [],
   "source": [
    "# Lighting energy reduction, assumption that LEDs are being used. \n",
    "# Use this multiplier if reductions are not in the COMFEN model\n",
    "\n",
    "lighting_redux = 1"
   ]
  },
  {
   "cell_type": "code",
   "execution_count": 7,
   "metadata": {},
   "outputs": [],
   "source": [
    "# # For peak demand calculations (.0002931 kW = 1 Btu).\n",
    "\n",
    "# kw = 0.0002931"
   ]
  },
  {
   "cell_type": "markdown",
   "metadata": {},
   "source": [
    "---\n",
    "\n",
    "## Combine CSV Files in Directory Commercial Gas Heating"
   ]
  },
  {
   "cell_type": "code",
   "execution_count": 8,
   "metadata": {},
   "outputs": [],
   "source": [
    "# Create variable for files in directory\n",
    "files = [f for f in os.listdir(\"data/msp/\") if f.endswith(\".csv\")]\n",
    "\n",
    "# files"
   ]
  },
  {
   "cell_type": "code",
   "execution_count": 9,
   "metadata": {},
   "outputs": [],
   "source": [
    "# https://stackoverflow.com/questions/63886787/how-to-create-a-dataframe-from-multiple-csv-files\n",
    "# Initialize and empty dataframe\n",
    "all_ComElec = pd.DataFrame()\n",
    "\n",
    "# Iterate through files and contents, then concatenate the data into the dataframe\n",
    "for file in files:\n",
    "    df = pd.read_csv(\"data/msp/\" + file)\n",
    "    all_ComElec = pd.concat([all_ComElec, df])\n",
    "    \n",
    "# all_ComElec\n",
    "\n",
    "# 394200  rows, 44 columns"
   ]
  },
  {
   "cell_type": "code",
   "execution_count": 10,
   "metadata": {},
   "outputs": [],
   "source": [
    "# list(all_ComElec.columns.values)"
   ]
  },
  {
   "cell_type": "code",
   "execution_count": 11,
   "metadata": {},
   "outputs": [],
   "source": [
    "# Get wanted columns\n",
    "all_ComElec1 = all_ComElec[[\"Scenario\",\n",
    "               \"Date/Time\",\n",
    "                \"Elevation\",\n",
    "               \"GlazingSystem\",\n",
    "              \"SYS-1 HEATING COIL:Heating Coil Electricity Energy [J](Hourly)\",\n",
    "              \"SYS-1:Air System NaturalGas Energy [J](Hourly)\",\n",
    "              \"SYS-1:Air System Fan Electricity Energy [J](Hourly)\",\n",
    "              \"SYS-1:Air System DX Cooling Coil Electricity Energy [J](Hourly) \",\n",
    "             \"COMFENZONE:Zone Lights Electricity Energy [J](Hourly)\"]]\n",
    "\n",
    "# all_ComElec1"
   ]
  },
  {
   "cell_type": "code",
   "execution_count": 12,
   "metadata": {},
   "outputs": [],
   "source": [
    "all_ComElec1 = all_ComElec1.dropna().reset_index(drop=True)\n",
    "\n",
    "#all_ComElec1"
   ]
  },
  {
   "cell_type": "code",
   "execution_count": 13,
   "metadata": {},
   "outputs": [],
   "source": [
    "# # Export grouped file to csv\n",
    "# all_ComElec1.to_csv(\"Scraper_Output/msp_all.csv\", header=True, index=True)"
   ]
  },
  {
   "cell_type": "markdown",
   "metadata": {},
   "source": [
    "-----\n",
    "\n",
    "## Get the Wanted Data (columns)"
   ]
  },
  {
   "cell_type": "code",
   "execution_count": 14,
   "metadata": {
    "scrolled": true
   },
   "outputs": [],
   "source": [
    "# Rename Columns\n",
    "all_ComElec2 = all_ComElec1.rename(columns={\"Scenario\":\"Scenario\",\n",
    "                              \"Date/Time\":\"Date_Time\",\n",
    "                             \"SYS-1:Air System Fan Electricity Energy [J](Hourly)\":\"FanEnergy[J](Hourly)\",\n",
    "                             \"SYS-1:Air System NaturalGas Energy [J](Hourly)\":\"HeatingGasEnergy[J](Hourly)\",\n",
    "                            \"SYS-1 HEATING COIL:Heating Coil Electricity Energy [J](Hourly)\":\"HeatingElecEnergy[J](Hourly)\",\n",
    "                            \"SYS-1:Air System DX Cooling Coil Electricity Energy [J](Hourly) \":\"CoolingEnergy[J](Hourly)\",\n",
    "                            \"COMFENZONE:Zone Lights Electricity Energy [J](Hourly)\":\"LightingEnergy[J](Hourly)\"\n",
    "                             })\n",
    "\n",
    "#all_ComElec2"
   ]
  },
  {
   "cell_type": "markdown",
   "metadata": {},
   "source": [
    "-----\n",
    "\n",
    "## Get Annual Energy Data\n",
    "Convert units from Joules to kBtu<br>"
   ]
  },
  {
   "cell_type": "code",
   "execution_count": 15,
   "metadata": {},
   "outputs": [],
   "source": [
    "# Copy dataframe to modify and leave original df intact\n",
    "get_annual_ComElec = all_ComElec2.copy(deep=True)\n",
    "\n",
    "#get_annual_ComElec"
   ]
  },
  {
   "cell_type": "code",
   "execution_count": 16,
   "metadata": {},
   "outputs": [],
   "source": [
    "# Convert Joules to KBtu in dataframe\n",
    "get_annual_ComElec[\"FanEnergy(kBtu)\"] = get_annual_ComElec[\"FanEnergy[J](Hourly)\"] * .00000094781712\n",
    "get_annual_ComElec[\"HeatingElecEnergy(kBtu)\"] = get_annual_ComElec[\"HeatingElecEnergy[J](Hourly)\"] * .00000094781712\n",
    "get_annual_ComElec[\"HeatingGasEnergy(kBtu)\"] = get_annual_ComElec[\"HeatingGasEnergy[J](Hourly)\"] * .00000094781712\n",
    "get_annual_ComElec[\"CoolingEnergy(kBtu)\"] = get_annual_ComElec[\"CoolingEnergy[J](Hourly)\"] * .00000094781712\n",
    "\n",
    "# Reduce lighting energy, assuming LEDs are being used\n",
    "get_annual_ComElec[\"LightingEnergy(kBtu)\"] = (get_annual_ComElec[\"LightingEnergy[J](Hourly)\"] * .00000094781712) * lighting_redux\n",
    "\n",
    "#get_annual_ComElec"
   ]
  },
  {
   "cell_type": "code",
   "execution_count": 17,
   "metadata": {},
   "outputs": [],
   "source": [
    "# Drop columns\n",
    "get_annual_ComElec.drop(columns = [\"FanEnergy[J](Hourly)\", \"HeatingElecEnergy[J](Hourly)\", \"HeatingGasEnergy[J](Hourly)\", \"CoolingEnergy[J](Hourly)\", \"LightingEnergy[J](Hourly)\"], axis=1, inplace=True)\n",
    "\n",
    "#get_annual_ComElec"
   ]
  },
  {
   "cell_type": "code",
   "execution_count": 18,
   "metadata": {},
   "outputs": [],
   "source": [
    "# Add energy totals\n",
    "totalComEnergy = get_annual_ComElec[\"FanEnergy(kBtu)\"] + get_annual_ComElec[\"HeatingElecEnergy(kBtu)\"] + get_annual_ComElec[\"LightingEnergy(kBtu)\"] + get_annual_ComElec[\"CoolingEnergy(kBtu)\"]\n",
    "        \n",
    "get_annual_ComElec[\"AnnualEnergy(kBtu)\"] = totalComEnergy\n",
    "\n",
    "# get_annual_ComElec"
   ]
  },
  {
   "cell_type": "markdown",
   "metadata": {},
   "source": [
    "-----\n",
    "\n",
    "## Get Energy per sf \n",
    "Add EUI (site) column<br>\n"
   ]
  },
  {
   "cell_type": "code",
   "execution_count": 19,
   "metadata": {},
   "outputs": [],
   "source": [
    "# Get data per sf (energy/sf)\n",
    "get_annual_ComElec[\"FanEnergy(kBtu/sf)\"] = (get_annual_ComElec[\"FanEnergy(kBtu)\"]) / sf\n",
    "get_annual_ComElec[\"HeatingElecEnergy(kBtu/sf)\"] = (get_annual_ComElec[\"HeatingElecEnergy(kBtu)\"]) / sf\n",
    "get_annual_ComElec[\"HeatingGasEnergy(kBtu/sf)\"] = (get_annual_ComElec[\"HeatingGasEnergy(kBtu)\"]) / sf\n",
    "get_annual_ComElec[\"CoolingEnergy(kBtu/sf)\"] = (get_annual_ComElec[\"CoolingEnergy(kBtu)\"]) / sf\n",
    "get_annual_ComElec[\"LightingEnergy(kBtu/sf)\"] = (get_annual_ComElec[\"LightingEnergy(kBtu)\"]) / sf"
   ]
  },
  {
   "cell_type": "code",
   "execution_count": 20,
   "metadata": {},
   "outputs": [],
   "source": [
    "# Establish EUI (energy/sf)\n",
    "get_annual_ComElec[\"EUI(kBtu/sf)\"] = (get_annual_ComElec[\"FanEnergy(kBtu)\"] +\n",
    "                                    get_annual_ComElec[\"HeatingElecEnergy(kBtu)\"] +\n",
    "                                    get_annual_ComElec[\"HeatingGasEnergy(kBtu)\"] +\n",
    "                                    get_annual_ComElec[\"LightingEnergy(kBtu)\"] +  \n",
    "                                    get_annual_ComElec[\"CoolingEnergy(kBtu)\"]) / sf\n",
    "                                                       \n",
    "#get_annual_ComElec"
   ]
  },
  {
   "cell_type": "markdown",
   "metadata": {},
   "source": [
    "-----\n",
    "\n",
    "## Get Carbon per sf \n",
    "Add carbon/sf column"
   ]
  },
  {
   "cell_type": "code",
   "execution_count": 21,
   "metadata": {},
   "outputs": [],
   "source": [
    "# Do carbon calculation using variable (lb/sf)\n",
    "get_annual_ComElec[\"CO2_Electric(lb/sf)\"] = ((get_annual_ComElec[\"FanEnergy(kBtu)\"] +\n",
    "                                    get_annual_ComElec[\"HeatingElecEnergy(kBtu)\"] +\n",
    "                                    get_annual_ComElec[\"LightingEnergy(kBtu)\"] +\n",
    "                                    get_annual_ComElec[\"CoolingEnergy(kBtu)\"]) * elec_co2) / sf\n",
    "                                                       \n",
    "# get_annual_ComElec"
   ]
  },
  {
   "cell_type": "code",
   "execution_count": 22,
   "metadata": {},
   "outputs": [],
   "source": [
    "get_annual_ComElec[\"CO2_Gas(lb/sf)\"] = ((get_annual_ComElec[\"HeatingGasEnergy(kBtu)\"]) * gas_co2) / sf\n",
    "                                                       \n",
    "# get_annual_ComElec"
   ]
  },
  {
   "cell_type": "markdown",
   "metadata": {},
   "source": [
    "## Get Annual Cost Data\n",
    "Convert units from Joules to kWh and therms to use cost multiplier<br>\n",
    "Add cost multiplier, variables defined above"
   ]
  },
  {
   "cell_type": "code",
   "execution_count": 23,
   "metadata": {},
   "outputs": [],
   "source": [
    "# Get annual costs\n",
    "get_annual_costs_ComElec = all_ComElec2.copy(deep=True)"
   ]
  },
  {
   "cell_type": "code",
   "execution_count": 24,
   "metadata": {},
   "outputs": [],
   "source": [
    "# Convert Joules to KBtu in dataframe and add cost multiplier\n",
    "# Gas kbtu => Mbtu => therms: (kbtu/1000) * 10\n",
    "# Elec kbtu => Kwh (kbtu * .000000277777778)\n",
    "get_annual_costs_ComElec[\"FanCost($)\"] = (get_annual_costs_ComElec[\"FanEnergy[J](Hourly)\"] * .000000277777778) * comelec_cost\n",
    "get_annual_costs_ComElec[\"HeatingElecCost($)\"] = ((get_annual_costs_ComElec[\"HeatingElecEnergy[J](Hourly)\"] * .00000094781712)/1000) * 10  * comgas_cost\n",
    "get_annual_costs_ComElec[\"HeatingGasCost($)\"] = ((get_annual_costs_ComElec[\"HeatingGasEnergy[J](Hourly)\"] * .00000094781712)/1000) * 10  * comgas_cost\n",
    "get_annual_costs_ComElec[\"CoolingCost($)\"] = (get_annual_costs_ComElec[\"CoolingEnergy[J](Hourly)\"] * .000000277777778) * comelec_cost\n",
    "\n",
    "# Reduce lighting energy, assuming LEDs are being used\n",
    "get_annual_costs_ComElec[\"LightingCost($)\"] = (get_annual_costs_ComElec[\"LightingEnergy[J](Hourly)\"] * .00000094781712) * lighting_redux * comelec_cost\n",
    "\n",
    "#get_annual_costs"
   ]
  },
  {
   "cell_type": "code",
   "execution_count": 25,
   "metadata": {},
   "outputs": [],
   "source": [
    "# Drop columns\n",
    "get_annual_costs_ComElec.drop(columns = [\"FanEnergy[J](Hourly)\", \"HeatingElecEnergy[J](Hourly)\", \"HeatingGasEnergy[J](Hourly)\", \"CoolingEnergy[J](Hourly)\", \"LightingEnergy[J](Hourly)\"], axis=1, inplace=True)\n",
    "\n",
    "#get_annual_costs_ComElec"
   ]
  },
  {
   "cell_type": "code",
   "execution_count": 26,
   "metadata": {},
   "outputs": [],
   "source": [
    "# Add cost totals\n",
    "totalComCost = get_annual_costs_ComElec[\"FanCost($)\"] + get_annual_costs_ComElec[\"HeatingElecCost($)\"] + get_annual_costs_ComElec[\"HeatingGasCost($)\"]  + get_annual_costs_ComElec[\"CoolingCost($)\"] + get_annual_costs_ComElec[\"LightingCost($)\"]\n",
    "        \n",
    "get_annual_costs_ComElec[\"AnnualCost($)\"] = totalComCost\n",
    "\n",
    "# get_annual_costs_ComElec"
   ]
  },
  {
   "cell_type": "markdown",
   "metadata": {},
   "source": [
    "-----\n",
    "\n",
    "## Get Annual Cost per sf Data\n",
    "Add costs/sf columns<br>\n"
   ]
  },
  {
   "cell_type": "code",
   "execution_count": 27,
   "metadata": {},
   "outputs": [],
   "source": [
    "# Get data per sf ($/sf)\n",
    "get_annual_costs_ComElec[\"FanCost($/sf)\"] = (get_annual_costs_ComElec[\"FanCost($)\"]) / sf\n",
    "get_annual_costs_ComElec[\"HeatingElecCost($/sf)\"] = (get_annual_costs_ComElec[\"HeatingElecCost($)\"]) / sf\n",
    "get_annual_costs_ComElec[\"HeatingGasCost($/sf)\"] = (get_annual_costs_ComElec[\"HeatingGasCost($)\"]) / sf\n",
    "get_annual_costs_ComElec[\"CoolingCost($/sf)\"] = (get_annual_costs_ComElec[\"CoolingCost($)\"]) / sf\n",
    "get_annual_costs_ComElec[\"LightingCost($/sf)\"] = (get_annual_costs_ComElec[\"LightingCost($)\"]) / sf\n",
    "\n",
    "# get_annual_costs_ComElec"
   ]
  },
  {
   "cell_type": "code",
   "execution_count": 28,
   "metadata": {},
   "outputs": [],
   "source": [
    "# Establish costs ($/sf)\n",
    "get_annual_costs_ComElec[\"AnnualCost($/sf)\"] = (get_annual_costs_ComElec[\"FanCost($)\"] +\n",
    "                                    get_annual_costs_ComElec[\"HeatingElecCost($)\"] +\n",
    "                                    get_annual_costs_ComElec[\"HeatingGasCost($)\"] +  \n",
    "                                    get_annual_costs_ComElec[\"CoolingCost($)\"] +  \n",
    "                                    get_annual_costs_ComElec[\"LightingCost($)\"]) / sf\n",
    "                                                       \n",
    "# get_annual_costs_ComElec"
   ]
  },
  {
   "cell_type": "markdown",
   "metadata": {},
   "source": [
    "---\n",
    "\n",
    "## Combine Annual Energy and Cost Data\n",
    "Combine two dfs<br>\n",
    "Export combine file"
   ]
  },
  {
   "cell_type": "code",
   "execution_count": 29,
   "metadata": {},
   "outputs": [],
   "source": [
    "# # Combine data for energy and cost\n",
    "allAnnualDataComElec = pd.merge(get_annual_ComElec, get_annual_costs_ComElec)\n",
    "\n",
    "# allAnnualDataComElec"
   ]
  },
  {
   "cell_type": "code",
   "execution_count": 30,
   "metadata": {},
   "outputs": [],
   "source": [
    "# list(allAnnualDataComElec.columns.values)"
   ]
  },
  {
   "cell_type": "markdown",
   "metadata": {},
   "source": [
    "---\n",
    "## Group and Export Annual Data\n",
    "Group dataframe by scenario<br>\n",
    "Export to file"
   ]
  },
  {
   "cell_type": "code",
   "execution_count": 31,
   "metadata": {},
   "outputs": [],
   "source": [
    "# Group by scenario\n",
    "annualDataCom = allAnnualDataComElec.groupby([\"Scenario\", \"Elevation\", \"GlazingSystem\"], as_index=True)\n",
    "\n",
    "# annualDataCom.sum()"
   ]
  },
  {
   "cell_type": "code",
   "execution_count": 32,
   "metadata": {},
   "outputs": [],
   "source": [
    "annualDataComFinal = annualDataCom.sum()\n",
    "\n",
    "# annualDataComFinal"
   ]
  },
  {
   "cell_type": "code",
   "execution_count": 33,
   "metadata": {},
   "outputs": [],
   "source": [
    "# Export grouped file to csv\n",
    "annualDataComFinal.to_csv(\"Scraper_Output/msp_annual_com.csv\", header=True, index=True)"
   ]
  },
  {
   "cell_type": "markdown",
   "metadata": {},
   "source": [
    "---\n",
    "\n",
    "## Establish dataframes for each condition to determine delta from existing\n",
    "\n",
    "Create dataset with just existing condition.<br> \n",
    "Created a dataset with clear panel. <br>\n",
    "Create a dataset with lowe panel.<br>\n",
    "Keep the units in kBtus to be able to eventually combine heating and cooling <br>\n",
    "Export to CSV files\n"
   ]
  },
  {
   "cell_type": "code",
   "execution_count": 34,
   "metadata": {},
   "outputs": [],
   "source": [
    "# Define the scenario for the existing condition.\n",
    "baselineAnnualDataComElec = allAnnualDataComElec[allAnnualDataComElec[\"GlazingSystem\"] == \"Exist\"]\n",
    "\n",
    "# baselineAnnualDataComElec"
   ]
  },
  {
   "cell_type": "code",
   "execution_count": 35,
   "metadata": {},
   "outputs": [],
   "source": [
    "# Rename columns to indicate baseline to prepare for merge\"\n",
    "\n",
    "allBaselineAnnualDataComElec = baselineAnnualDataComElec.rename(columns={'Scenario':'B_Scenario',\n",
    " 'Date_Time':'B_Date_Time',\n",
    " 'Elevation':'B_Elevation',\n",
    " 'GlazingSystem':'B_GlazingSystem',\n",
    " 'FanEnergy(kBtu)':'B_FanEnergy(kBtu)',\n",
    " 'HeatingElecEnergy(kBtu)':'B_HeatingElecEnergy(kBtu)',\n",
    " 'HeatingGasEnergy(kBtu)':'B_HeatingGasEnergy(kBtu)',\n",
    " 'CoolingEnergy(kBtu)':'B_CoolingEnergy(kBtu)',\n",
    " 'LightingEnergy(kBtu)':'B_LightingEnergy(kBtu)',\n",
    " 'AnnualEnergy(kBtu)':'B_AnnualEnergy(kBtu)',\n",
    " 'FanEnergy(kBtu/sf)':'B_FanEnergy(kBtu/sf)',\n",
    " 'HeatingElecEnergy(kBtu/sf)':'B_HeatingElecEnergy(kBtu/sf)',\n",
    " 'HeatingGasEnergy(kBtu/sf)':'B_HeatingGasEnergy(kBtu/sf)',\n",
    " 'CoolingEnergy(kBtu/sf)':'B_CoolingEnergy(kBtu/sf)',\n",
    " 'LightingEnergy(kBtu/sf)':'B_LightingEnergy(kBtu/sf)',\n",
    " 'EUI(kBtu/sf)':'B_EUI(kBtu/sf)',\n",
    " 'CO2_Electric(lb/sf)':'B_CO2_Electric(lb/sf)',\n",
    " 'CO2_Gas(lb/sf)':'B_CO2_Gas(lb/sf)',\n",
    " 'FanCost($)':'B_FanCost($)',\n",
    " 'HeatingElecCost($)':'B_HeatingElecCost($)',\n",
    " 'HeatingGasCost($)':'B_HeatingGasCost($)',\n",
    " 'CoolingCost($)':'B_CoolingCost($)',\n",
    " 'LightingCost($)':'B_LightingCost($)',\n",
    " 'AnnualCost($)':'B_AnnualCost($)',\n",
    " 'FanCost($/sf)':'B_FanCost($/sf)',\n",
    " 'HeatingElecCost($/sf)':'B_HeatingElecCost($/sf)',\n",
    " 'HeatingGasCost($/sf)':'B_HeatingGasCost($/sf)',\n",
    " 'CoolingCost($/sf)':'B_CoolingCost($/sf)',\n",
    " 'LightingCost($/sf)':'B_LightingCost($/sf)',\n",
    " 'AnnualCost($/sf)':'B_AnnualCost($/sf)'\n",
    "                            })\n",
    "\n",
    "# allBaselineAnnualDataComElec"
   ]
  },
  {
   "cell_type": "code",
   "execution_count": 36,
   "metadata": {},
   "outputs": [],
   "source": [
    "# Reset index\n",
    "allBaselineAnnualDataComElec.reset_index(inplace=True, drop=True)\n",
    "\n",
    "# allBaselineAnnualDataComElec"
   ]
  },
  {
   "cell_type": "code",
   "execution_count": 37,
   "metadata": {},
   "outputs": [],
   "source": [
    "# # Define the scenario for the baselines.\n",
    "\n",
    "clearAnnualDataComElec = allAnnualDataComElec[allAnnualDataComElec[\"GlazingSystem\"] == \"Clear Panel\"]\n",
    "\n",
    "# clearAnnualDataComElec"
   ]
  },
  {
   "cell_type": "code",
   "execution_count": 38,
   "metadata": {},
   "outputs": [],
   "source": [
    "# Rename columns to indicate baseline to prepare for merge\"\n",
    "\n",
    "allClearAnnualDataComElec = clearAnnualDataComElec.rename(columns={'Scenario':'C_Scenario',\n",
    " 'Date_Time':'C_Date_Time',\n",
    " 'Elevation':'C_Elevation',\n",
    " 'GlazingSystem':'C_GlazingSystem',\n",
    " 'FanEnergy(kBtu)':'C_FanEnergy(kBtu)',\n",
    " 'HeatingElecEnergy(kBtu)':'C_HeatingElecEnergy(kBtu)',\n",
    " 'HeatingGasEnergy(kBtu)':'C_HeatingGasEnergy(kBtu)',\n",
    " 'CoolingEnergy(kBtu)':'C_CoolingEnergy(kBtu)',\n",
    " 'LightingEnergy(kBtu)':'C_LightingEnergy(kBtu)',\n",
    " 'AnnualEnergy(kBtu)':'C_AnnualEnergy(kBtu)',\n",
    " 'FanEnergy(kBtu/sf)':'C_FanEnergy(kBtu/sf)',\n",
    " 'HeatingElecEnergy(kBtu/sf)':'C_HeatingElecEnergy(kBtu/sf)',\n",
    " 'HeatingGasEnergy(kBtu/sf)':'C_HeatingGasEnergy(kBtu/sf)',\n",
    " 'CoolingEnergy(kBtu/sf)':'C_CoolingEnergy(kBtu/sf)',\n",
    " 'LightingEnergy(kBtu/sf)':'C_LightingEnergy(kBtu/sf)',\n",
    " 'EUI(kBtu/sf)':'C_EUI(kBtu/sf)',\n",
    " 'CO2_Electric(lb/sf)':'C_CO2_Electric(lb/sf)',\n",
    " 'CO2_Gas(lb/sf)':'C_CO2_Gas(lb/sf)',\n",
    " 'FanCost($)':'C_FanCost($)',\n",
    " 'HeatingElecCost($)':'C_HeatingElecCost($)',\n",
    " 'HeatingGasCost($)':'C_HeatingGasCost($)',\n",
    " 'CoolingCost($)':'C_CoolingCost($)',\n",
    " 'LightingCost($)':'C_LightingCost($)',\n",
    " 'AnnualCost($)':'C_AnnualCost($)',\n",
    " 'FanCost($/sf)':'C_FanCost($/sf)',\n",
    " 'HeatingElecCost($/sf)':'C_HeatingElecCost($/sf)',\n",
    " 'HeatingGasCost($/sf)':'C_HeatingGasCost($/sf)',\n",
    " 'CoolingCost($/sf)':'C_CoolingCost($/sf)',\n",
    " 'LightingCost($/sf)':'C_LightingCost($/sf)',\n",
    " 'AnnualCost($/sf)':'C_AnnualCost($/sf)'\n",
    "                            })\n",
    "\n",
    "# allClearAnnualDataComElec"
   ]
  },
  {
   "cell_type": "code",
   "execution_count": 39,
   "metadata": {},
   "outputs": [],
   "source": [
    "# Reset index\n",
    "allClearAnnualDataComElec.reset_index(inplace=True, drop=True)\n",
    "\n",
    "# allClearAnnualDataComElec"
   ]
  },
  {
   "cell_type": "code",
   "execution_count": 40,
   "metadata": {},
   "outputs": [],
   "source": [
    "# Define the scenario for the baselines.\n",
    "\n",
    "loweAnnualDataComElec = allAnnualDataComElec[allAnnualDataComElec[\"GlazingSystem\"] == \"LowE Panel\"]\n",
    "\n",
    "# loweAnnualDataComElec"
   ]
  },
  {
   "cell_type": "code",
   "execution_count": 41,
   "metadata": {},
   "outputs": [],
   "source": [
    "# Rename columns to indicate baseline to prepare for merge\"\n",
    "\n",
    "allLoweAnnualDataComElec = loweAnnualDataComElec.rename(columns={'Scenario':'L_Scenario',\n",
    " 'Date_Time':'L_Date_Time',\n",
    " 'Elevation':'L_Elevation',\n",
    " 'GlazingSystem':'L_GlazingSystem',\n",
    " 'FanEnergy(kBtu)':'L_FanEnergy(kBtu)',\n",
    " 'HeatingElecEnergy(kBtu)':'L_HeatingElecEnergy(kBtu)',\n",
    " 'HeatingGasEnergy(kBtu)':'L_HeatingGasEnergy(kBtu)',\n",
    " 'CoolingEnergy(kBtu)':'L_CoolingEnergy(kBtu)',\n",
    " 'LightingEnergy(kBtu)':'L_LightingEnergy(kBtu)',\n",
    " 'AnnualEnergy(kBtu)':'L_AnnualEnergy(kBtu)',\n",
    " 'FanEnergy(kBtu/sf)':'L_FanEnergy(kBtu/sf)',\n",
    " 'HeatingElecEnergy(kBtu/sf)':'L_HeatingElecEnergy(kBtu/sf)',\n",
    " 'HeatingGasEnergy(kBtu/sf)':'L_HeatingGasEnergy(kBtu/sf)',\n",
    " 'CoolingEnergy(kBtu/sf)':'L_CoolingEnergy(kBtu/sf)',\n",
    " 'LightingEnergy(kBtu/sf)':'L_LightingEnergy(kBtu/sf)',\n",
    " 'EUI(kBtu/sf)':'L_EUI(kBtu/sf)',\n",
    " 'CO2_Electric(lb/sf)':'L_CO2_Electric(lb/sf)',\n",
    " 'CO2_Gas(lb/sf)':'L_CO2_Gas(lb/sf)',\n",
    " 'FanCost($)':'L_FanCost($)',\n",
    " 'HeatingElecCost($)':'L_HeatingElecCost($)',\n",
    " 'HeatingGasCost($)':'L_HeatingGasCost($)',\n",
    " 'CoolingCost($)':'L_CoolingCost($)',\n",
    " 'LightingCost($)':'L_LightingCost($)',\n",
    " 'AnnualCost($)':'L_AnnualCost($)',\n",
    " 'FanCost($/sf)':'L_FanCost($/sf)',\n",
    " 'HeatingElecCost($/sf)':'L_HeatingElecCost($/sf)',\n",
    " 'HeatingGasCost($/sf)':'L_HeatingGasCost($/sf)',\n",
    " 'CoolingCost($/sf)':'L_CoolingCost($/sf)',\n",
    " 'LightingCost($/sf)':'L_LightingCost($/sf)',\n",
    " 'AnnualCost($/sf)':'L_AnnualCost($/sf)'\n",
    "                            })\n",
    "\n",
    "# allLoweAnnualDataComElec"
   ]
  },
  {
   "cell_type": "code",
   "execution_count": 42,
   "metadata": {},
   "outputs": [],
   "source": [
    "#Reset index\n",
    "allLoweAnnualDataComElec.reset_index(inplace=True, drop=True)\n",
    "\n",
    "# allLoweAnnualDataComElec"
   ]
  },
  {
   "cell_type": "code",
   "execution_count": 43,
   "metadata": {},
   "outputs": [],
   "source": [
    "# # Export individual CSV files for each condition\n",
    "\n",
    "# allBaselineAnnualDataComElec.to_csv(\"Scraper_Output/msp_exist_all_annual_com.csv\", header=True, index=True)\n",
    "# allClearAnnualDataComElec.to_csv(\"Scraper_Output/msp_clear_all_annual_com.csv\", header=True, index=True)\n",
    "# allLoweAnnualDataComElec.to_csv(\"Scraper_Output/msp_lowe_all_annual_com.csv\", header=True, index=True)"
   ]
  },
  {
   "cell_type": "markdown",
   "metadata": {},
   "source": [
    "---\n",
    "## Merge the 3 dataframes to perform delta from existing calculation\n"
   ]
  },
  {
   "cell_type": "code",
   "execution_count": 44,
   "metadata": {},
   "outputs": [],
   "source": [
    "# merge existing and clear\n",
    "MergedAnnualData = pd.merge(allBaselineAnnualDataComElec, allClearAnnualDataComElec, left_index=True, right_index=True)\n",
    "\n",
    "# merge the above with lowe\n",
    "AllMergedAnnualData = pd.merge(MergedAnnualData, allLoweAnnualDataComElec, left_index=True, right_index=True)\n",
    "\n",
    "# AllMergedAnnualData"
   ]
  },
  {
   "cell_type": "code",
   "execution_count": 45,
   "metadata": {},
   "outputs": [],
   "source": [
    "# list(AllMergedAnnualData.columns.values)"
   ]
  },
  {
   "cell_type": "code",
   "execution_count": 46,
   "metadata": {},
   "outputs": [],
   "source": [
    "# Deltas of exist - clear\n",
    "\n",
    "AllMergedAnnualData[\"DeltaClear_FanEnergy(kBtu/sf)\"] = AllMergedAnnualData[\"B_FanEnergy(kBtu/sf)\"] - AllMergedAnnualData[\"C_FanEnergy(kBtu/sf)\"]\n",
    "AllMergedAnnualData[\"DeltaClear_HeatingElecEnergy(kBtu/sf)\"] = AllMergedAnnualData[\"B_HeatingElecEnergy(kBtu/sf)\"] - AllMergedAnnualData[\"C_HeatingElecEnergy(kBtu/sf)\"]\n",
    "AllMergedAnnualData[\"DeltaClear_HeatingGasEnergy(kBtu/sf)\"] = AllMergedAnnualData[\"B_HeatingGasEnergy(kBtu/sf)\"] - AllMergedAnnualData[\"C_HeatingGasEnergy(kBtu/sf)\"]\n",
    "AllMergedAnnualData[\"DeltaClear_CoolingEnergy(kBtu/sf)\"] = AllMergedAnnualData[\"B_CoolingEnergy(kBtu/sf)\"] - AllMergedAnnualData[\"C_CoolingEnergy(kBtu/sf)\"]\n",
    "AllMergedAnnualData[\"DeltaClear_LightingEnergy(kBtu/sf)\"] = AllMergedAnnualData[\"B_LightingEnergy(kBtu/sf)\"] - AllMergedAnnualData[\"C_LightingEnergy(kBtu/sf)\"]\n",
    "AllMergedAnnualData[\"DeltaClear_EUI(kBtu/sf)\"] = AllMergedAnnualData[\"B_EUI(kBtu/sf)\"] - AllMergedAnnualData[\"C_EUI(kBtu/sf)\"]\n",
    "AllMergedAnnualData[\"DeltaClear_CO2_Electric(lb/sf)\"] = AllMergedAnnualData[\"B_CO2_Electric(lb/sf)\"] - AllMergedAnnualData[\"C_CO2_Electric(lb/sf)\"]\n",
    "AllMergedAnnualData[\"DeltaClear_CO2_Gas(lb/sf)\"] = AllMergedAnnualData[\"B_CO2_Gas(lb/sf)\"] - AllMergedAnnualData[\"C_CO2_Gas(lb/sf)\"]\n",
    "AllMergedAnnualData[\"DeltaClear_FanCost($)\"] = AllMergedAnnualData[\"B_FanCost($)\"] - AllMergedAnnualData[\"C_FanCost($)\"]\n",
    "AllMergedAnnualData[\"DeltaClear_HeatingElecCost($)\"] = AllMergedAnnualData[\"B_HeatingElecCost($)\"] - AllMergedAnnualData[\"C_HeatingElecCost($)\"]\n",
    "AllMergedAnnualData[\"DeltaClear_HeatingGasCost($)\"] = AllMergedAnnualData[\"B_HeatingGasCost($)\"] - AllMergedAnnualData[\"C_HeatingGasCost($)\"]\n",
    "AllMergedAnnualData[\"DeltaClear_CoolingCost($)\"] = AllMergedAnnualData[\"B_CoolingCost($)\"] - AllMergedAnnualData[\"C_CoolingCost($)\"]\n",
    "AllMergedAnnualData[\"DeltaClear_LightingCost($)\"] = AllMergedAnnualData[\"B_LightingCost($)\"] - AllMergedAnnualData[\"C_LightingCost($)\"]\n",
    "AllMergedAnnualData[\"DeltaClear_AnnualCost($)\"] = AllMergedAnnualData[\"B_AnnualCost($)\"] - AllMergedAnnualData[\"C_AnnualCost($)\"]\n",
    "AllMergedAnnualData[\"DeltaClear_FanCost($/sf)\"] = AllMergedAnnualData[\"B_FanCost($/sf)\"] - AllMergedAnnualData[\"C_FanCost($/sf)\"]\n",
    "AllMergedAnnualData[\"DeltaClear_HeatingElecCost($/sf)\"] = AllMergedAnnualData[\"B_HeatingElecCost($/sf)\"] - AllMergedAnnualData[\"C_HeatingElecCost($/sf)\"]\n",
    "AllMergedAnnualData[\"DeltaClear_HeatingGasCost($/sf)\"] = AllMergedAnnualData[\"B_HeatingGasCost($/sf)\"] - AllMergedAnnualData[\"C_HeatingGasCost($/sf)\"]\n",
    "AllMergedAnnualData[\"DeltaClear_CoolingCost($/sf)\"] = AllMergedAnnualData[\"B_CoolingCost($/sf)\"] - AllMergedAnnualData[\"C_CoolingCost($/sf)\"]\n",
    "AllMergedAnnualData[\"DeltaClear_LightingCost($/sf)\"] = AllMergedAnnualData[\"B_LightingCost($/sf)\"] - AllMergedAnnualData[\"C_LightingCost($/sf)\"]\n",
    "AllMergedAnnualData[\"DeltaClear_AnnualCost($/sf)\"] = AllMergedAnnualData[\"B_AnnualCost($/sf)\"] - AllMergedAnnualData[\"C_AnnualCost($/sf)\"]\n"
   ]
  },
  {
   "cell_type": "code",
   "execution_count": 47,
   "metadata": {},
   "outputs": [],
   "source": [
    "# list(AllMergedAnnualData.columns.values)"
   ]
  },
  {
   "cell_type": "code",
   "execution_count": 48,
   "metadata": {},
   "outputs": [],
   "source": [
    "# Deltas of exist - lowe\n",
    "\n",
    "AllMergedAnnualData[\"DeltaLowe_FanEnergy(kBtu/sf)\"] = AllMergedAnnualData[\"B_FanEnergy(kBtu/sf)\"] - AllMergedAnnualData[\"L_FanEnergy(kBtu/sf)\"]\n",
    "AllMergedAnnualData[\"DeltaLowe_HeatingElecEnergy(kBtu/sf)\"] = AllMergedAnnualData[\"B_HeatingElecEnergy(kBtu/sf)\"] - AllMergedAnnualData[\"L_HeatingElecEnergy(kBtu/sf)\"]\n",
    "AllMergedAnnualData[\"DeltaLowe_HeatingGasEnergy(kBtu/sf)\"] = AllMergedAnnualData[\"B_HeatingGasEnergy(kBtu/sf)\"] - AllMergedAnnualData[\"L_HeatingGasEnergy(kBtu/sf)\"]\n",
    "AllMergedAnnualData[\"DeltaLowe_CoolingEnergy(kBtu/sf)\"] = AllMergedAnnualData[\"B_CoolingEnergy(kBtu/sf)\"] - AllMergedAnnualData[\"L_CoolingEnergy(kBtu/sf)\"]\n",
    "AllMergedAnnualData[\"DeltaLowe_LightingEnergy(kBtu/sf)\"] = AllMergedAnnualData[\"B_LightingEnergy(kBtu/sf)\"] - AllMergedAnnualData[\"L_LightingEnergy(kBtu/sf)\"]\n",
    "AllMergedAnnualData[\"DeltaLowe_EUI(kBtu/sf)\"] = AllMergedAnnualData[\"B_EUI(kBtu/sf)\"] - AllMergedAnnualData[\"L_EUI(kBtu/sf)\"]\n",
    "AllMergedAnnualData[\"DeltaLowe_CO2_Electric(lb/sf)\"] = AllMergedAnnualData[\"B_CO2_Electric(lb/sf)\"] - AllMergedAnnualData[\"L_CO2_Electric(lb/sf)\"]\n",
    "AllMergedAnnualData[\"DeltaLowe_CO2_Gas(lb/sf)\"] = AllMergedAnnualData[\"B_CO2_Gas(lb/sf)\"] - AllMergedAnnualData[\"L_CO2_Gas(lb/sf)\"]\n",
    "AllMergedAnnualData[\"DeltaLowe_FanCost($)\"] = AllMergedAnnualData[\"B_FanCost($)\"] - AllMergedAnnualData[\"L_FanCost($)\"]\n",
    "AllMergedAnnualData[\"DeltaLowe_HeatingElecCost($)\"] = AllMergedAnnualData[\"B_HeatingElecCost($)\"] - AllMergedAnnualData[\"L_HeatingElecCost($)\"]\n",
    "AllMergedAnnualData[\"DeltaLowe_HeatingGasCost($)\"] = AllMergedAnnualData[\"B_HeatingGasCost($)\"] - AllMergedAnnualData[\"L_HeatingGasCost($)\"]\n",
    "AllMergedAnnualData[\"DeltaLowe_CoolingCost($)\"] = AllMergedAnnualData[\"B_CoolingCost($)\"] - AllMergedAnnualData[\"L_CoolingCost($)\"]\n",
    "AllMergedAnnualData[\"DeltaLowe_LightingCost($)\"] = AllMergedAnnualData[\"B_LightingCost($)\"] - AllMergedAnnualData[\"L_LightingCost($)\"]\n",
    "AllMergedAnnualData[\"DeltaLowe_AnnualCost($)\"] = AllMergedAnnualData[\"B_AnnualCost($)\"] - AllMergedAnnualData[\"L_AnnualCost($)\"]\n",
    "AllMergedAnnualData[\"DeltaLowe_FanCost($/sf)\"] = AllMergedAnnualData[\"B_FanCost($/sf)\"] - AllMergedAnnualData[\"L_FanCost($/sf)\"]\n",
    "AllMergedAnnualData[\"DeltaLowe_HeatingElecCost($/sf)\"] = AllMergedAnnualData[\"B_HeatingElecCost($/sf)\"] - AllMergedAnnualData[\"L_HeatingElecCost($/sf)\"]\n",
    "AllMergedAnnualData[\"DeltaLowe_HeatingGasCost($/sf)\"] = AllMergedAnnualData[\"B_HeatingGasCost($/sf)\"] - AllMergedAnnualData[\"L_HeatingGasCost($/sf)\"]\n",
    "AllMergedAnnualData[\"DeltaLowe_CoolingCost($/sf)\"] = AllMergedAnnualData[\"B_CoolingCost($/sf)\"] - AllMergedAnnualData[\"L_CoolingCost($/sf)\"]\n",
    "AllMergedAnnualData[\"DeltaLowe_LightingCost($/sf)\"] = AllMergedAnnualData[\"B_LightingCost($/sf)\"] - AllMergedAnnualData[\"L_LightingCost($/sf)\"]\n",
    "AllMergedAnnualData[\"DeltaLowe_AnnualCost($/sf)\"] = AllMergedAnnualData[\"B_AnnualCost($/sf)\"] - AllMergedAnnualData[\"L_AnnualCost($/sf)\"]\n"
   ]
  },
  {
   "cell_type": "code",
   "execution_count": 49,
   "metadata": {},
   "outputs": [],
   "source": [
    "# list(AllMergedAnnualData.columns.values)"
   ]
  },
  {
   "cell_type": "code",
   "execution_count": 50,
   "metadata": {},
   "outputs": [
    {
     "data": {
      "text/html": [
       "<div>\n",
       "<style scoped>\n",
       "    .dataframe tbody tr th:only-of-type {\n",
       "        vertical-align: middle;\n",
       "    }\n",
       "\n",
       "    .dataframe tbody tr th {\n",
       "        vertical-align: top;\n",
       "    }\n",
       "\n",
       "    .dataframe thead th {\n",
       "        text-align: right;\n",
       "    }\n",
       "</style>\n",
       "<table border=\"1\" class=\"dataframe\">\n",
       "  <thead>\n",
       "    <tr style=\"text-align: right;\">\n",
       "      <th></th>\n",
       "      <th>B_Scenario</th>\n",
       "      <th>B_Date_Time</th>\n",
       "      <th>B_Elevation</th>\n",
       "      <th>B_GlazingSystem</th>\n",
       "      <th>B_FanEnergy(kBtu)</th>\n",
       "      <th>B_HeatingElecEnergy(kBtu)</th>\n",
       "      <th>B_HeatingGasEnergy(kBtu)</th>\n",
       "      <th>B_CoolingEnergy(kBtu)</th>\n",
       "      <th>B_LightingEnergy(kBtu)</th>\n",
       "      <th>B_AnnualEnergy(kBtu)</th>\n",
       "      <th>...</th>\n",
       "      <th>DeltaLowe_HeatingGasCost($)</th>\n",
       "      <th>DeltaLowe_CoolingCost($)</th>\n",
       "      <th>DeltaLowe_LightingCost($)</th>\n",
       "      <th>DeltaLowe_AnnualCost($)</th>\n",
       "      <th>DeltaLowe_FanCost($/sf)</th>\n",
       "      <th>DeltaLowe_HeatingElecCost($/sf)</th>\n",
       "      <th>DeltaLowe_HeatingGasCost($/sf)</th>\n",
       "      <th>DeltaLowe_CoolingCost($/sf)</th>\n",
       "      <th>DeltaLowe_LightingCost($/sf)</th>\n",
       "      <th>DeltaLowe_AnnualCost($/sf)</th>\n",
       "    </tr>\n",
       "  </thead>\n",
       "  <tbody>\n",
       "    <tr>\n",
       "      <th>0</th>\n",
       "      <td>1Eexist</td>\n",
       "      <td>01/01  01:00:00</td>\n",
       "      <td>E</td>\n",
       "      <td>Exist</td>\n",
       "      <td>1.317283</td>\n",
       "      <td>0.0</td>\n",
       "      <td>1.603429</td>\n",
       "      <td>0.0</td>\n",
       "      <td>0.037261</td>\n",
       "      <td>1.354544</td>\n",
       "      <td>...</td>\n",
       "      <td>0.001636</td>\n",
       "      <td>0.0</td>\n",
       "      <td>0.0</td>\n",
       "      <td>0.010528</td>\n",
       "      <td>0.000042</td>\n",
       "      <td>0.0</td>\n",
       "      <td>0.000008</td>\n",
       "      <td>0.0</td>\n",
       "      <td>0.0</td>\n",
       "      <td>0.000050</td>\n",
       "    </tr>\n",
       "    <tr>\n",
       "      <th>1</th>\n",
       "      <td>1Eexist</td>\n",
       "      <td>01/01  02:00:00</td>\n",
       "      <td>E</td>\n",
       "      <td>Exist</td>\n",
       "      <td>1.317283</td>\n",
       "      <td>0.0</td>\n",
       "      <td>1.877308</td>\n",
       "      <td>0.0</td>\n",
       "      <td>0.037261</td>\n",
       "      <td>1.354544</td>\n",
       "      <td>...</td>\n",
       "      <td>0.001970</td>\n",
       "      <td>0.0</td>\n",
       "      <td>0.0</td>\n",
       "      <td>0.010861</td>\n",
       "      <td>0.000042</td>\n",
       "      <td>0.0</td>\n",
       "      <td>0.000009</td>\n",
       "      <td>0.0</td>\n",
       "      <td>0.0</td>\n",
       "      <td>0.000052</td>\n",
       "    </tr>\n",
       "    <tr>\n",
       "      <th>2</th>\n",
       "      <td>1Eexist</td>\n",
       "      <td>01/01  03:00:00</td>\n",
       "      <td>E</td>\n",
       "      <td>Exist</td>\n",
       "      <td>1.317283</td>\n",
       "      <td>0.0</td>\n",
       "      <td>1.897238</td>\n",
       "      <td>0.0</td>\n",
       "      <td>0.015764</td>\n",
       "      <td>1.333047</td>\n",
       "      <td>...</td>\n",
       "      <td>0.002026</td>\n",
       "      <td>0.0</td>\n",
       "      <td>0.0</td>\n",
       "      <td>0.010917</td>\n",
       "      <td>0.000042</td>\n",
       "      <td>0.0</td>\n",
       "      <td>0.000010</td>\n",
       "      <td>0.0</td>\n",
       "      <td>0.0</td>\n",
       "      <td>0.000052</td>\n",
       "    </tr>\n",
       "    <tr>\n",
       "      <th>3</th>\n",
       "      <td>1Eexist</td>\n",
       "      <td>01/01  04:00:00</td>\n",
       "      <td>E</td>\n",
       "      <td>Exist</td>\n",
       "      <td>1.317283</td>\n",
       "      <td>0.0</td>\n",
       "      <td>1.879962</td>\n",
       "      <td>0.0</td>\n",
       "      <td>0.015764</td>\n",
       "      <td>1.333047</td>\n",
       "      <td>...</td>\n",
       "      <td>0.002028</td>\n",
       "      <td>0.0</td>\n",
       "      <td>0.0</td>\n",
       "      <td>0.010919</td>\n",
       "      <td>0.000042</td>\n",
       "      <td>0.0</td>\n",
       "      <td>0.000010</td>\n",
       "      <td>0.0</td>\n",
       "      <td>0.0</td>\n",
       "      <td>0.000052</td>\n",
       "    </tr>\n",
       "    <tr>\n",
       "      <th>4</th>\n",
       "      <td>1Eexist</td>\n",
       "      <td>01/01  05:00:00</td>\n",
       "      <td>E</td>\n",
       "      <td>Exist</td>\n",
       "      <td>1.317283</td>\n",
       "      <td>0.0</td>\n",
       "      <td>1.856519</td>\n",
       "      <td>0.0</td>\n",
       "      <td>0.015764</td>\n",
       "      <td>1.333047</td>\n",
       "      <td>...</td>\n",
       "      <td>0.002028</td>\n",
       "      <td>0.0</td>\n",
       "      <td>0.0</td>\n",
       "      <td>0.010919</td>\n",
       "      <td>0.000042</td>\n",
       "      <td>0.0</td>\n",
       "      <td>0.000010</td>\n",
       "      <td>0.0</td>\n",
       "      <td>0.0</td>\n",
       "      <td>0.000052</td>\n",
       "    </tr>\n",
       "    <tr>\n",
       "      <th>...</th>\n",
       "      <td>...</td>\n",
       "      <td>...</td>\n",
       "      <td>...</td>\n",
       "      <td>...</td>\n",
       "      <td>...</td>\n",
       "      <td>...</td>\n",
       "      <td>...</td>\n",
       "      <td>...</td>\n",
       "      <td>...</td>\n",
       "      <td>...</td>\n",
       "      <td>...</td>\n",
       "      <td>...</td>\n",
       "      <td>...</td>\n",
       "      <td>...</td>\n",
       "      <td>...</td>\n",
       "      <td>...</td>\n",
       "      <td>...</td>\n",
       "      <td>...</td>\n",
       "      <td>...</td>\n",
       "      <td>...</td>\n",
       "      <td>...</td>\n",
       "    </tr>\n",
       "    <tr>\n",
       "      <th>26275</th>\n",
       "      <td>1NWexist</td>\n",
       "      <td>12/31  20:00:00</td>\n",
       "      <td>NW</td>\n",
       "      <td>Exist</td>\n",
       "      <td>0.631470</td>\n",
       "      <td>0.0</td>\n",
       "      <td>2.064089</td>\n",
       "      <td>0.0</td>\n",
       "      <td>0.143310</td>\n",
       "      <td>0.774780</td>\n",
       "      <td>...</td>\n",
       "      <td>0.001949</td>\n",
       "      <td>0.0</td>\n",
       "      <td>0.0</td>\n",
       "      <td>0.005950</td>\n",
       "      <td>0.000019</td>\n",
       "      <td>0.0</td>\n",
       "      <td>0.000009</td>\n",
       "      <td>0.0</td>\n",
       "      <td>0.0</td>\n",
       "      <td>0.000028</td>\n",
       "    </tr>\n",
       "    <tr>\n",
       "      <th>26276</th>\n",
       "      <td>1NWexist</td>\n",
       "      <td>12/31  21:00:00</td>\n",
       "      <td>NW</td>\n",
       "      <td>Exist</td>\n",
       "      <td>0.631470</td>\n",
       "      <td>0.0</td>\n",
       "      <td>1.947006</td>\n",
       "      <td>0.0</td>\n",
       "      <td>0.143310</td>\n",
       "      <td>0.774780</td>\n",
       "      <td>...</td>\n",
       "      <td>0.001985</td>\n",
       "      <td>0.0</td>\n",
       "      <td>0.0</td>\n",
       "      <td>0.005987</td>\n",
       "      <td>0.000019</td>\n",
       "      <td>0.0</td>\n",
       "      <td>0.000009</td>\n",
       "      <td>0.0</td>\n",
       "      <td>0.0</td>\n",
       "      <td>0.000029</td>\n",
       "    </tr>\n",
       "    <tr>\n",
       "      <th>26277</th>\n",
       "      <td>1NWexist</td>\n",
       "      <td>12/31  22:00:00</td>\n",
       "      <td>NW</td>\n",
       "      <td>Exist</td>\n",
       "      <td>0.631470</td>\n",
       "      <td>0.0</td>\n",
       "      <td>1.985043</td>\n",
       "      <td>0.0</td>\n",
       "      <td>0.143310</td>\n",
       "      <td>0.774780</td>\n",
       "      <td>...</td>\n",
       "      <td>0.002045</td>\n",
       "      <td>0.0</td>\n",
       "      <td>0.0</td>\n",
       "      <td>0.006046</td>\n",
       "      <td>0.000019</td>\n",
       "      <td>0.0</td>\n",
       "      <td>0.000010</td>\n",
       "      <td>0.0</td>\n",
       "      <td>0.0</td>\n",
       "      <td>0.000029</td>\n",
       "    </tr>\n",
       "    <tr>\n",
       "      <th>26278</th>\n",
       "      <td>1NWexist</td>\n",
       "      <td>12/31  23:00:00</td>\n",
       "      <td>NW</td>\n",
       "      <td>Exist</td>\n",
       "      <td>0.631470</td>\n",
       "      <td>0.0</td>\n",
       "      <td>2.281612</td>\n",
       "      <td>0.0</td>\n",
       "      <td>0.121813</td>\n",
       "      <td>0.753284</td>\n",
       "      <td>...</td>\n",
       "      <td>0.002140</td>\n",
       "      <td>0.0</td>\n",
       "      <td>0.0</td>\n",
       "      <td>0.006141</td>\n",
       "      <td>0.000019</td>\n",
       "      <td>0.0</td>\n",
       "      <td>0.000010</td>\n",
       "      <td>0.0</td>\n",
       "      <td>0.0</td>\n",
       "      <td>0.000029</td>\n",
       "    </tr>\n",
       "    <tr>\n",
       "      <th>26279</th>\n",
       "      <td>1NWexist</td>\n",
       "      <td>12/31  24:00:00</td>\n",
       "      <td>NW</td>\n",
       "      <td>Exist</td>\n",
       "      <td>0.631470</td>\n",
       "      <td>0.0</td>\n",
       "      <td>2.469275</td>\n",
       "      <td>0.0</td>\n",
       "      <td>0.058757</td>\n",
       "      <td>0.690227</td>\n",
       "      <td>...</td>\n",
       "      <td>0.002186</td>\n",
       "      <td>0.0</td>\n",
       "      <td>0.0</td>\n",
       "      <td>0.006187</td>\n",
       "      <td>0.000019</td>\n",
       "      <td>0.0</td>\n",
       "      <td>0.000010</td>\n",
       "      <td>0.0</td>\n",
       "      <td>0.0</td>\n",
       "      <td>0.000029</td>\n",
       "    </tr>\n",
       "  </tbody>\n",
       "</table>\n",
       "<p>26280 rows × 130 columns</p>\n",
       "</div>"
      ],
      "text/plain": [
       "      B_Scenario       B_Date_Time B_Elevation B_GlazingSystem  \\\n",
       "0        1Eexist   01/01  01:00:00           E           Exist   \n",
       "1        1Eexist   01/01  02:00:00           E           Exist   \n",
       "2        1Eexist   01/01  03:00:00           E           Exist   \n",
       "3        1Eexist   01/01  04:00:00           E           Exist   \n",
       "4        1Eexist   01/01  05:00:00           E           Exist   \n",
       "...          ...               ...         ...             ...   \n",
       "26275   1NWexist   12/31  20:00:00          NW           Exist   \n",
       "26276   1NWexist   12/31  21:00:00          NW           Exist   \n",
       "26277   1NWexist   12/31  22:00:00          NW           Exist   \n",
       "26278   1NWexist   12/31  23:00:00          NW           Exist   \n",
       "26279   1NWexist   12/31  24:00:00          NW           Exist   \n",
       "\n",
       "       B_FanEnergy(kBtu)  B_HeatingElecEnergy(kBtu)  B_HeatingGasEnergy(kBtu)  \\\n",
       "0               1.317283                        0.0                  1.603429   \n",
       "1               1.317283                        0.0                  1.877308   \n",
       "2               1.317283                        0.0                  1.897238   \n",
       "3               1.317283                        0.0                  1.879962   \n",
       "4               1.317283                        0.0                  1.856519   \n",
       "...                  ...                        ...                       ...   \n",
       "26275           0.631470                        0.0                  2.064089   \n",
       "26276           0.631470                        0.0                  1.947006   \n",
       "26277           0.631470                        0.0                  1.985043   \n",
       "26278           0.631470                        0.0                  2.281612   \n",
       "26279           0.631470                        0.0                  2.469275   \n",
       "\n",
       "       B_CoolingEnergy(kBtu)  B_LightingEnergy(kBtu)  B_AnnualEnergy(kBtu)  \\\n",
       "0                        0.0                0.037261              1.354544   \n",
       "1                        0.0                0.037261              1.354544   \n",
       "2                        0.0                0.015764              1.333047   \n",
       "3                        0.0                0.015764              1.333047   \n",
       "4                        0.0                0.015764              1.333047   \n",
       "...                      ...                     ...                   ...   \n",
       "26275                    0.0                0.143310              0.774780   \n",
       "26276                    0.0                0.143310              0.774780   \n",
       "26277                    0.0                0.143310              0.774780   \n",
       "26278                    0.0                0.121813              0.753284   \n",
       "26279                    0.0                0.058757              0.690227   \n",
       "\n",
       "       ...  DeltaLowe_HeatingGasCost($)  DeltaLowe_CoolingCost($)  \\\n",
       "0      ...                     0.001636                       0.0   \n",
       "1      ...                     0.001970                       0.0   \n",
       "2      ...                     0.002026                       0.0   \n",
       "3      ...                     0.002028                       0.0   \n",
       "4      ...                     0.002028                       0.0   \n",
       "...    ...                          ...                       ...   \n",
       "26275  ...                     0.001949                       0.0   \n",
       "26276  ...                     0.001985                       0.0   \n",
       "26277  ...                     0.002045                       0.0   \n",
       "26278  ...                     0.002140                       0.0   \n",
       "26279  ...                     0.002186                       0.0   \n",
       "\n",
       "       DeltaLowe_LightingCost($)  DeltaLowe_AnnualCost($)  \\\n",
       "0                            0.0                 0.010528   \n",
       "1                            0.0                 0.010861   \n",
       "2                            0.0                 0.010917   \n",
       "3                            0.0                 0.010919   \n",
       "4                            0.0                 0.010919   \n",
       "...                          ...                      ...   \n",
       "26275                        0.0                 0.005950   \n",
       "26276                        0.0                 0.005987   \n",
       "26277                        0.0                 0.006046   \n",
       "26278                        0.0                 0.006141   \n",
       "26279                        0.0                 0.006187   \n",
       "\n",
       "       DeltaLowe_FanCost($/sf)  DeltaLowe_HeatingElecCost($/sf)  \\\n",
       "0                     0.000042                              0.0   \n",
       "1                     0.000042                              0.0   \n",
       "2                     0.000042                              0.0   \n",
       "3                     0.000042                              0.0   \n",
       "4                     0.000042                              0.0   \n",
       "...                        ...                              ...   \n",
       "26275                 0.000019                              0.0   \n",
       "26276                 0.000019                              0.0   \n",
       "26277                 0.000019                              0.0   \n",
       "26278                 0.000019                              0.0   \n",
       "26279                 0.000019                              0.0   \n",
       "\n",
       "       DeltaLowe_HeatingGasCost($/sf)  DeltaLowe_CoolingCost($/sf)  \\\n",
       "0                            0.000008                          0.0   \n",
       "1                            0.000009                          0.0   \n",
       "2                            0.000010                          0.0   \n",
       "3                            0.000010                          0.0   \n",
       "4                            0.000010                          0.0   \n",
       "...                               ...                          ...   \n",
       "26275                        0.000009                          0.0   \n",
       "26276                        0.000009                          0.0   \n",
       "26277                        0.000010                          0.0   \n",
       "26278                        0.000010                          0.0   \n",
       "26279                        0.000010                          0.0   \n",
       "\n",
       "       DeltaLowe_LightingCost($/sf)  DeltaLowe_AnnualCost($/sf)  \n",
       "0                               0.0                    0.000050  \n",
       "1                               0.0                    0.000052  \n",
       "2                               0.0                    0.000052  \n",
       "3                               0.0                    0.000052  \n",
       "4                               0.0                    0.000052  \n",
       "...                             ...                         ...  \n",
       "26275                           0.0                    0.000028  \n",
       "26276                           0.0                    0.000029  \n",
       "26277                           0.0                    0.000029  \n",
       "26278                           0.0                    0.000029  \n",
       "26279                           0.0                    0.000029  \n",
       "\n",
       "[26280 rows x 130 columns]"
      ]
     },
     "execution_count": 50,
     "metadata": {},
     "output_type": "execute_result"
    }
   ],
   "source": [
    "AllMergedAnnualData"
   ]
  },
  {
   "cell_type": "markdown",
   "metadata": {},
   "source": [
    "---\n",
    "## Group and Export Annual Delta Data\n",
    "Group dataframe by scenario<br>\n",
    "Export to file"
   ]
  },
  {
   "cell_type": "code",
   "execution_count": 51,
   "metadata": {},
   "outputs": [
    {
     "data": {
      "text/html": [
       "<div>\n",
       "<style scoped>\n",
       "    .dataframe tbody tr th:only-of-type {\n",
       "        vertical-align: middle;\n",
       "    }\n",
       "\n",
       "    .dataframe tbody tr th {\n",
       "        vertical-align: top;\n",
       "    }\n",
       "\n",
       "    .dataframe thead th {\n",
       "        text-align: right;\n",
       "    }\n",
       "</style>\n",
       "<table border=\"1\" class=\"dataframe\">\n",
       "  <thead>\n",
       "    <tr style=\"text-align: right;\">\n",
       "      <th></th>\n",
       "      <th>B_Scenario</th>\n",
       "      <th>B_Elevation</th>\n",
       "      <th>B_GlazingSystem</th>\n",
       "      <th>B_FanEnergy(kBtu)</th>\n",
       "      <th>B_HeatingElecEnergy(kBtu)</th>\n",
       "      <th>B_HeatingGasEnergy(kBtu)</th>\n",
       "      <th>B_CoolingEnergy(kBtu)</th>\n",
       "      <th>B_LightingEnergy(kBtu)</th>\n",
       "      <th>B_AnnualEnergy(kBtu)</th>\n",
       "      <th>B_FanEnergy(kBtu/sf)</th>\n",
       "      <th>...</th>\n",
       "      <th>DeltaLowe_HeatingGasCost($)</th>\n",
       "      <th>DeltaLowe_CoolingCost($)</th>\n",
       "      <th>DeltaLowe_LightingCost($)</th>\n",
       "      <th>DeltaLowe_AnnualCost($)</th>\n",
       "      <th>DeltaLowe_FanCost($/sf)</th>\n",
       "      <th>DeltaLowe_HeatingElecCost($/sf)</th>\n",
       "      <th>DeltaLowe_HeatingGasCost($/sf)</th>\n",
       "      <th>DeltaLowe_CoolingCost($/sf)</th>\n",
       "      <th>DeltaLowe_LightingCost($/sf)</th>\n",
       "      <th>DeltaLowe_AnnualCost($/sf)</th>\n",
       "    </tr>\n",
       "  </thead>\n",
       "  <tbody>\n",
       "    <tr>\n",
       "      <th>0</th>\n",
       "      <td>1Eexist</td>\n",
       "      <td>E</td>\n",
       "      <td>Exist</td>\n",
       "      <td>11539.402491</td>\n",
       "      <td>0.0</td>\n",
       "      <td>3047.905108</td>\n",
       "      <td>6128.168118</td>\n",
       "      <td>517.381876</td>\n",
       "      <td>18184.952485</td>\n",
       "      <td>54.949536</td>\n",
       "      <td>...</td>\n",
       "      <td>3.057809</td>\n",
       "      <td>39.252430</td>\n",
       "      <td>0.0</td>\n",
       "      <td>120.201312</td>\n",
       "      <td>0.370910</td>\n",
       "      <td>0.0</td>\n",
       "      <td>0.014561</td>\n",
       "      <td>0.186916</td>\n",
       "      <td>0.0</td>\n",
       "      <td>0.572387</td>\n",
       "    </tr>\n",
       "    <tr>\n",
       "      <th>1</th>\n",
       "      <td>1NWexist</td>\n",
       "      <td>NW</td>\n",
       "      <td>Exist</td>\n",
       "      <td>5531.677939</td>\n",
       "      <td>0.0</td>\n",
       "      <td>10939.317555</td>\n",
       "      <td>2770.664011</td>\n",
       "      <td>517.381876</td>\n",
       "      <td>8819.723825</td>\n",
       "      <td>26.341324</td>\n",
       "      <td>...</td>\n",
       "      <td>8.649854</td>\n",
       "      <td>15.932216</td>\n",
       "      <td>0.0</td>\n",
       "      <td>59.633544</td>\n",
       "      <td>0.166912</td>\n",
       "      <td>0.0</td>\n",
       "      <td>0.041190</td>\n",
       "      <td>0.075868</td>\n",
       "      <td>0.0</td>\n",
       "      <td>0.283969</td>\n",
       "    </tr>\n",
       "    <tr>\n",
       "      <th>2</th>\n",
       "      <td>1SWexist</td>\n",
       "      <td>SW</td>\n",
       "      <td>Exist</td>\n",
       "      <td>7919.625871</td>\n",
       "      <td>0.0</td>\n",
       "      <td>5063.978717</td>\n",
       "      <td>5647.202682</td>\n",
       "      <td>517.381876</td>\n",
       "      <td>14084.210429</td>\n",
       "      <td>37.712504</td>\n",
       "      <td>...</td>\n",
       "      <td>2.659791</td>\n",
       "      <td>42.988395</td>\n",
       "      <td>0.0</td>\n",
       "      <td>99.851918</td>\n",
       "      <td>0.258113</td>\n",
       "      <td>0.0</td>\n",
       "      <td>0.012666</td>\n",
       "      <td>0.204707</td>\n",
       "      <td>0.0</td>\n",
       "      <td>0.475485</td>\n",
       "    </tr>\n",
       "  </tbody>\n",
       "</table>\n",
       "<p>3 rows × 121 columns</p>\n",
       "</div>"
      ],
      "text/plain": [
       "  B_Scenario B_Elevation B_GlazingSystem  B_FanEnergy(kBtu)  \\\n",
       "0    1Eexist           E           Exist       11539.402491   \n",
       "1   1NWexist          NW           Exist        5531.677939   \n",
       "2   1SWexist          SW           Exist        7919.625871   \n",
       "\n",
       "   B_HeatingElecEnergy(kBtu)  B_HeatingGasEnergy(kBtu)  B_CoolingEnergy(kBtu)  \\\n",
       "0                        0.0               3047.905108            6128.168118   \n",
       "1                        0.0              10939.317555            2770.664011   \n",
       "2                        0.0               5063.978717            5647.202682   \n",
       "\n",
       "   B_LightingEnergy(kBtu)  B_AnnualEnergy(kBtu)  B_FanEnergy(kBtu/sf)  ...  \\\n",
       "0              517.381876          18184.952485             54.949536  ...   \n",
       "1              517.381876           8819.723825             26.341324  ...   \n",
       "2              517.381876          14084.210429             37.712504  ...   \n",
       "\n",
       "   DeltaLowe_HeatingGasCost($)  DeltaLowe_CoolingCost($)  \\\n",
       "0                     3.057809                 39.252430   \n",
       "1                     8.649854                 15.932216   \n",
       "2                     2.659791                 42.988395   \n",
       "\n",
       "   DeltaLowe_LightingCost($)  DeltaLowe_AnnualCost($)  \\\n",
       "0                        0.0               120.201312   \n",
       "1                        0.0                59.633544   \n",
       "2                        0.0                99.851918   \n",
       "\n",
       "   DeltaLowe_FanCost($/sf)  DeltaLowe_HeatingElecCost($/sf)  \\\n",
       "0                 0.370910                              0.0   \n",
       "1                 0.166912                              0.0   \n",
       "2                 0.258113                              0.0   \n",
       "\n",
       "   DeltaLowe_HeatingGasCost($/sf)  DeltaLowe_CoolingCost($/sf)  \\\n",
       "0                        0.014561                     0.186916   \n",
       "1                        0.041190                     0.075868   \n",
       "2                        0.012666                     0.204707   \n",
       "\n",
       "   DeltaLowe_LightingCost($/sf)  DeltaLowe_AnnualCost($/sf)  \n",
       "0                           0.0                    0.572387  \n",
       "1                           0.0                    0.283969  \n",
       "2                           0.0                    0.475485  \n",
       "\n",
       "[3 rows x 121 columns]"
      ]
     },
     "execution_count": 51,
     "metadata": {},
     "output_type": "execute_result"
    }
   ],
   "source": [
    "# Group by scenario\n",
    "AnnualDataDelta = AllMergedAnnualData.groupby([\"B_Scenario\", \"B_Elevation\", \"B_GlazingSystem\"], as_index=False)\n",
    "\n",
    "AnnualDataDelta.sum()"
   ]
  },
  {
   "cell_type": "code",
   "execution_count": 52,
   "metadata": {},
   "outputs": [
    {
     "data": {
      "text/plain": [
       "['B_Scenario',\n",
       " 'B_Elevation',\n",
       " 'B_GlazingSystem',\n",
       " 'B_FanEnergy(kBtu)',\n",
       " 'B_HeatingElecEnergy(kBtu)',\n",
       " 'B_HeatingGasEnergy(kBtu)',\n",
       " 'B_CoolingEnergy(kBtu)',\n",
       " 'B_LightingEnergy(kBtu)',\n",
       " 'B_AnnualEnergy(kBtu)',\n",
       " 'B_FanEnergy(kBtu/sf)',\n",
       " 'B_HeatingElecEnergy(kBtu/sf)',\n",
       " 'B_HeatingGasEnergy(kBtu/sf)',\n",
       " 'B_CoolingEnergy(kBtu/sf)',\n",
       " 'B_LightingEnergy(kBtu/sf)',\n",
       " 'B_EUI(kBtu/sf)',\n",
       " 'B_CO2_Electric(lb/sf)',\n",
       " 'B_CO2_Gas(lb/sf)',\n",
       " 'B_FanCost($)',\n",
       " 'B_HeatingElecCost($)',\n",
       " 'B_HeatingGasCost($)',\n",
       " 'B_CoolingCost($)',\n",
       " 'B_LightingCost($)',\n",
       " 'B_AnnualCost($)',\n",
       " 'B_FanCost($/sf)',\n",
       " 'B_HeatingElecCost($/sf)',\n",
       " 'B_HeatingGasCost($/sf)',\n",
       " 'B_CoolingCost($/sf)',\n",
       " 'B_LightingCost($/sf)',\n",
       " 'B_AnnualCost($/sf)',\n",
       " 'C_FanEnergy(kBtu)',\n",
       " 'C_HeatingElecEnergy(kBtu)',\n",
       " 'C_HeatingGasEnergy(kBtu)',\n",
       " 'C_CoolingEnergy(kBtu)',\n",
       " 'C_LightingEnergy(kBtu)',\n",
       " 'C_AnnualEnergy(kBtu)',\n",
       " 'C_FanEnergy(kBtu/sf)',\n",
       " 'C_HeatingElecEnergy(kBtu/sf)',\n",
       " 'C_HeatingGasEnergy(kBtu/sf)',\n",
       " 'C_CoolingEnergy(kBtu/sf)',\n",
       " 'C_LightingEnergy(kBtu/sf)',\n",
       " 'C_EUI(kBtu/sf)',\n",
       " 'C_CO2_Electric(lb/sf)',\n",
       " 'C_CO2_Gas(lb/sf)',\n",
       " 'C_FanCost($)',\n",
       " 'C_HeatingElecCost($)',\n",
       " 'C_HeatingGasCost($)',\n",
       " 'C_CoolingCost($)',\n",
       " 'C_LightingCost($)',\n",
       " 'C_AnnualCost($)',\n",
       " 'C_FanCost($/sf)',\n",
       " 'C_HeatingElecCost($/sf)',\n",
       " 'C_HeatingGasCost($/sf)',\n",
       " 'C_CoolingCost($/sf)',\n",
       " 'C_LightingCost($/sf)',\n",
       " 'C_AnnualCost($/sf)',\n",
       " 'L_FanEnergy(kBtu)',\n",
       " 'L_HeatingElecEnergy(kBtu)',\n",
       " 'L_HeatingGasEnergy(kBtu)',\n",
       " 'L_CoolingEnergy(kBtu)',\n",
       " 'L_LightingEnergy(kBtu)',\n",
       " 'L_AnnualEnergy(kBtu)',\n",
       " 'L_FanEnergy(kBtu/sf)',\n",
       " 'L_HeatingElecEnergy(kBtu/sf)',\n",
       " 'L_HeatingGasEnergy(kBtu/sf)',\n",
       " 'L_CoolingEnergy(kBtu/sf)',\n",
       " 'L_LightingEnergy(kBtu/sf)',\n",
       " 'L_EUI(kBtu/sf)',\n",
       " 'L_CO2_Electric(lb/sf)',\n",
       " 'L_CO2_Gas(lb/sf)',\n",
       " 'L_FanCost($)',\n",
       " 'L_HeatingElecCost($)',\n",
       " 'L_HeatingGasCost($)',\n",
       " 'L_CoolingCost($)',\n",
       " 'L_LightingCost($)',\n",
       " 'L_AnnualCost($)',\n",
       " 'L_FanCost($/sf)',\n",
       " 'L_HeatingElecCost($/sf)',\n",
       " 'L_HeatingGasCost($/sf)',\n",
       " 'L_CoolingCost($/sf)',\n",
       " 'L_LightingCost($/sf)',\n",
       " 'L_AnnualCost($/sf)',\n",
       " 'DeltaClear_FanEnergy(kBtu/sf)',\n",
       " 'DeltaClear_HeatingElecEnergy(kBtu/sf)',\n",
       " 'DeltaClear_HeatingGasEnergy(kBtu/sf)',\n",
       " 'DeltaClear_CoolingEnergy(kBtu/sf)',\n",
       " 'DeltaClear_LightingEnergy(kBtu/sf)',\n",
       " 'DeltaClear_EUI(kBtu/sf)',\n",
       " 'DeltaClear_CO2_Electric(lb/sf)',\n",
       " 'DeltaClear_CO2_Gas(lb/sf)',\n",
       " 'DeltaClear_FanCost($)',\n",
       " 'DeltaClear_HeatingElecCost($)',\n",
       " 'DeltaClear_HeatingGasCost($)',\n",
       " 'DeltaClear_CoolingCost($)',\n",
       " 'DeltaClear_LightingCost($)',\n",
       " 'DeltaClear_AnnualCost($)',\n",
       " 'DeltaClear_FanCost($/sf)',\n",
       " 'DeltaClear_HeatingElecCost($/sf)',\n",
       " 'DeltaClear_HeatingGasCost($/sf)',\n",
       " 'DeltaClear_CoolingCost($/sf)',\n",
       " 'DeltaClear_LightingCost($/sf)',\n",
       " 'DeltaClear_AnnualCost($/sf)',\n",
       " 'DeltaLowe_FanEnergy(kBtu/sf)',\n",
       " 'DeltaLowe_HeatingElecEnergy(kBtu/sf)',\n",
       " 'DeltaLowe_HeatingGasEnergy(kBtu/sf)',\n",
       " 'DeltaLowe_CoolingEnergy(kBtu/sf)',\n",
       " 'DeltaLowe_LightingEnergy(kBtu/sf)',\n",
       " 'DeltaLowe_EUI(kBtu/sf)',\n",
       " 'DeltaLowe_CO2_Electric(lb/sf)',\n",
       " 'DeltaLowe_CO2_Gas(lb/sf)',\n",
       " 'DeltaLowe_FanCost($)',\n",
       " 'DeltaLowe_HeatingElecCost($)',\n",
       " 'DeltaLowe_HeatingGasCost($)',\n",
       " 'DeltaLowe_CoolingCost($)',\n",
       " 'DeltaLowe_LightingCost($)',\n",
       " 'DeltaLowe_AnnualCost($)',\n",
       " 'DeltaLowe_FanCost($/sf)',\n",
       " 'DeltaLowe_HeatingElecCost($/sf)',\n",
       " 'DeltaLowe_HeatingGasCost($/sf)',\n",
       " 'DeltaLowe_CoolingCost($/sf)',\n",
       " 'DeltaLowe_LightingCost($/sf)',\n",
       " 'DeltaLowe_AnnualCost($/sf)']"
      ]
     },
     "execution_count": 52,
     "metadata": {},
     "output_type": "execute_result"
    }
   ],
   "source": [
    "list(AnnualDataDelta.sum().columns.values)"
   ]
  },
  {
   "cell_type": "code",
   "execution_count": 53,
   "metadata": {},
   "outputs": [],
   "source": [
    "AnnualDataDelta = AnnualDataDelta.sum()"
   ]
  },
  {
   "cell_type": "code",
   "execution_count": 54,
   "metadata": {},
   "outputs": [],
   "source": [
    "# Export grouped file to csv\n",
    "AnnualDataDelta.to_csv(\"Scraper_Output/msp_deltas_annual_com.csv\", header=True, index=False)"
   ]
  },
  {
   "cell_type": "markdown",
   "metadata": {},
   "source": [
    "## Find Peak Demand\n",
    "Slice data to find peak demand for each scenario<br>\n",
    "Export to csv"
   ]
  },
  {
   "cell_type": "code",
   "execution_count": 55,
   "metadata": {},
   "outputs": [],
   "source": [
    "# Copy dataframe to modify and leave original df intact\n",
    "get_peak_ComElec = all_ComElec2.copy(deep=True)\n",
    "\n",
    "# get_peak_ComElec"
   ]
  },
  {
   "cell_type": "code",
   "execution_count": 56,
   "metadata": {
    "scrolled": true
   },
   "outputs": [],
   "source": [
    "# Add energy totals\n",
    "# divide by the number of seconds in an hour (3600)\n",
    "totalComPeak = (get_peak_ComElec[\"FanEnergy[J](Hourly)\"] + get_peak_ComElec[\"HeatingElecEnergy[J](Hourly)\"] + get_peak_ComElec[\"HeatingGasEnergy[J](Hourly)\"] + get_peak_ComElec[\"CoolingEnergy[J](Hourly)\"] + get_peak_ComElec[\"LightingEnergy[J](Hourly)\"])\n",
    "        \n",
    "get_peak_ComElec[\"PeakEnergy[J](Hourly)\"] = totalComPeak\n",
    "\n",
    "get_peak_ComElec[\"PeakEnergy(w)\"] = (get_peak_ComElec[\"PeakEnergy[J](Hourly)\"] / 3600)\n",
    "\n",
    "get_peak_ComElec[\"PeakEnergy(w/sf)\"] = (get_peak_ComElec[\"PeakEnergy(w)\"] / sf)\n",
    "\n",
    "# get_peak_ComElec"
   ]
  },
  {
   "cell_type": "code",
   "execution_count": 57,
   "metadata": {},
   "outputs": [],
   "source": [
    "# Get scenario and find the max\n",
    "Eexist = get_peak_ComElec[get_peak_ComElec[\"Scenario\"] == \"1Eexist\"]\n",
    "Eclear = get_peak_ComElec[get_peak_ComElec[\"Scenario\"] == \"2Eclear\"]\n",
    "Elowe = get_peak_ComElec[get_peak_ComElec[\"Scenario\"] == \"3Elowe\"]\n",
    "NWexist = get_peak_ComElec[get_peak_ComElec[\"Scenario\"] == \"1NWexist\"]\n",
    "NWclear = get_peak_ComElec[get_peak_ComElec[\"Scenario\"] == \"2NWclear\"]\n",
    "NWlowe = get_peak_ComElec[get_peak_ComElec[\"Scenario\"] == \"3NWlowe\"]\n",
    "SWexist = get_peak_ComElec[get_peak_ComElec[\"Scenario\"] == \"1SWexist\"]\n",
    "SWclear = get_peak_ComElec[get_peak_ComElec[\"Scenario\"] == \"2SWclear\"]\n",
    "SWlowe = get_peak_ComElec[get_peak_ComElec[\"Scenario\"] == \"3SWlowe\"]\n"
   ]
  },
  {
   "cell_type": "code",
   "execution_count": 58,
   "metadata": {},
   "outputs": [],
   "source": [
    "EexistPeak = (Eexist[Eexist[\"PeakEnergy[J](Hourly)\"] == Eexist[\"PeakEnergy[J](Hourly)\"].max()])\n",
    "EclearPeak = (Eclear[Eclear[\"PeakEnergy[J](Hourly)\"] == Eclear[\"PeakEnergy[J](Hourly)\"].max()])\n",
    "ElowePeak = (Elowe[Elowe[\"PeakEnergy[J](Hourly)\"] == Elowe[\"PeakEnergy[J](Hourly)\"].max()])\n",
    "NWexistPeak = (NWexist[NWexist[\"PeakEnergy[J](Hourly)\"] == NWexist[\"PeakEnergy[J](Hourly)\"].max()])\n",
    "NWclearPeak = (NWclear[NWclear[\"PeakEnergy[J](Hourly)\"] == NWclear[\"PeakEnergy[J](Hourly)\"].max()])\n",
    "NWlowePeak = (NWlowe[NWlowe[\"PeakEnergy[J](Hourly)\"] == NWlowe[\"PeakEnergy[J](Hourly)\"].max()])\n",
    "SWexistPeak = (SWexist[SWexist[\"PeakEnergy[J](Hourly)\"] == SWexist[\"PeakEnergy[J](Hourly)\"].max()])\n",
    "SWclearPeak = (SWclear[SWclear[\"PeakEnergy[J](Hourly)\"] == SWclear[\"PeakEnergy[J](Hourly)\"].max()])\n",
    "SWlowePeak = (SWlowe[SWlowe[\"PeakEnergy[J](Hourly)\"] == SWlowe[\"PeakEnergy[J](Hourly)\"].max()])\n"
   ]
  },
  {
   "cell_type": "code",
   "execution_count": 59,
   "metadata": {},
   "outputs": [],
   "source": [
    "PeakDemandElec = EexistPeak.append([EclearPeak,\n",
    "ElowePeak,\n",
    "NWexistPeak,\n",
    "NWclearPeak,\n",
    "NWlowePeak,\n",
    "SWexistPeak,\n",
    "SWclearPeak,\n",
    "SWlowePeak\n",
    "])\n",
    "\n",
    "# PeakDemandElec"
   ]
  },
  {
   "cell_type": "code",
   "execution_count": 60,
   "metadata": {},
   "outputs": [],
   "source": [
    "# Export dataframe  to csv\n",
    "PeakDemandElec.to_csv(\"Scraper_Output/msp_peak_com.csv\", header=True, index=False)"
   ]
  },
  {
   "cell_type": "markdown",
   "metadata": {},
   "source": [
    "---\n",
    "\n",
    "## Establish dataframes for each condition to determine delta from existing\n",
    "\n",
    "Create dataset with just existing condition.<br> \n",
    "Created a dataset with clear panel. <br>\n",
    "Create a dataset with lowe panel.<br>\n",
    "Export to CSV files\n"
   ]
  },
  {
   "cell_type": "code",
   "execution_count": 61,
   "metadata": {},
   "outputs": [],
   "source": [
    "# Define the scenario for the existing condition.\n",
    "baselinePeakDemandElec = PeakDemandElec[PeakDemandElec[\"GlazingSystem\"] == \"Exist\"]\n",
    "\n",
    "# baselinePeakDemandElec"
   ]
  },
  {
   "cell_type": "code",
   "execution_count": 62,
   "metadata": {},
   "outputs": [],
   "source": [
    "# list(baselinePeakDemandElec.columns.values)"
   ]
  },
  {
   "cell_type": "code",
   "execution_count": 63,
   "metadata": {},
   "outputs": [],
   "source": [
    "# Rename columns to indicate baseline to prepare for merge\"\n",
    "\n",
    "allbaselinePeakDemandElec = baselinePeakDemandElec.rename(columns={'Scenario':'B_Scenario',\n",
    " 'Date_Time':'B_Date_Time',\n",
    " 'Elevation':'B_Elevation',\n",
    " 'GlazingSystem':'B_GlazingSystem',\n",
    " 'HeatingElecEnergy[J](Hourly)':'B_HeatingElecEnergy[J](Hourly)',\n",
    " 'HeatingGasEnergy[J](Hourly)':'B_HeatingGasEnergy[J](Hourly)',\n",
    " 'FanEnergy[J](Hourly)':'B_FanEnergy[J](Hourly)',\n",
    " 'CoolingEnergy[J](Hourly)':'B_CoolingEnergy[J](Hourly)',\n",
    " 'LightingEnergy[J](Hourly)':'B_LightingEnergy[J](Hourly)',\n",
    " 'PeakEnergy[J](Hourly)':'B_PeakEnergy[J](Hourly)',\n",
    " 'PeakEnergy(w)':'B_PeakEnergy(w)',\n",
    " 'PeakEnergy(w/sf)':'B_PeakEnergy(w/sf)'\n",
    "                            })\n",
    "\n",
    "# allbaselinePeakDemandElec"
   ]
  },
  {
   "cell_type": "code",
   "execution_count": 64,
   "metadata": {},
   "outputs": [],
   "source": [
    "#Reset index\n",
    "allbaselinePeakDemandElec.reset_index(inplace=True, drop=True)\n",
    "\n",
    "# allbaselinePeakDemandElec"
   ]
  },
  {
   "cell_type": "code",
   "execution_count": 65,
   "metadata": {},
   "outputs": [],
   "source": [
    "# Define the scenario for the clear panel condition.\n",
    "clearPeakDemandElec = PeakDemandElec[PeakDemandElec[\"GlazingSystem\"] == \"Clear Panel\"]\n",
    "\n",
    "# clearPeakDemandElec"
   ]
  },
  {
   "cell_type": "code",
   "execution_count": 66,
   "metadata": {},
   "outputs": [],
   "source": [
    "# Rename columns to indicate baseline to prepare for merge\"\n",
    "\n",
    "allClearPeakDemandElec = clearPeakDemandElec.rename(columns={'Scenario':'C_Scenario',\n",
    " 'Date_Time':'C_Date_Time',\n",
    " 'Elevation':'C_Elevation',\n",
    " 'GlazingSystem':'C_GlazingSystem',\n",
    " 'HeatingElecEnergy[J](Hourly)':'C_HeatingElecEnergy[J](Hourly)',\n",
    " 'HeatingGasEnergy[J](Hourly)':'C_HeatingGasEnergy[J](Hourly)',\n",
    " 'FanEnergy[J](Hourly)':'C_FanEnergy[J](Hourly)',\n",
    " 'CoolingEnergy[J](Hourly)':'C_CoolingEnergy[J](Hourly)',\n",
    " 'LightingEnergy[J](Hourly)':'C_LightingEnergy[J](Hourly)',\n",
    " 'PeakEnergy[J](Hourly)':'C_PeakEnergy[J](Hourly)',\n",
    " 'PeakEnergy(w)':'C_PeakEnergy(w)',\n",
    " 'PeakEnergy(w/sf)':'C_PeakEnergy(w/sf)'\n",
    "                            })\n",
    "\n",
    "# allClearPeakDemandElec"
   ]
  },
  {
   "cell_type": "code",
   "execution_count": 67,
   "metadata": {},
   "outputs": [],
   "source": [
    "#Reset index\n",
    "allClearPeakDemandElec.reset_index(inplace=True, drop=True)\n",
    "\n",
    "# allClearPeakDemandElec"
   ]
  },
  {
   "cell_type": "code",
   "execution_count": 68,
   "metadata": {},
   "outputs": [],
   "source": [
    "# Define the scenario for the lowe panel condition.\n",
    "lowePeakDemandElec = PeakDemandElec[PeakDemandElec[\"GlazingSystem\"] == \"LowE Panel\"]\n",
    "\n",
    "# lowePeakDemandElec"
   ]
  },
  {
   "cell_type": "code",
   "execution_count": 69,
   "metadata": {
    "scrolled": true
   },
   "outputs": [],
   "source": [
    "# Rename columns to indicate baseline to prepare for merge\"\n",
    "\n",
    "allLowePeakDemandElec = lowePeakDemandElec.rename(columns={'Scenario':'L_Scenario',\n",
    " 'Date_Time':'L_Date_Time',\n",
    " 'Elevation':'L_Elevation',\n",
    " 'GlazingSystem':'L_GlazingSystem',\n",
    " 'HeatingElecEnergy[J](Hourly)':'L_HeatingElecEnergy[J](Hourly)',\n",
    " 'HeatingGasEnergy[J](Hourly)':'L_HeatingGasEnergy[J](Hourly)',\n",
    " 'FanEnergy[J](Hourly)':'L_FanEnergy[J](Hourly)',\n",
    " 'CoolingEnergy[J](Hourly)':'L_CoolingEnergy[J](Hourly)',\n",
    " 'LightingEnergy[J](Hourly)':'L_LightingEnergy[J](Hourly)',\n",
    " 'PeakEnergy[J](Hourly)':'L_PeakEnergy[J](Hourly)',\n",
    " 'PeakEnergy(w)':'L_PeakEnergy(w)',\n",
    " 'PeakEnergy(w/sf)':'L_PeakEnergy(w/sf)'\n",
    "                            })\n",
    "\n",
    "# allLowePeakDemandElec"
   ]
  },
  {
   "cell_type": "code",
   "execution_count": 70,
   "metadata": {},
   "outputs": [],
   "source": [
    "# Reset index\n",
    "allLowePeakDemandElec.reset_index(inplace=True, drop=True)\n",
    "\n",
    "# allLowePeakDemandElec"
   ]
  },
  {
   "cell_type": "markdown",
   "metadata": {},
   "source": [
    "---\n",
    "## Merge the 3 dataframes to perform delta peak from existing calculation\n"
   ]
  },
  {
   "cell_type": "code",
   "execution_count": 71,
   "metadata": {
    "scrolled": true
   },
   "outputs": [],
   "source": [
    "# merge existing and clear\n",
    "MergedAnnualPeakData = pd.merge(allbaselinePeakDemandElec, allClearPeakDemandElec, left_index=True, right_index=True)\n",
    "\n",
    "MergedAnnualPeakData\n",
    "\n",
    "#merge the above with lowe\n",
    "AllMergedAnnualPeakData = pd.merge(MergedAnnualPeakData, allLowePeakDemandElec, left_index=True, right_index=True)\n",
    "\n",
    "# AllMergedAnnualPeakData"
   ]
  },
  {
   "cell_type": "code",
   "execution_count": 72,
   "metadata": {},
   "outputs": [],
   "source": [
    "# list(AllMergedAnnualPeakData.columns.values)"
   ]
  },
  {
   "cell_type": "code",
   "execution_count": 73,
   "metadata": {},
   "outputs": [],
   "source": [
    "#Deltas of exist - clear\n",
    "\n",
    "AllMergedAnnualPeakData[\"DeltaClear_PeakEnergy(w)\"] = AllMergedAnnualPeakData[\"B_PeakEnergy(w)\"] - AllMergedAnnualPeakData[\"C_PeakEnergy(w)\"]\n",
    "AllMergedAnnualPeakData[\"DeltaClear_PeakEnergy(w/sf)\"] = AllMergedAnnualPeakData[\"B_PeakEnergy(w/sf)\"] - AllMergedAnnualPeakData[\"C_PeakEnergy(w/sf)\"]\n",
    "\n",
    "# AllMergedAnnualPeakData"
   ]
  },
  {
   "cell_type": "code",
   "execution_count": 74,
   "metadata": {},
   "outputs": [],
   "source": [
    "# Deltas of exist - lowe\n",
    "\n",
    "AllMergedAnnualPeakData[\"DeltaLowe_PeakEnergy(w)\"] = AllMergedAnnualPeakData[\"B_PeakEnergy(w)\"] - AllMergedAnnualPeakData[\"L_PeakEnergy(w)\"]\n",
    "AllMergedAnnualPeakData[\"DeltaLowe_PeakEnergy(w/sf)\"] = AllMergedAnnualPeakData[\"B_PeakEnergy(w/sf)\"] - AllMergedAnnualPeakData[\"L_PeakEnergy(w/sf)\"]\n",
    "\n",
    "# AllMergedAnnualPeakData"
   ]
  },
  {
   "cell_type": "code",
   "execution_count": 75,
   "metadata": {},
   "outputs": [],
   "source": [
    "# list(AllMergedAnnualPeakData.columns.values)"
   ]
  },
  {
   "cell_type": "code",
   "execution_count": 76,
   "metadata": {},
   "outputs": [],
   "source": [
    "# Export grouped file to csv\n",
    "AllMergedAnnualPeakData.to_csv(\"Scraper_Output/msp_deltas_peak_com.csv\", header=True, index=False)"
   ]
  },
  {
   "cell_type": "code",
   "execution_count": null,
   "metadata": {},
   "outputs": [],
   "source": []
  },
  {
   "cell_type": "code",
   "execution_count": null,
   "metadata": {},
   "outputs": [],
   "source": []
  }
 ],
 "metadata": {
  "kernelspec": {
   "display_name": "Python 3",
   "language": "python",
   "name": "python3"
  },
  "language_info": {
   "codemirror_mode": {
    "name": "ipython",
    "version": 3
   },
   "file_extension": ".py",
   "mimetype": "text/x-python",
   "name": "python",
   "nbconvert_exporter": "python",
   "pygments_lexer": "ipython3",
   "version": "3.6.10"
  },
  "varInspector": {
   "cols": {
    "lenName": 16,
    "lenType": 16,
    "lenVar": 40
   },
   "kernels_config": {
    "python": {
     "delete_cmd_postfix": "",
     "delete_cmd_prefix": "del ",
     "library": "var_list.py",
     "varRefreshCmd": "print(var_dic_list())"
    },
    "r": {
     "delete_cmd_postfix": ") ",
     "delete_cmd_prefix": "rm(",
     "library": "var_list.r",
     "varRefreshCmd": "cat(var_dic_list()) "
    }
   },
   "types_to_exclude": [
    "module",
    "function",
    "builtin_function_or_method",
    "instance",
    "_Feature"
   ],
   "window_display": false
  }
 },
 "nbformat": 4,
 "nbformat_minor": 2
}
