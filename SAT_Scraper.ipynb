{
 "cells": [
  {
   "cell_type": "markdown",
   "metadata": {},
   "source": [
    "# San Antonio Hotel Simulations\n",
    "8760 rows per simulation<br>\n",
    "Floors for residential and commercial\n",
    "\n",
    "## Preprocess\n",
    "\n",
    "1. Generate zone with facade glazing systems in COMFEN.\n",
    "\n",
    "2. Retrieve IDFs for each scenario from the COMFEN5 Results folder. Have to do each of the 3 sections of the building as its own sqlite file and each project by orientation separately. Then IDF files are copied after each simulation. These files will be used in the Jupyter Notebook.\n",
    "\n",
    "3. Convert from E+ 8.1 to 9.5 using the .lst format.\n",
    "4. Change the reporting in the IDF files to \"All\" to get the HTML summary table and the inch-pound units for verification.\n",
    "      \n",
    "    * OutputControl:Table:Style,\n",
    "    * All,                     !- Column Separator\n",
    "    * InchPound;               !- Unit Conversion\n",
    "5. Rerun batch sims in EnergyPlus v9.5.\n",
    "6. Add \"Scenario\", \"Elevation, and \"GlazingSystem\" to the results CSV files."
   ]
  },
  {
   "cell_type": "code",
   "execution_count": 1,
   "metadata": {},
   "outputs": [],
   "source": [
    "# Dependencies\n",
    "import pandas as pd\n",
    "import os\n",
    "import numpy as np\n",
    "from pathlib import Path\n",
    "from datetime import datetime"
   ]
  },
  {
   "cell_type": "markdown",
   "metadata": {},
   "source": [
    "## Energy Conversions\n",
    "\n",
    "As per E* Documentation<br>\n",
    "\n",
    "Joules --> kBtu (multiply by .00000094781712)<br>\n",
    "Joules --> kWh (multiply by .000000277777778) or (divide by 3600000)<br>\n",
    "Joules --> therms (multiply by .0000000094781712<br>"
   ]
  },
  {
   "cell_type": "markdown",
   "metadata": {},
   "source": [
    "<div>\n",
    "    <img src=\"static/images/elect_conv.png\" width=\"400\"/>\n",
    "     <img src=\"static/images/gas_conv.png\" width=\"400\"/>\n",
    "</div"
   ]
  },
  {
   "cell_type": "markdown",
   "metadata": {},
   "source": [
    "## Energy Costs and Emission Factors\n",
    "\n",
    "http://seeatcalc.gastechnology.org/ResidentialBuildings.aspx"
   ]
  },
  {
   "cell_type": "code",
   "execution_count": 2,
   "metadata": {},
   "outputs": [],
   "source": [
    "# Costs (elec $/kWh, gas $/therm), change values per city\n",
    "comgas_cost = 0.60\n",
    "comelec_cost = 0.0806"
   ]
  },
  {
   "cell_type": "code",
   "execution_count": 3,
   "metadata": {},
   "outputs": [],
   "source": [
    "# Source Energy Conversion Factors (same for res or comm), change values per city\n",
    "gas_source = 1.09\n",
    "elec_source = 2.53"
   ]
  },
  {
   "cell_type": "code",
   "execution_count": 4,
   "metadata": {},
   "outputs": [],
   "source": [
    "# Carbon equivalent factors (same for res or comm), change values per city\n",
    "\n",
    "#Electricity (lb/MMBtu) 323.34 (lb/kbtu).32334 ####\n",
    "#Natural Gas (Building Used, lb/MMBtu) 145.66 (lb/kBtu .14566) ####\n",
    "\n",
    "gas_co2 = 0.14566\n",
    "elec_co2 = 0.42103"
   ]
  },
  {
   "cell_type": "code",
   "execution_count": 5,
   "metadata": {},
   "outputs": [],
   "source": [
    "# Zone size for EUI and cost/sf\n",
    "\n",
    "sf = 189.6"
   ]
  },
  {
   "cell_type": "code",
   "execution_count": 6,
   "metadata": {},
   "outputs": [],
   "source": [
    "# Lighting energy reduction, assumption that LEDs are being used.\n",
    "\n",
    "lighting_redux = .3"
   ]
  },
  {
   "cell_type": "markdown",
   "metadata": {},
   "source": [
    "---\n",
    "\n",
    "## Combine CSV Files in Directory Commercial Electric Heating"
   ]
  },
  {
   "cell_type": "code",
   "execution_count": 7,
   "metadata": {},
   "outputs": [],
   "source": [
    "# Create variable for files in directory\n",
    "files = [f for f in os.listdir(\"data/sat/\") if f.endswith(\".csv\")]\n",
    "\n",
    "# files"
   ]
  },
  {
   "cell_type": "code",
   "execution_count": null,
   "metadata": {},
   "outputs": [],
   "source": [
    "# https://stackoverflow.com/questions/63886787/how-to-create-a-dataframe-from-multiple-csv-files\n",
    "# Initialize and empty dataframe\n",
    "all_ComElec = pd.DataFrame()\n",
    "\n",
    "# Iterate through files and contents, then concatenate the data into the dataframe\n",
    "for file in files:\n",
    "    df = pd.read_csv(\"data/sat/\" + file)\n",
    "    all_ComElec = pd.concat([all_ComElec, df])\n",
    "    \n",
    "all_ComElec\n",
    "\n",
    "# 394200  rows, 44 columns"
   ]
  },
  {
   "cell_type": "code",
   "execution_count": null,
   "metadata": {},
   "outputs": [],
   "source": [
    "# list(all_ComElec.columns.values)"
   ]
  },
  {
   "cell_type": "code",
   "execution_count": null,
   "metadata": {},
   "outputs": [],
   "source": [
    "# Get wanted columns\n",
    "all_ComElec1 = all_ComElec[[\"Scenario\",\n",
    "               \"Date/Time\",\n",
    "                \"Elevation\",\n",
    "               \"GlazingSystem\",\n",
    "              \"SYS-1 HEATING COIL:Heating Coil Electricity Energy [J](Hourly)\",\n",
    "              \"SYS-1:Air System NaturalGas Energy [J](Hourly)\",\n",
    "              \"SYS-1:Air System Fan Electricity Energy [J](Hourly)\",\n",
    "              \"SYS-1:Air System DX Cooling Coil Electricity Energy [J](Hourly) \",\n",
    "             \"COMFENZONE:Zone Lights Electricity Energy [J](Hourly)\"]]\n",
    "\n",
    "#all_ComElec1"
   ]
  },
  {
   "cell_type": "code",
   "execution_count": null,
   "metadata": {},
   "outputs": [],
   "source": [
    "all_ComElec1 = all_ComElec1.dropna().reset_index(drop=True)\n",
    "\n",
    "#all_ComElec1"
   ]
  },
  {
   "cell_type": "markdown",
   "metadata": {},
   "source": [
    "-----\n",
    "\n",
    "## Get the Wanted Data (columns)"
   ]
  },
  {
   "cell_type": "code",
   "execution_count": null,
   "metadata": {
    "scrolled": true
   },
   "outputs": [],
   "source": [
    "# Rename Columns\n",
    "all_ComElec2 = all_ComElec1.rename(columns={\"Scenario\":\"Scenario\",\n",
    "                              \"Date/Time\":\"Date_Time\",\n",
    "                             \"SYS-1:Air System Fan Electricity Energy [J](Hourly)\":\"FanEnergy[J](Hourly)\",\n",
    "                             \"SYS-1:Air System NaturalGas Energy [J](Hourly)\":\"HeatingGasEnergy[J](Hourly)\",\n",
    "                            \"SYS-1 HEATING COIL:Heating Coil Electricity Energy [J](Hourly)\":\"HeatingElecEnergy[J](Hourly)\",\n",
    "                            \"SYS-1:Air System DX Cooling Coil Electricity Energy [J](Hourly) \":\"CoolingEnergy[J](Hourly)\",\n",
    "                            \"COMFENZONE:Zone Lights Electricity Energy [J](Hourly)\":\"LightingEnergy[J](Hourly)\"\n",
    "                             })\n",
    "\n",
    "#all_ComElec2"
   ]
  },
  {
   "cell_type": "markdown",
   "metadata": {},
   "source": [
    "-----\n",
    "\n",
    "## Get Annual Energy Data\n",
    "Convert units from Joules to kBtu<br>"
   ]
  },
  {
   "cell_type": "code",
   "execution_count": null,
   "metadata": {},
   "outputs": [],
   "source": [
    "# Copy dataframe to modify and leave original df intact\n",
    "get_annual_ComElec = all_ComElec2.copy(deep=True)\n",
    "\n",
    "#get_annual_ComElec"
   ]
  },
  {
   "cell_type": "code",
   "execution_count": null,
   "metadata": {},
   "outputs": [],
   "source": [
    "# Convert Joules to KBtu in dataframe\n",
    "get_annual_ComElec[\"FanEnergy(kBtu)\"] = get_annual_ComElec[\"FanEnergy[J](Hourly)\"] * .00000094781712\n",
    "get_annual_ComElec[\"HeatingElecEnergy(kBtu)\"] = get_annual_ComElec[\"HeatingElecEnergy[J](Hourly)\"] * .00000094781712\n",
    "get_annual_ComElec[\"HeatingGasEnergy(kBtu)\"] = get_annual_ComElec[\"HeatingGasEnergy[J](Hourly)\"] * .00000094781712\n",
    "get_annual_ComElec[\"CoolingEnergy(kBtu)\"] = get_annual_ComElec[\"CoolingEnergy[J](Hourly)\"] * .00000094781712\n",
    "\n",
    "# Reduce lighting energy, assuming LEDs are being used\n",
    "get_annual_ComElec[\"LightingEnergy(kBtu)\"] = (get_annual_ComElec[\"LightingEnergy[J](Hourly)\"] * .00000094781712) * lighting_redux\n",
    "\n",
    "#get_annual_ComElec"
   ]
  },
  {
   "cell_type": "code",
   "execution_count": null,
   "metadata": {},
   "outputs": [],
   "source": [
    "# Drop columns\n",
    "get_annual_ComElec.drop(columns = [\"FanEnergy[J](Hourly)\", \"HeatingElecEnergy[J](Hourly)\", \"HeatingGasEnergy[J](Hourly)\", \"CoolingEnergy[J](Hourly)\", \"LightingEnergy[J](Hourly)\"], axis=1, inplace=True)\n",
    "\n",
    "#get_annual_ComElec"
   ]
  },
  {
   "cell_type": "code",
   "execution_count": null,
   "metadata": {},
   "outputs": [],
   "source": [
    "# Add energy totals\n",
    "totalComEnergy = get_annual_ComElec[\"FanEnergy(kBtu)\"] + get_annual_ComElec[\"HeatingElecEnergy(kBtu)\"] + get_annual_ComElec[\"LightingEnergy(kBtu)\"] + get_annual_ComElec[\"CoolingEnergy(kBtu)\"]\n",
    "        \n",
    "get_annual_ComElec[\"AnnualEnergy(kBtu)\"] = totalComEnergy\n",
    "\n",
    "# get_annual_ComElec"
   ]
  },
  {
   "cell_type": "markdown",
   "metadata": {},
   "source": [
    "-----\n",
    "\n",
    "## Get Energy per sf \n",
    "Add EUI (site) column<br>\n"
   ]
  },
  {
   "cell_type": "code",
   "execution_count": null,
   "metadata": {},
   "outputs": [],
   "source": [
    "# Get data per sf (energy/sf)\n",
    "get_annual_ComElec[\"FanEnergy(kBtu/sf)\"] = (get_annual_ComElec[\"FanEnergy(kBtu)\"]) / sf\n",
    "get_annual_ComElec[\"HeatingElecEnergy(kBtu/sf)\"] = (get_annual_ComElec[\"HeatingElecEnergy(kBtu)\"]) / sf\n",
    "get_annual_ComElec[\"HeatingGasEnergy(kBtu/sf)\"] = (get_annual_ComElec[\"HeatingGasEnergy(kBtu)\"]) / sf\n",
    "get_annual_ComElec[\"CoolingEnergy(kBtu/sf)\"] = (get_annual_ComElec[\"CoolingEnergy(kBtu)\"]) / sf\n",
    "get_annual_ComElec[\"LightingEnergy(kBtu/sf)\"] = (get_annual_ComElec[\"LightingEnergy(kBtu)\"]) / sf"
   ]
  },
  {
   "cell_type": "code",
   "execution_count": null,
   "metadata": {},
   "outputs": [],
   "source": [
    "# Establish EUI (energy/sf)\n",
    "get_annual_ComElec[\"EUI(kBtu/sf)\"] = (get_annual_ComElec[\"FanEnergy(kBtu)\"] +\n",
    "                                    get_annual_ComElec[\"HeatingElecEnergy(kBtu)\"] +\n",
    "                                    get_annual_ComElec[\"HeatingGasEnergy(kBtu)\"] +\n",
    "                                    get_annual_ComElec[\"LightingEnergy(kBtu)\"] +  \n",
    "                                    get_annual_ComElec[\"CoolingEnergy(kBtu)\"]) / sf\n",
    "                                                       \n",
    "#get_annual_ComElec"
   ]
  },
  {
   "cell_type": "markdown",
   "metadata": {},
   "source": [
    "-----\n",
    "\n",
    "## Get Carbon per sf \n",
    "Add carbon/sf column"
   ]
  },
  {
   "cell_type": "code",
   "execution_count": null,
   "metadata": {},
   "outputs": [],
   "source": [
    "# Do carbon calculation using variable (lb/sf)\n",
    "get_annual_ComElec[\"CO2_Electric(lb/sf)\"] = ((get_annual_ComElec[\"FanEnergy(kBtu)\"] +\n",
    "                                    get_annual_ComElec[\"HeatingElecEnergy(kBtu)\"] +\n",
    "                                    get_annual_ComElec[\"HeatingGasEnergy(kBtu)\"] +\n",
    "                                    get_annual_ComElec[\"LightingEnergy(kBtu)\"] +\n",
    "                                    get_annual_ComElec[\"CoolingEnergy(kBtu)\"]) * elec_co2) / sf\n",
    "                                                       \n",
    "# get_annual_ComElec"
   ]
  },
  {
   "cell_type": "markdown",
   "metadata": {},
   "source": [
    "## Get Annual Cost Data\n",
    "Convert units from Joules to kWh and therms to use cost multiplier<br>\n",
    "Add cost multiplier, variables defined above"
   ]
  },
  {
   "cell_type": "code",
   "execution_count": null,
   "metadata": {},
   "outputs": [],
   "source": [
    "# Get annual costs\n",
    "get_annual_costs_ComElec = all_ComElec2.copy(deep=True)"
   ]
  },
  {
   "cell_type": "code",
   "execution_count": null,
   "metadata": {},
   "outputs": [],
   "source": [
    "# Convert Joules to KBtu in dataframe and add cost multiplier\n",
    "# Gas kbtu => Mbtu => therms: (kbtu/1000) * 10\n",
    "# Elec kbtu => Kwh (kbtu * .000000277777778)\n",
    "get_annual_costs_ComElec[\"FanCost($)\"] = (get_annual_costs_ComElec[\"FanEnergy[J](Hourly)\"] * .000000277777778) * comelec_cost\n",
    "get_annual_costs_ComElec[\"HeatingElecCost($)\"] = ((get_annual_costs_ComElec[\"HeatingElecEnergy[J](Hourly)\"] * .00000094781712)/1000) * 10  * comgas_cost\n",
    "get_annual_costs_ComElec[\"HeatingGasCost($)\"] = ((get_annual_costs_ComElec[\"HeatingGasEnergy[J](Hourly)\"] * .00000094781712)/1000) * 10  * comgas_cost\n",
    "get_annual_costs_ComElec[\"CoolingCost($)\"] = (get_annual_costs_ComElec[\"CoolingEnergy[J](Hourly)\"] * .000000277777778) * comelec_cost\n",
    "\n",
    "# Reduce lighting energy, assuming LEDs are being used\n",
    "get_annual_costs_ComElec[\"LightingCost($)\"] = (get_annual_costs_ComElec[\"LightingEnergy[J](Hourly)\"] * .00000094781712) * lighting_redux\n",
    "\n",
    "#get_annual_costs"
   ]
  },
  {
   "cell_type": "code",
   "execution_count": null,
   "metadata": {},
   "outputs": [],
   "source": [
    "# Drop columns\n",
    "get_annual_costs_ComElec.drop(columns = [\"FanEnergy[J](Hourly)\", \"HeatingElecEnergy[J](Hourly)\", \"HeatingGasEnergy[J](Hourly)\", \"CoolingEnergy[J](Hourly)\", \"LightingEnergy[J](Hourly)\"], axis=1, inplace=True)\n",
    "\n",
    "#get_annual_costs_ComElec"
   ]
  },
  {
   "cell_type": "code",
   "execution_count": null,
   "metadata": {},
   "outputs": [],
   "source": [
    "# Add cost totals\n",
    "totalComCost = get_annual_costs_ComElec[\"FanCost($)\"] + get_annual_costs_ComElec[\"HeatingElecCost($)\"] + get_annual_costs_ComElec[\"HeatingGasCost($)\"]  + get_annual_costs_ComElec[\"CoolingCost($)\"] + get_annual_costs_ComElec[\"LightingCost($)\"]\n",
    "        \n",
    "get_annual_costs_ComElec[\"AnnualCost($)\"] = totalComCost\n",
    "\n",
    "# get_annual_costs_ComElec"
   ]
  },
  {
   "cell_type": "code",
   "execution_count": null,
   "metadata": {},
   "outputs": [],
   "source": []
  },
  {
   "cell_type": "markdown",
   "metadata": {},
   "source": [
    "-----\n",
    "\n",
    "## Get Annual Cost per sf Data\n",
    "Add costs/sf columns<br>\n"
   ]
  },
  {
   "cell_type": "code",
   "execution_count": null,
   "metadata": {},
   "outputs": [],
   "source": [
    "# Get data per sf ($/sf)\n",
    "get_annual_costs_ComElec[\"FanCost($/sf)\"] = (get_annual_costs_ComElec[\"FanCost($)\"]) / sf\n",
    "get_annual_costs_ComElec[\"HeatingElecCost($/sf)\"] = (get_annual_costs_ComElec[\"HeatingElecCost($)\"]) / sf\n",
    "get_annual_costs_ComElec[\"HeatingGasCost($/sf)\"] = (get_annual_costs_ComElec[\"HeatingGasCost($)\"]) / sf\n",
    "get_annual_costs_ComElec[\"CoolingCost($/sf)\"] = (get_annual_costs_ComElec[\"CoolingCost($)\"]) / sf\n",
    "get_annual_costs_ComElec[\"LightingCost($/sf)\"] = (get_annual_costs_ComElec[\"LightingCost($)\"]) / sf\n",
    "\n",
    "# get_annual_costs_ComElec"
   ]
  },
  {
   "cell_type": "code",
   "execution_count": null,
   "metadata": {},
   "outputs": [],
   "source": [
    "# Establish costs ($/sf)\n",
    "get_annual_costs_ComElec[\"AnnualCost($/sf)\"] = (get_annual_costs_ComElec[\"FanCost($)\"] +\n",
    "                                    get_annual_costs_ComElec[\"HeatingElecCost($)\"] +\n",
    "                                    get_annual_costs_ComElec[\"HeatingGasCost($)\"] +  \n",
    "                                    get_annual_costs_ComElec[\"CoolingCost($)\"] +  \n",
    "                                    get_annual_costs_ComElec[\"LightingCost($)\"]) / sf\n",
    "                                                       \n",
    "# get_annual_costs_ComElec"
   ]
  },
  {
   "cell_type": "markdown",
   "metadata": {},
   "source": [
    "---\n",
    "\n",
    "## Combine Annual Energy and Cost Data\n",
    "Combine two dfs<br>\n",
    "Export combine file"
   ]
  },
  {
   "cell_type": "code",
   "execution_count": null,
   "metadata": {},
   "outputs": [],
   "source": [
    "# # Combine data for energy and cost\n",
    "allAnnualDataComElec = pd.merge(get_annual_ComElec, get_annual_costs_ComElec)\n",
    "\n",
    "# allAnnualDataComElec"
   ]
  },
  {
   "cell_type": "code",
   "execution_count": null,
   "metadata": {},
   "outputs": [],
   "source": [
    "# list(allAnnualDataComElec.columns.values)"
   ]
  },
  {
   "cell_type": "markdown",
   "metadata": {},
   "source": [
    "---\n",
    "## Group and Export Annual Data\n",
    "Group dataframe by scenario<br>\n",
    "Export to file"
   ]
  },
  {
   "cell_type": "code",
   "execution_count": null,
   "metadata": {},
   "outputs": [],
   "source": [
    "# Group by scenario\n",
    "annualDataCom = allAnnualDataComElec.groupby([\"Scenario\", \"Elevation\", \"GlazingSystem\"], as_index=True)\n",
    "\n",
    "# annualDataCom.sum().round(2)"
   ]
  },
  {
   "cell_type": "code",
   "execution_count": null,
   "metadata": {},
   "outputs": [],
   "source": [
    "annualDataComFinal = annualDataCom.sum().round(2)\n",
    "\n",
    "# annualDataComFinal"
   ]
  },
  {
   "cell_type": "code",
   "execution_count": null,
   "metadata": {},
   "outputs": [],
   "source": [
    "# Export grouped file to csv\n",
    "annualDataComFinal.to_csv(\"Scraper_Output/sat_annual_com.csv\", header=True, index=True)"
   ]
  },
  {
   "cell_type": "markdown",
   "metadata": {},
   "source": [
    "---\n",
    "\n",
    "## Establish Annual Baseline at Existing\n",
    "\n",
    "Create dataset with just baselines.<br> \n",
    "Keep the units in kBtus to be able to eventually combine heating and cooling <br>\n"
   ]
  },
  {
   "cell_type": "code",
   "execution_count": null,
   "metadata": {},
   "outputs": [],
   "source": [
    "# # Define the scenario for the baselines.\n",
    "# % improvement from Clear/Clear-VB0 (dual clear with a Venetian Blind at 0 degrees)\n",
    "baselineAnnualDataComElec = allAnnualDataComElec[allAnnualDataComElec[\"GlazingSystem\"] == \"Exist\"]\n",
    "\n",
    "# baselineAnnualDataComElec"
   ]
  },
  {
   "cell_type": "code",
   "execution_count": null,
   "metadata": {},
   "outputs": [],
   "source": [
    "# Rename columns to indicate baseline to prepare for merge\"\n",
    "\n",
    "allBaselineAnnualDataComElec = baselineAnnualDataComElec.rename(columns={'Scenario':'B_Scenario',\n",
    " 'Date_Time':'B_Date_Time',\n",
    " 'Elevation':'B_Elevation',\n",
    " 'GlazingSystem':'B_GlazingSystem',\n",
    " 'FanEnergy(kBtu)':'B_FanEnergy(kBtu)',\n",
    " 'HeatingElecEnergy(kBtu)':'B_HeatingElecEnergy(kBtu)',\n",
    " 'HeatingGasEnergy(kBtu)':'B_HeatingGasEnergy(kBtu)',\n",
    " 'CoolingEnergy(kBtu)':'B_CoolingEnergy(kBtu)',\n",
    " 'LightingEnergy(kBtu)':'B_LightingEnergy(kBtu)',\n",
    " 'AnnualEnergy(kBtu)':'B_AnnualEnergy(kBtu)',\n",
    " 'FanEnergy(kBtu/sf)':'B_FanEnergy(kBtu/sf)',\n",
    " 'HeatingElecEnergy(kBtu/sf)':'B_HeatingElecEnergy(kBtu/sf)',\n",
    " 'HeatingGasEnergy(kBtu/sf)':'B_HeatingGasEnergy(kBtu/sf)',\n",
    " 'CoolingEnergy(kBtu/sf)':'B_CoolingEnergy(kBtu/sf)',\n",
    " 'LightingEnergy(kBtu/sf)':'B_LightingEnergy(kBtu/sf)',\n",
    " 'EUI(kBtu/sf)':'B_EUI(kBtu/sf)',\n",
    " 'CO2_Electric(lb/sf)':'B_CO2_Electric(lb/sf)',\n",
    " 'FanCost($)':'B_FanCost($)',\n",
    " 'HeatingElecCost($)':'B_HeatingElecCost($)',\n",
    " 'HeatingGasCost($)':'B_HeatingGasCost($)',\n",
    " 'CoolingCost($)':'B_CoolingCost($)',\n",
    " 'LightingCost($)':'B_LightingCost($)',\n",
    " 'AnnualCost($)':'B_AnnualCost($)',\n",
    " 'FanCost($/sf)':'B_FanCost($/sf)',\n",
    " 'HeatingElecCost($/sf)':'B_HeatingElecCost($/sf)',\n",
    " 'HeatingGasCost($/sf)':'B_HeatingGasCost($/sf)',\n",
    " 'CoolingCost($/sf)':'B_CoolingCost($/sf)',\n",
    " 'LightingCost($/sf)':'B_LightingCost($/sf)',\n",
    " 'AnnualCost($/sf)':'B_AnnualCost($/sf)'\n",
    "                            })\n",
    "\n",
    "# allBaselineAnnualDataComElec"
   ]
  },
  {
   "cell_type": "markdown",
   "metadata": {},
   "source": [
    "---\n",
    "## Group and Export Baseline Annual Data\n",
    "Group dataframe by scenario<br>\n",
    "Export to file"
   ]
  },
  {
   "cell_type": "code",
   "execution_count": null,
   "metadata": {},
   "outputs": [],
   "source": [
    "# Group by scenario\n",
    "annualBaselineDataCom = allBaselineAnnualDataComElec.groupby([\"B_Scenario\", \"B_Elevation\", \"B_GlazingSystem\"], as_index=True)\n",
    "\n",
    "# annualDataCom.sum().round(2)"
   ]
  },
  {
   "cell_type": "code",
   "execution_count": null,
   "metadata": {},
   "outputs": [],
   "source": [
    "annualBaselineDataCom = annualBaselineDataCom.sum().round(2)\n",
    "\n",
    "# annualDataComFinal"
   ]
  },
  {
   "cell_type": "code",
   "execution_count": null,
   "metadata": {},
   "outputs": [],
   "source": [
    "# list(AnnualWithBaselineCom.columns.values)"
   ]
  },
  {
   "cell_type": "code",
   "execution_count": null,
   "metadata": {},
   "outputs": [],
   "source": [
    "# Export grouped file to csv\n",
    "annualBaselineDataCom.to_csv(\"Scraper_Output/sat_baseline_annual_com.csv\", header=True, index=True)"
   ]
  },
  {
   "cell_type": "markdown",
   "metadata": {},
   "source": [
    "## Find Peak Demand\n",
    "Slice data to find peak demand for each scenario<br>\n",
    "Export to csv"
   ]
  },
  {
   "cell_type": "code",
   "execution_count": null,
   "metadata": {},
   "outputs": [],
   "source": [
    "# # Start with renaming df\n",
    "# get_peak_ComElec = get_annual_ComElec\n",
    "# #get_peak_ComElec"
   ]
  },
  {
   "cell_type": "code",
   "execution_count": null,
   "metadata": {},
   "outputs": [],
   "source": [
    "# # Add up heat, cool and fans for a total column\n",
    "# get_peak_ComElec[\"TotalEnergy(kBtu)\"] = (get_peak_ComElec[\"FanEnergy(kBtu)\"] +\n",
    "#                                     get_peak_ComElec[\"HeatingElecEnergy(kBtu)\"] +\n",
    "#                                     get_peak_ComElec[\"HeatingGasEnergy(kBtu)\"] +\n",
    "#                                     get_peak_ComElec[\"LightingEnergy(kBtu)\"] +\n",
    "#                                     get_peak_ComElec[\"CoolingEnergy(kBtu)\"])\n",
    "\n",
    "# #get_peak_ComElec"
   ]
  },
  {
   "cell_type": "code",
   "execution_count": null,
   "metadata": {},
   "outputs": [],
   "source": [
    "# # Get scenario and find the max\n",
    "# A1Eexist = get_peak_ComElec[get_peak_ComElec[\"Scenario\"] == \"A1Eexist\"]\n",
    "# A1Eclear = get_peak_ComElec[get_peak_ComElec[\"Scenario\"] == \"A1Eclear\"]\n",
    "# A1Elowe = get_peak_ComElec[get_peak_ComElec[\"Scenario\"] == \"A1Elowe\"]\n",
    "# A1Nexist = get_peak_ComElec[get_peak_ComElec[\"Scenario\"] == \"A1Nexist\"]\n",
    "# A1Nclear = get_peak_ComElec[get_peak_ComElec[\"Scenario\"] == \"A1Nclear\"]\n",
    "# A1Nlowe = get_peak_ComElec[get_peak_ComElec[\"Scenario\"] == \"A1Nlowe\"]\n",
    "# A1Wexist = get_peak_ComElec[get_peak_ComElec[\"Scenario\"] == \"A1Wexist\"]\n",
    "# A1Wclear = get_peak_ComElec[get_peak_ComElec[\"Scenario\"] == \"A1Wclear\"]\n",
    "# A1Wlowe = get_peak_ComElec[get_peak_ComElec[\"Scenario\"] == \"A1Wlowe\"]\n",
    "# A2Sexist = get_peak_ComElec[get_peak_ComElec[\"Scenario\"] == \"A2Sexist\"]\n",
    "# A2Sclear = get_peak_ComElec[get_peak_ComElec[\"Scenario\"] == \"A2Sclear\"]\n",
    "# A2Slowe = get_peak_ComElec[get_peak_ComElec[\"Scenario\"] == \"A2Slowe\"]\n",
    "# B1Eexist = get_peak_ComElec[get_peak_ComElec[\"Scenario\"] == \"B1Eexist\"]\n",
    "# B1Eclear = get_peak_ComElec[get_peak_ComElec[\"Scenario\"] == \"B1Eclear\"]\n",
    "# B1Elowe = get_peak_ComElec[get_peak_ComElec[\"Scenario\"] == \"B1Elowe\"]\n",
    "# B1Nexist = get_peak_ComElec[get_peak_ComElec[\"Scenario\"] == \"B1Nexist\"]\n",
    "# B1Nclear = get_peak_ComElec[get_peak_ComElec[\"Scenario\"] == \"B1Nclear\"]\n",
    "# B1Nlowe = get_peak_ComElec[get_peak_ComElec[\"Scenario\"] == \"B1Nlowe\"]\n",
    "# B1Wexist = get_peak_ComElec[get_peak_ComElec[\"Scenario\"] == \"B1Wexist\"]\n",
    "# B1Wclear = get_peak_ComElec[get_peak_ComElec[\"Scenario\"] == \"B1Wclear\"]\n",
    "# B1Wlowe = get_peak_ComElec[get_peak_ComElec[\"Scenario\"] == \"B1Wlowe\"]\n",
    "# B2Eexist = get_peak_ComElec[get_peak_ComElec[\"Scenario\"] == \"B2Eexist\"]\n",
    "# B2Eclear = get_peak_ComElec[get_peak_ComElec[\"Scenario\"] == \"B2Elear\"]\n",
    "# B2Elowe = get_peak_ComElec[get_peak_ComElec[\"Scenario\"] == \"B2Elowe\"]\n",
    "# B3Sexist = get_peak_ComElec[get_peak_ComElec[\"Scenario\"] == \"B3Sexist\"]\n",
    "# B3Sclear = get_peak_ComElec[get_peak_ComElec[\"Scenario\"] == \"B3Sclear\"]\n",
    "# B3Slowe = get_peak_ComElec[get_peak_ComElec[\"Scenario\"] == \"B3Slowe\"]\n",
    "# B3Wexist = get_peak_ComElec[get_peak_ComElec[\"Scenario\"] == \"B3Wexist\"]\n",
    "# B3Wclear = get_peak_ComElec[get_peak_ComElec[\"Scenario\"] == \"B3Wclear\"]\n",
    "# B3Wlowe = get_peak_ComElec[get_peak_ComElec[\"Scenario\"] == \"B3Wlowe\"]\n",
    "# C1Eexist = get_peak_ComElec[get_peak_ComElec[\"Scenario\"] == \"C1Eexist\"]\n",
    "# C1Eclear = get_peak_ComElec[get_peak_ComElec[\"Scenario\"] == \"C1Eclear\"]\n",
    "# C1Elowe = get_peak_ComElec[get_peak_ComElec[\"Scenario\"] == \"C1Elowe\"]\n",
    "# C1Nexist = get_peak_ComElec[get_peak_ComElec[\"Scenario\"] == \"C1Nexist\"]\n",
    "# C1Nclear = get_peak_ComElec[get_peak_ComElec[\"Scenario\"] == \"C1Nclear\"]\n",
    "# C1Nlowe = get_peak_ComElec[get_peak_ComElec[\"Scenario\"] == \"C1Nlowe\"]\n",
    "# C1Sexist = get_peak_ComElec[get_peak_ComElec[\"Scenario\"] == \"C1Sexist\"]\n",
    "# C1Sclear = get_peak_ComElec[get_peak_ComElec[\"Scenario\"] == \"C1Sclear\"]\n",
    "# C1Slowe = get_peak_ComElec[get_peak_ComElec[\"Scenario\"] == \"C1Slowe\"]\n",
    "# C2Wexist = get_peak_ComElec[get_peak_ComElec[\"Scenario\"] == \"C2Wexist\"]\n",
    "# C2Wclear = get_peak_ComElec[get_peak_ComElec[\"Scenario\"] == \"C2Wclear\"]\n",
    "# C2Wlowe = get_peak_ComElec[get_peak_ComElec[\"Scenario\"] == \"C2Wlowe\"]\n",
    "# C3Wexist = get_peak_ComElec[get_peak_ComElec[\"Scenario\"] == \"C3Wexist\"]\n",
    "# C3Wclear = get_peak_ComElec[get_peak_ComElec[\"Scenario\"] == \"C3Wclear\"]\n",
    "# C3Wlowe = get_peak_ComElec[get_peak_ComElec[\"Scenario\"] == \"C3Wlowe\"]\n"
   ]
  },
  {
   "cell_type": "code",
   "execution_count": null,
   "metadata": {},
   "outputs": [],
   "source": [
    "# A1EexistPeak = (A1Eexist[A1Eexist[\"TotalEnergy(kBtu)\"] == A1Eexist[\"TotalEnergy(kBtu)\"].max()])\n",
    "# A1EclearPeak = (A1Eclear[A1Eclear[\"TotalEnergy(kBtu)\"] == A1Eclear[\"TotalEnergy(kBtu)\"].max()])\n",
    "# A1ElowePeak = (A1Elowe[A1Elowe[\"TotalEnergy(kBtu)\"] == A1Elowe[\"TotalEnergy(kBtu)\"].max()])\n",
    "# A1NexistPeak = (A1Nexist[A1Nexist[\"TotalEnergy(kBtu)\"] == A1Nexist[\"TotalEnergy(kBtu)\"].max()])\n",
    "# A1NclearPeak = (A1Nclear[A1Nclear[\"TotalEnergy(kBtu)\"] == A1Nclear[\"TotalEnergy(kBtu)\"].max()])\n",
    "# A1NlowePeak = (A1Nlowe[A1Nlowe[\"TotalEnergy(kBtu)\"] == A1Nlowe[\"TotalEnergy(kBtu)\"].max()])\n",
    "# A1WexistPeak = (A1Wexist[A1Wexist[\"TotalEnergy(kBtu)\"] == A1Wexist[\"TotalEnergy(kBtu)\"].max()])\n",
    "# A1WclearPeak = (A1Wclear[A1Wclear[\"TotalEnergy(kBtu)\"] == A1Wclear[\"TotalEnergy(kBtu)\"].max()])\n",
    "# A1WlowePeak = (A1Wlowe[A1Wlowe[\"TotalEnergy(kBtu)\"] == A1Wlowe[\"TotalEnergy(kBtu)\"].max()])\n",
    "# A2SexisttPeak = (A2Sexist[A2Sexist[\"TotalEnergy(kBtu)\"] == A2Sexist[\"TotalEnergy(kBtu)\"].max()])\n",
    "# A2SclearPeak = (A2Sclear[A2Sclear[\"TotalEnergy(kBtu)\"] == A2Sclear[\"TotalEnergy(kBtu)\"].max()])\n",
    "# A2SlowePeak = (A2Slowe[A2Slowe[\"TotalEnergy(kBtu)\"] == A2Slowe[\"TotalEnergy(kBtu)\"].max()])\n",
    "# B1EexistPeak = (B1Eexist[B1Eexist[\"TotalEnergy(kBtu)\"] == B1Eexist[\"TotalEnergy(kBtu)\"].max()])\n",
    "# B1EclearPeak = (B1Eclear[B1Eclear[\"TotalEnergy(kBtu)\"] == B1Eclear[\"TotalEnergy(kBtu)\"].max()])\n",
    "# B1ElowePeak = (B1Elowe[B1Elowe[\"TotalEnergy(kBtu)\"] == B1Elowe[\"TotalEnergy(kBtu)\"].max()])\n",
    "# B1NexistPeak = (B1Nexist[B1Nexist[\"TotalEnergy(kBtu)\"] == B1Nexist[\"TotalEnergy(kBtu)\"].max()])\n",
    "# B1NclearPeak = (B1Nclear[B1Nclear[\"TotalEnergy(kBtu)\"] == B1Nclear[\"TotalEnergy(kBtu)\"].max()])\n",
    "# B1NlowePeak = (B1Nlowe[B1Nlowe[\"TotalEnergy(kBtu)\"] == B1Nlowe[\"TotalEnergy(kBtu)\"].max()])\n",
    "# B1WexistPeak = (B1Wexist[B1Wexist[\"TotalEnergy(kBtu)\"] == B1Wexist[\"TotalEnergy(kBtu)\"].max()])\n",
    "# B1WclearPeak = (B1Wclear[B1Wclear[\"TotalEnergy(kBtu)\"] == B1Wclear[\"TotalEnergy(kBtu)\"].max()])\n",
    "# B1WlowePeak = (B1Wlowe[B1Wlowe[\"TotalEnergy(kBtu)\"] == B1Wlowe[\"TotalEnergy(kBtu)\"].max()])\n",
    "# B2EexistPeak = (B2Eexist[B2Eexist[\"TotalEnergy(kBtu)\"] == B2Eexist[\"TotalEnergy(kBtu)\"].max()])\n",
    "# B2EclearPeak = (B2Eclear[B2Eclear[\"TotalEnergy(kBtu)\"] == B2Eclear[\"TotalEnergy(kBtu)\"].max()])\n",
    "# B2ElowePeak = (B2Elowe[B2Elowe[\"TotalEnergy(kBtu)\"] == B2Elowe[\"TotalEnergy(kBtu)\"].max()])\n",
    "# B3SexistPeak = (B3Sexist[B3Sexist[\"TotalEnergy(kBtu)\"] == B3Sexist[\"TotalEnergy(kBtu)\"].max()])\n",
    "# B3SclearPeak = (B3Sclear[B3Sclear[\"TotalEnergy(kBtu)\"] == B3Sclear[\"TotalEnergy(kBtu)\"].max()])\n",
    "# B3SlowePeak = (B3Slowe[B3Slowe[\"TotalEnergy(kBtu)\"] == B3Slowe[\"TotalEnergy(kBtu)\"].max()])\n",
    "# B3WexistPeak = (B3Wexist[B3Wexist[\"TotalEnergy(kBtu)\"] == B3Wexist[\"TotalEnergy(kBtu)\"].max()])\n",
    "# B3WclearPeak = (B3Wclear[B3Wclear[\"TotalEnergy(kBtu)\"] == B3Wclear[\"TotalEnergy(kBtu)\"].max()])\n",
    "# B3WlowePeak = (B3Wlowe[B3Wlowe[\"TotalEnergy(kBtu)\"] == B3Wlowe[\"TotalEnergy(kBtu)\"].max()])\n",
    "# C1EexistPeak = (C1Eexist[C1Eexist[\"TotalEnergy(kBtu)\"] == C1Eexist[\"TotalEnergy(kBtu)\"].max()])\n",
    "# C1EclearPeak = (C1Eclear[C1Eclear[\"TotalEnergy(kBtu)\"] == C1Eclear[\"TotalEnergy(kBtu)\"].max()])\n",
    "# C1ElowePeak = (C1Elowe[C1Elowe[\"TotalEnergy(kBtu)\"] == C1Elowe[\"TotalEnergy(kBtu)\"].max()])\n",
    "# C1NexistPeak = (C1Nexist[C1Nexist[\"TotalEnergy(kBtu)\"] == C1Nexist[\"TotalEnergy(kBtu)\"].max()])\n",
    "# C1NclearPeak = (C1Nclear[C1Nclear[\"TotalEnergy(kBtu)\"] == C1Nclear[\"TotalEnergy(kBtu)\"].max()])\n",
    "# C1NlowePeak = (C1Nlowe[C1Nlowe[\"TotalEnergy(kBtu)\"] == C1Nlowe[\"TotalEnergy(kBtu)\"].max()])\n",
    "# C1SexistPeak = (C1Sexist[C1Sexist[\"TotalEnergy(kBtu)\"] == C1Sexist[\"TotalEnergy(kBtu)\"].max()])\n",
    "# C1SclearPeak = (C1Sclear[C1Sclear[\"TotalEnergy(kBtu)\"] == C1Sclear[\"TotalEnergy(kBtu)\"].max()])\n",
    "# C1SlowePeak = (C1Slowe[C1Slowe[\"TotalEnergy(kBtu)\"] == C1Slowe[\"TotalEnergy(kBtu)\"].max()])\n",
    "# C2WexistPeak = (C2Wexist[C2Wexist[\"TotalEnergy(kBtu)\"] == C2Wexist[\"TotalEnergy(kBtu)\"].max()])\n",
    "# C2WclearPeak = (C2Wclear[C2Wclear[\"TotalEnergy(kBtu)\"] == C2Wclear[\"TotalEnergy(kBtu)\"].max()])\n",
    "# C2WlowePeak = (C2Wlowe[C2Wlowe[\"TotalEnergy(kBtu)\"] == C2Wlowe[\"TotalEnergy(kBtu)\"].max()])\n",
    "# C3WexistPeak = (C3Wexist[C3Wexist[\"TotalEnergy(kBtu)\"] == C3Wexist[\"TotalEnergy(kBtu)\"].max()])\n",
    "# C3WclearPeak = (C3Wclear[C3Wclear[\"TotalEnergy(kBtu)\"] == C3Wclear[\"TotalEnergy(kBtu)\"].max()])\n",
    "# C3WlowePeak = (C3Wlowe[C3Wlowe[\"TotalEnergy(kBtu)\"] == C3Wlowe[\"TotalEnergy(kBtu)\"].max()])\n"
   ]
  },
  {
   "cell_type": "code",
   "execution_count": null,
   "metadata": {},
   "outputs": [],
   "source": [
    "# PeakDemandElec = A1EexistPeak.append([A1EclearPeak,\n",
    "# A1ElowePeak,\n",
    "# A1NexistPeak,\n",
    "# A1NclearPeak,\n",
    "# A1NlowePeak,\n",
    "# A1WexistPeak,\n",
    "# A1WclearPeak,\n",
    "# A1WlowePeak,\n",
    "# A2SexisttPeak,\n",
    "# A2SclearPeak,\n",
    "# A2SlowePeak,\n",
    "# B1EexistPeak,\n",
    "# B1EclearPeak,\n",
    "# B1ElowePeak,\n",
    "# B1NexistPeak,\n",
    "# B1NclearPeak,\n",
    "# B1NlowePeak,\n",
    "# B1WexistPeak,\n",
    "# B1WclearPeak,\n",
    "# B1WlowePeak,\n",
    "# B2EexistPeak,\n",
    "# B2EclearPeak,\n",
    "# B2ElowePeak,\n",
    "# B3SexistPeak,\n",
    "# B3SclearPeak,\n",
    "# B3SlowePeak,\n",
    "# B3WexistPeak,\n",
    "# B3WclearPeak,\n",
    "# B3WlowePeak,\n",
    "# C1EexistPeak,\n",
    "# C1EclearPeak,\n",
    "# C1ElowePeak,\n",
    "# C1NexistPeak,\n",
    "# C1NclearPeak,\n",
    "# C1NlowePeak,\n",
    "# C1SexistPeak,\n",
    "# C1SclearPeak,\n",
    "# C1SlowePeak,\n",
    "# C2WexistPeak,\n",
    "# C2WclearPeak,\n",
    "# C2WlowePeak,\n",
    "# C3WexistPeak,\n",
    "# C3WclearPeak,\n",
    "# C3WlowePeak])\n",
    "\n",
    "# # PeakDemandElec"
   ]
  },
  {
   "cell_type": "code",
   "execution_count": null,
   "metadata": {},
   "outputs": [],
   "source": [
    "# # Export dataframe  to csv\n",
    "# PeakDemandElec.to_csv(\"Scraper_Output/sat_peak_com.csv\", header=True, index=True)"
   ]
  }
 ],
 "metadata": {
  "kernelspec": {
   "display_name": "Python 3",
   "language": "python",
   "name": "python3"
  },
  "language_info": {
   "codemirror_mode": {
    "name": "ipython",
    "version": 3
   },
   "file_extension": ".py",
   "mimetype": "text/x-python",
   "name": "python",
   "nbconvert_exporter": "python",
   "pygments_lexer": "ipython3",
   "version": "3.6.10"
  },
  "varInspector": {
   "cols": {
    "lenName": 16,
    "lenType": 16,
    "lenVar": 40
   },
   "kernels_config": {
    "python": {
     "delete_cmd_postfix": "",
     "delete_cmd_prefix": "del ",
     "library": "var_list.py",
     "varRefreshCmd": "print(var_dic_list())"
    },
    "r": {
     "delete_cmd_postfix": ") ",
     "delete_cmd_prefix": "rm(",
     "library": "var_list.r",
     "varRefreshCmd": "cat(var_dic_list()) "
    }
   },
   "types_to_exclude": [
    "module",
    "function",
    "builtin_function_or_method",
    "instance",
    "_Feature"
   ],
   "window_display": false
  }
 },
 "nbformat": 4,
 "nbformat_minor": 2
}
