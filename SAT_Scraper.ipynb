{
 "cells": [
  {
   "cell_type": "markdown",
   "metadata": {},
   "source": [
    "# San Antonio Hotel Simulations\n",
    "8760 rows per simulation<br>\n",
    "Floors for residential and commercial\n",
    "\n",
    "## Preprocess\n",
    "\n",
    "1. Generate zone with facade glazing systems in COMFEN.\n",
    "\n",
    "2. Retrieve IDFs for each scenario from the COMFEN5 Results folder. Have to do each of the 3 sections of the building as its own sqlite file and each project by orientation separately. Then IDF files are copied after each simulation. These files will be used in the Jupyter Notebook.\n",
    "\n",
    "3. Convert from E+ 8.1 to 9.5 using the .lst format.\n",
    "4. Change the reporting in the IDF files to \"All\" to get the HTML summary table and the inch-pound units for verification.\n",
    "      \n",
    "    * OutputControl:Table:Style,\n",
    "    * All,                     !- Column Separator\n",
    "    * InchPound;               !- Unit Conversion\n",
    "5. Rerun batch sims in EnergyPlus v9.5.\n",
    "6. Add \"Scenario\", \"Elevation, and \"GlazingSystem\" to the results CSV files."
   ]
  },
  {
   "cell_type": "code",
   "execution_count": 1,
   "metadata": {},
   "outputs": [],
   "source": [
    "# Dependencies\n",
    "import pandas as pd\n",
    "import os\n",
    "import numpy as np\n",
    "from pathlib import Path\n",
    "from datetime import datetime"
   ]
  },
  {
   "cell_type": "markdown",
   "metadata": {},
   "source": [
    "## Energy Conversions\n",
    "\n",
    "As per E* Documentation<br>\n",
    "\n",
    "Joules --> kBtu (multiply by .00000094781712)<br>\n",
    "Joules --> kWh (multiply by .000000277777778) or (divide by 3600000)<br>\n",
    "Joules --> therms (multiply by .0000000094781712<br>"
   ]
  },
  {
   "cell_type": "markdown",
   "metadata": {},
   "source": [
    "<div>\n",
    "    <img src=\"static/images/elect_conv.png\" width=\"400\"/>\n",
    "     <img src=\"static/images/gas_conv.png\" width=\"400\"/>\n",
    "</div"
   ]
  },
  {
   "cell_type": "markdown",
   "metadata": {},
   "source": [
    "## Energy Costs and Emission Factors\n",
    "\n",
    "http://seeatcalc.gastechnology.org/ResidentialBuildings.aspx"
   ]
  },
  {
   "cell_type": "code",
   "execution_count": 2,
   "metadata": {},
   "outputs": [],
   "source": [
    "# Costs (elec $/kWh, gas $/therm), change values per city\n",
    "comgas_cost = 0.60\n",
    "comelec_cost = 0.0806"
   ]
  },
  {
   "cell_type": "code",
   "execution_count": 3,
   "metadata": {},
   "outputs": [],
   "source": [
    "# Source Energy Conversion Factors (same for res or comm), change values per city\n",
    "gas_source = 1.09\n",
    "elec_source = 2.53"
   ]
  },
  {
   "cell_type": "code",
   "execution_count": 4,
   "metadata": {},
   "outputs": [],
   "source": [
    "# Carbon equivalent factors (same for res or comm), change values per city\n",
    "\n",
    "#Electricity (lb/MMBtu) 323.34 (lb/kbtu).32334 ####\n",
    "#Natural Gas (Building Used, lb/MMBtu) 145.66 (lb/kBtu .14566) ####\n",
    "\n",
    "gas_co2 = 0.14566\n",
    "elec_co2 = 0.42103"
   ]
  },
  {
   "cell_type": "code",
   "execution_count": 5,
   "metadata": {},
   "outputs": [],
   "source": [
    "# Zone size for EUI and cost/sf\n",
    "\n",
    "sf = 189.6"
   ]
  },
  {
   "cell_type": "code",
   "execution_count": 6,
   "metadata": {},
   "outputs": [],
   "source": [
    "# Lighting energy reduction, assumption that LEDs are being used. \n",
    "# Use this multiplier if reductions are not in the COMFEN model\n",
    "\n",
    "lighting_redux = 1"
   ]
  },
  {
   "cell_type": "code",
   "execution_count": 7,
   "metadata": {},
   "outputs": [],
   "source": [
    "# # For peak demand calculations (.0002931 kW = 1 Btu).\n",
    "\n",
    "# kw = 0.0002931"
   ]
  },
  {
   "cell_type": "markdown",
   "metadata": {},
   "source": [
    "---\n",
    "\n",
    "## Combine CSV Files in Directory Commercial Electric Heating"
   ]
  },
  {
   "cell_type": "code",
   "execution_count": 8,
   "metadata": {},
   "outputs": [],
   "source": [
    "# Create variable for files in directory\n",
    "files = [f for f in os.listdir(\"data/sat/\") if f.endswith(\".csv\")]\n",
    "\n",
    "# files"
   ]
  },
  {
   "cell_type": "code",
   "execution_count": 9,
   "metadata": {},
   "outputs": [],
   "source": [
    "# https://stackoverflow.com/questions/63886787/how-to-create-a-dataframe-from-multiple-csv-files\n",
    "# Initialize and empty dataframe\n",
    "all_ComElec = pd.DataFrame()\n",
    "\n",
    "# Iterate through files and contents, then concatenate the data into the dataframe\n",
    "for file in files:\n",
    "    df = pd.read_csv(\"data/sat/\" + file)\n",
    "    all_ComElec = pd.concat([all_ComElec, df])\n",
    "    \n",
    "# all_ComElec\n",
    "\n",
    "# 394200  rows, 44 columns"
   ]
  },
  {
   "cell_type": "code",
   "execution_count": 10,
   "metadata": {},
   "outputs": [],
   "source": [
    "# list(all_ComElec.columns.values)"
   ]
  },
  {
   "cell_type": "code",
   "execution_count": 11,
   "metadata": {},
   "outputs": [],
   "source": [
    "# Get wanted columns\n",
    "all_ComElec1 = all_ComElec[[\"Scenario\",\n",
    "               \"Date/Time\",\n",
    "                \"Elevation\",\n",
    "               \"GlazingSystem\",\n",
    "              \"SYS-1 HEATING COIL:Heating Coil Electricity Energy [J](Hourly)\",\n",
    "              \"SYS-1:Air System NaturalGas Energy [J](Hourly)\",\n",
    "              \"SYS-1:Air System Fan Electricity Energy [J](Hourly)\",\n",
    "              \"SYS-1:Air System DX Cooling Coil Electricity Energy [J](Hourly) \",\n",
    "             \"COMFENZONE:Zone Lights Electricity Energy [J](Hourly)\"]]\n",
    "\n",
    "# all_ComElec1"
   ]
  },
  {
   "cell_type": "code",
   "execution_count": 12,
   "metadata": {},
   "outputs": [],
   "source": [
    "all_ComElec1 = all_ComElec1.dropna().reset_index(drop=True)\n",
    "\n",
    "#all_ComElec1"
   ]
  },
  {
   "cell_type": "code",
   "execution_count": 13,
   "metadata": {},
   "outputs": [],
   "source": [
    "# # Export grouped file to csv\n",
    "# all_ComElec1.to_csv(\"Scraper_Output/sat_all.csv\", header=True, index=True)"
   ]
  },
  {
   "cell_type": "markdown",
   "metadata": {},
   "source": [
    "-----\n",
    "\n",
    "## Get the Wanted Data (columns)"
   ]
  },
  {
   "cell_type": "code",
   "execution_count": 14,
   "metadata": {
    "scrolled": true
   },
   "outputs": [],
   "source": [
    "# Rename Columns\n",
    "all_ComElec2 = all_ComElec1.rename(columns={\"Scenario\":\"Scenario\",\n",
    "                              \"Date/Time\":\"Date_Time\",\n",
    "                             \"SYS-1:Air System Fan Electricity Energy [J](Hourly)\":\"FanEnergy[J](Hourly)\",\n",
    "                             \"SYS-1:Air System NaturalGas Energy [J](Hourly)\":\"HeatingGasEnergy[J](Hourly)\",\n",
    "                            \"SYS-1 HEATING COIL:Heating Coil Electricity Energy [J](Hourly)\":\"HeatingElecEnergy[J](Hourly)\",\n",
    "                            \"SYS-1:Air System DX Cooling Coil Electricity Energy [J](Hourly) \":\"CoolingEnergy[J](Hourly)\",\n",
    "                            \"COMFENZONE:Zone Lights Electricity Energy [J](Hourly)\":\"LightingEnergy[J](Hourly)\"\n",
    "                             })\n",
    "\n",
    "#all_ComElec2"
   ]
  },
  {
   "cell_type": "markdown",
   "metadata": {},
   "source": [
    "-----\n",
    "\n",
    "## Get Annual Energy Data\n",
    "Convert units from Joules to kBtu<br>"
   ]
  },
  {
   "cell_type": "code",
   "execution_count": 15,
   "metadata": {},
   "outputs": [],
   "source": [
    "# Copy dataframe to modify and leave original df intact\n",
    "get_annual_ComElec = all_ComElec2.copy(deep=True)\n",
    "\n",
    "#get_annual_ComElec"
   ]
  },
  {
   "cell_type": "code",
   "execution_count": 16,
   "metadata": {},
   "outputs": [],
   "source": [
    "# Convert Joules to KBtu in dataframe\n",
    "get_annual_ComElec[\"FanEnergy(kBtu)\"] = get_annual_ComElec[\"FanEnergy[J](Hourly)\"] * .00000094781712\n",
    "get_annual_ComElec[\"HeatingElecEnergy(kBtu)\"] = get_annual_ComElec[\"HeatingElecEnergy[J](Hourly)\"] * .00000094781712\n",
    "get_annual_ComElec[\"HeatingGasEnergy(kBtu)\"] = get_annual_ComElec[\"HeatingGasEnergy[J](Hourly)\"] * .00000094781712\n",
    "get_annual_ComElec[\"CoolingEnergy(kBtu)\"] = get_annual_ComElec[\"CoolingEnergy[J](Hourly)\"] * .00000094781712\n",
    "\n",
    "# Reduce lighting energy, assuming LEDs are being used\n",
    "get_annual_ComElec[\"LightingEnergy(kBtu)\"] = (get_annual_ComElec[\"LightingEnergy[J](Hourly)\"] * .00000094781712) * lighting_redux\n",
    "\n",
    "#get_annual_ComElec"
   ]
  },
  {
   "cell_type": "code",
   "execution_count": 17,
   "metadata": {},
   "outputs": [],
   "source": [
    "# Drop columns\n",
    "get_annual_ComElec.drop(columns = [\"FanEnergy[J](Hourly)\", \"HeatingElecEnergy[J](Hourly)\", \"HeatingGasEnergy[J](Hourly)\", \"CoolingEnergy[J](Hourly)\", \"LightingEnergy[J](Hourly)\"], axis=1, inplace=True)\n",
    "\n",
    "#get_annual_ComElec"
   ]
  },
  {
   "cell_type": "code",
   "execution_count": 18,
   "metadata": {},
   "outputs": [],
   "source": [
    "# Add energy totals\n",
    "totalComEnergy = get_annual_ComElec[\"FanEnergy(kBtu)\"] + get_annual_ComElec[\"HeatingElecEnergy(kBtu)\"] + get_annual_ComElec[\"LightingEnergy(kBtu)\"] + get_annual_ComElec[\"CoolingEnergy(kBtu)\"]\n",
    "        \n",
    "get_annual_ComElec[\"AnnualEnergy(kBtu)\"] = totalComEnergy\n",
    "\n",
    "# get_annual_ComElec"
   ]
  },
  {
   "cell_type": "markdown",
   "metadata": {},
   "source": [
    "-----\n",
    "\n",
    "## Get Energy per sf \n",
    "Add EUI (site) column<br>\n"
   ]
  },
  {
   "cell_type": "code",
   "execution_count": 19,
   "metadata": {},
   "outputs": [],
   "source": [
    "# Get data per sf (energy/sf)\n",
    "get_annual_ComElec[\"FanEnergy(kBtu/sf)\"] = (get_annual_ComElec[\"FanEnergy(kBtu)\"]) / sf\n",
    "get_annual_ComElec[\"HeatingElecEnergy(kBtu/sf)\"] = (get_annual_ComElec[\"HeatingElecEnergy(kBtu)\"]) / sf\n",
    "get_annual_ComElec[\"HeatingGasEnergy(kBtu/sf)\"] = (get_annual_ComElec[\"HeatingGasEnergy(kBtu)\"]) / sf\n",
    "get_annual_ComElec[\"CoolingEnergy(kBtu/sf)\"] = (get_annual_ComElec[\"CoolingEnergy(kBtu)\"]) / sf\n",
    "get_annual_ComElec[\"LightingEnergy(kBtu/sf)\"] = (get_annual_ComElec[\"LightingEnergy(kBtu)\"]) / sf"
   ]
  },
  {
   "cell_type": "code",
   "execution_count": 20,
   "metadata": {},
   "outputs": [],
   "source": [
    "# Establish EUI (energy/sf)\n",
    "get_annual_ComElec[\"EUI(kBtu/sf)\"] = (get_annual_ComElec[\"FanEnergy(kBtu)\"] +\n",
    "                                    get_annual_ComElec[\"HeatingElecEnergy(kBtu)\"] +\n",
    "                                    get_annual_ComElec[\"HeatingGasEnergy(kBtu)\"] +\n",
    "                                    get_annual_ComElec[\"LightingEnergy(kBtu)\"] +  \n",
    "                                    get_annual_ComElec[\"CoolingEnergy(kBtu)\"]) / sf\n",
    "                                                       \n",
    "#get_annual_ComElec"
   ]
  },
  {
   "cell_type": "markdown",
   "metadata": {},
   "source": [
    "-----\n",
    "\n",
    "## Get Carbon per sf \n",
    "Add carbon/sf column"
   ]
  },
  {
   "cell_type": "code",
   "execution_count": 21,
   "metadata": {},
   "outputs": [],
   "source": [
    "# Do carbon calculation using variable (lb/sf)\n",
    "get_annual_ComElec[\"CO2_Electric(lb/sf)\"] = ((get_annual_ComElec[\"FanEnergy(kBtu)\"] +\n",
    "                                    get_annual_ComElec[\"HeatingElecEnergy(kBtu)\"] +\n",
    "                                    get_annual_ComElec[\"LightingEnergy(kBtu)\"] +\n",
    "                                    get_annual_ComElec[\"CoolingEnergy(kBtu)\"]) * elec_co2) / sf\n",
    "                                                       \n",
    "# get_annual_ComElec"
   ]
  },
  {
   "cell_type": "code",
   "execution_count": 22,
   "metadata": {},
   "outputs": [],
   "source": [
    "get_annual_ComElec[\"CO2_Gas(lb/sf)\"] = ((get_annual_ComElec[\"HeatingGasEnergy(kBtu)\"]) * gas_co2) / sf\n",
    "                                                       \n",
    "# get_annual_ComElec"
   ]
  },
  {
   "cell_type": "markdown",
   "metadata": {},
   "source": [
    "## Get Annual Cost Data\n",
    "Convert units from Joules to kWh and therms to use cost multiplier<br>\n",
    "Add cost multiplier, variables defined above"
   ]
  },
  {
   "cell_type": "code",
   "execution_count": 23,
   "metadata": {},
   "outputs": [],
   "source": [
    "# Get annual costs\n",
    "get_annual_costs_ComElec = all_ComElec2.copy(deep=True)"
   ]
  },
  {
   "cell_type": "code",
   "execution_count": 24,
   "metadata": {},
   "outputs": [],
   "source": [
    "# Convert Joules to KBtu in dataframe and add cost multiplier\n",
    "# Gas kbtu => Mbtu => therms: (kbtu/1000) * 10\n",
    "# Elec kbtu => Kwh (kbtu * .000000277777778)\n",
    "get_annual_costs_ComElec[\"FanCost($)\"] = (get_annual_costs_ComElec[\"FanEnergy[J](Hourly)\"] * .000000277777778) * comelec_cost\n",
    "get_annual_costs_ComElec[\"HeatingElecCost($)\"] = ((get_annual_costs_ComElec[\"HeatingElecEnergy[J](Hourly)\"] * .00000094781712)/1000) * 10  * comgas_cost\n",
    "get_annual_costs_ComElec[\"HeatingGasCost($)\"] = ((get_annual_costs_ComElec[\"HeatingGasEnergy[J](Hourly)\"] * .00000094781712)/1000) * 10  * comgas_cost\n",
    "get_annual_costs_ComElec[\"CoolingCost($)\"] = (get_annual_costs_ComElec[\"CoolingEnergy[J](Hourly)\"] * .000000277777778) * comelec_cost\n",
    "\n",
    "# Reduce lighting energy, assuming LEDs are being used\n",
    "get_annual_costs_ComElec[\"LightingCost($)\"] = (get_annual_costs_ComElec[\"LightingEnergy[J](Hourly)\"] * .00000094781712) * lighting_redux\n",
    "\n",
    "#get_annual_costs"
   ]
  },
  {
   "cell_type": "code",
   "execution_count": 25,
   "metadata": {},
   "outputs": [],
   "source": [
    "# Drop columns\n",
    "get_annual_costs_ComElec.drop(columns = [\"FanEnergy[J](Hourly)\", \"HeatingElecEnergy[J](Hourly)\", \"HeatingGasEnergy[J](Hourly)\", \"CoolingEnergy[J](Hourly)\", \"LightingEnergy[J](Hourly)\"], axis=1, inplace=True)\n",
    "\n",
    "#get_annual_costs_ComElec"
   ]
  },
  {
   "cell_type": "code",
   "execution_count": 26,
   "metadata": {},
   "outputs": [],
   "source": [
    "# Add cost totals\n",
    "totalComCost = get_annual_costs_ComElec[\"FanCost($)\"] + get_annual_costs_ComElec[\"HeatingElecCost($)\"] + get_annual_costs_ComElec[\"HeatingGasCost($)\"]  + get_annual_costs_ComElec[\"CoolingCost($)\"] + get_annual_costs_ComElec[\"LightingCost($)\"]\n",
    "        \n",
    "get_annual_costs_ComElec[\"AnnualCost($)\"] = totalComCost\n",
    "\n",
    "# get_annual_costs_ComElec"
   ]
  },
  {
   "cell_type": "markdown",
   "metadata": {},
   "source": [
    "-----\n",
    "\n",
    "## Get Annual Cost per sf Data\n",
    "Add costs/sf columns<br>\n"
   ]
  },
  {
   "cell_type": "code",
   "execution_count": 27,
   "metadata": {},
   "outputs": [],
   "source": [
    "# Get data per sf ($/sf)\n",
    "get_annual_costs_ComElec[\"FanCost($/sf)\"] = (get_annual_costs_ComElec[\"FanCost($)\"]) / sf\n",
    "get_annual_costs_ComElec[\"HeatingElecCost($/sf)\"] = (get_annual_costs_ComElec[\"HeatingElecCost($)\"]) / sf\n",
    "get_annual_costs_ComElec[\"HeatingGasCost($/sf)\"] = (get_annual_costs_ComElec[\"HeatingGasCost($)\"]) / sf\n",
    "get_annual_costs_ComElec[\"CoolingCost($/sf)\"] = (get_annual_costs_ComElec[\"CoolingCost($)\"]) / sf\n",
    "get_annual_costs_ComElec[\"LightingCost($/sf)\"] = (get_annual_costs_ComElec[\"LightingCost($)\"]) / sf\n",
    "\n",
    "# get_annual_costs_ComElec"
   ]
  },
  {
   "cell_type": "code",
   "execution_count": 28,
   "metadata": {},
   "outputs": [],
   "source": [
    "# Establish costs ($/sf)\n",
    "get_annual_costs_ComElec[\"AnnualCost($/sf)\"] = (get_annual_costs_ComElec[\"FanCost($)\"] +\n",
    "                                    get_annual_costs_ComElec[\"HeatingElecCost($)\"] +\n",
    "                                    get_annual_costs_ComElec[\"HeatingGasCost($)\"] +  \n",
    "                                    get_annual_costs_ComElec[\"CoolingCost($)\"] +  \n",
    "                                    get_annual_costs_ComElec[\"LightingCost($)\"]) / sf\n",
    "                                                       \n",
    "# get_annual_costs_ComElec"
   ]
  },
  {
   "cell_type": "markdown",
   "metadata": {},
   "source": [
    "---\n",
    "\n",
    "## Combine Annual Energy and Cost Data\n",
    "Combine two dfs<br>\n",
    "Export combine file"
   ]
  },
  {
   "cell_type": "code",
   "execution_count": 29,
   "metadata": {},
   "outputs": [],
   "source": [
    "# # Combine data for energy and cost\n",
    "allAnnualDataComElec = pd.merge(get_annual_ComElec, get_annual_costs_ComElec)\n",
    "\n",
    "# allAnnualDataComElec"
   ]
  },
  {
   "cell_type": "code",
   "execution_count": 30,
   "metadata": {},
   "outputs": [],
   "source": [
    "# list(allAnnualDataComElec.columns.values)"
   ]
  },
  {
   "cell_type": "markdown",
   "metadata": {},
   "source": [
    "---\n",
    "## Group and Export Annual Data\n",
    "Group dataframe by scenario<br>\n",
    "Export to file"
   ]
  },
  {
   "cell_type": "code",
   "execution_count": 31,
   "metadata": {},
   "outputs": [],
   "source": [
    "# Group by scenario\n",
    "annualDataCom = allAnnualDataComElec.groupby([\"Scenario\", \"Elevation\", \"GlazingSystem\"], as_index=True)\n",
    "\n",
    "# annualDataCom.sum().round(2)"
   ]
  },
  {
   "cell_type": "code",
   "execution_count": 32,
   "metadata": {},
   "outputs": [],
   "source": [
    "annualDataComFinal = annualDataCom.sum().round(2)\n",
    "\n",
    "# annualDataComFinal"
   ]
  },
  {
   "cell_type": "code",
   "execution_count": 33,
   "metadata": {},
   "outputs": [],
   "source": [
    "# Export grouped file to csv\n",
    "annualDataComFinal.to_csv(\"Scraper_Output/sat_annual_com.csv\", header=True, index=True)"
   ]
  },
  {
   "cell_type": "markdown",
   "metadata": {},
   "source": [
    "---\n",
    "\n",
    "## Establish dataframes for each condition to determine delta from existing\n",
    "\n",
    "Create dataset with just existing condition.<br> \n",
    "Created a dataset with clear panel. <br>\n",
    "Create a dataset with lowe panel.<br>\n",
    "Keep the units in kBtus to be able to eventually combine heating and cooling <br>\n",
    "Export to CSV files\n"
   ]
  },
  {
   "cell_type": "code",
   "execution_count": 34,
   "metadata": {},
   "outputs": [],
   "source": [
    "# Define the scenario for the existing condition.\n",
    "baselineAnnualDataComElec = allAnnualDataComElec[allAnnualDataComElec[\"GlazingSystem\"] == \"Exist\"]\n",
    "\n",
    "# baselineAnnualDataComElec"
   ]
  },
  {
   "cell_type": "code",
   "execution_count": 35,
   "metadata": {},
   "outputs": [],
   "source": [
    "# Rename columns to indicate baseline to prepare for merge\"\n",
    "\n",
    "allBaselineAnnualDataComElec = baselineAnnualDataComElec.rename(columns={'Scenario':'B_Scenario',\n",
    " 'Date_Time':'B_Date_Time',\n",
    " 'Elevation':'B_Elevation',\n",
    " 'GlazingSystem':'B_GlazingSystem',\n",
    " 'FanEnergy(kBtu)':'B_FanEnergy(kBtu)',\n",
    " 'HeatingElecEnergy(kBtu)':'B_HeatingElecEnergy(kBtu)',\n",
    " 'HeatingGasEnergy(kBtu)':'B_HeatingGasEnergy(kBtu)',\n",
    " 'CoolingEnergy(kBtu)':'B_CoolingEnergy(kBtu)',\n",
    " 'LightingEnergy(kBtu)':'B_LightingEnergy(kBtu)',\n",
    " 'AnnualEnergy(kBtu)':'B_AnnualEnergy(kBtu)',\n",
    " 'FanEnergy(kBtu/sf)':'B_FanEnergy(kBtu/sf)',\n",
    " 'HeatingElecEnergy(kBtu/sf)':'B_HeatingElecEnergy(kBtu/sf)',\n",
    " 'HeatingGasEnergy(kBtu/sf)':'B_HeatingGasEnergy(kBtu/sf)',\n",
    " 'CoolingEnergy(kBtu/sf)':'B_CoolingEnergy(kBtu/sf)',\n",
    " 'LightingEnergy(kBtu/sf)':'B_LightingEnergy(kBtu/sf)',\n",
    " 'EUI(kBtu/sf)':'B_EUI(kBtu/sf)',\n",
    " 'CO2_Electric(lb/sf)':'B_CO2_Electric(lb/sf)',\n",
    " 'CO2_Gas(lb/sf)':'B_CO2_Gas(lb/sf)',\n",
    " 'FanCost($)':'B_FanCost($)',\n",
    " 'HeatingElecCost($)':'B_HeatingElecCost($)',\n",
    " 'HeatingGasCost($)':'B_HeatingGasCost($)',\n",
    " 'CoolingCost($)':'B_CoolingCost($)',\n",
    " 'LightingCost($)':'B_LightingCost($)',\n",
    " 'AnnualCost($)':'B_AnnualCost($)',\n",
    " 'FanCost($/sf)':'B_FanCost($/sf)',\n",
    " 'HeatingElecCost($/sf)':'B_HeatingElecCost($/sf)',\n",
    " 'HeatingGasCost($/sf)':'B_HeatingGasCost($/sf)',\n",
    " 'CoolingCost($/sf)':'B_CoolingCost($/sf)',\n",
    " 'LightingCost($/sf)':'B_LightingCost($/sf)',\n",
    " 'AnnualCost($/sf)':'B_AnnualCost($/sf)'\n",
    "                            })\n",
    "\n",
    "# allBaselineAnnualDataComElec"
   ]
  },
  {
   "cell_type": "code",
   "execution_count": 36,
   "metadata": {},
   "outputs": [],
   "source": [
    "# Reset index\n",
    "allBaselineAnnualDataComElec.reset_index(inplace=True, drop=True)\n",
    "\n",
    "# allBaselineAnnualDataComElec"
   ]
  },
  {
   "cell_type": "code",
   "execution_count": 37,
   "metadata": {},
   "outputs": [],
   "source": [
    "# # Define the scenario for the baselines.\n",
    "\n",
    "clearAnnualDataComElec = allAnnualDataComElec[allAnnualDataComElec[\"GlazingSystem\"] == \"Clear\"]\n",
    "\n",
    "# clearAnnualDataComElec"
   ]
  },
  {
   "cell_type": "code",
   "execution_count": 38,
   "metadata": {},
   "outputs": [],
   "source": [
    "# Rename columns to indicate baseline to prepare for merge\"\n",
    "\n",
    "allClearAnnualDataComElec = clearAnnualDataComElec.rename(columns={'Scenario':'C_Scenario',\n",
    " 'Date_Time':'C_Date_Time',\n",
    " 'Elevation':'C_Elevation',\n",
    " 'GlazingSystem':'C_GlazingSystem',\n",
    " 'FanEnergy(kBtu)':'C_FanEnergy(kBtu)',\n",
    " 'HeatingElecEnergy(kBtu)':'C_HeatingElecEnergy(kBtu)',\n",
    " 'HeatingGasEnergy(kBtu)':'C_HeatingGasEnergy(kBtu)',\n",
    " 'CoolingEnergy(kBtu)':'C_CoolingEnergy(kBtu)',\n",
    " 'LightingEnergy(kBtu)':'C_LightingEnergy(kBtu)',\n",
    " 'AnnualEnergy(kBtu)':'C_AnnualEnergy(kBtu)',\n",
    " 'FanEnergy(kBtu/sf)':'C_FanEnergy(kBtu/sf)',\n",
    " 'HeatingElecEnergy(kBtu/sf)':'C_HeatingElecEnergy(kBtu/sf)',\n",
    " 'HeatingGasEnergy(kBtu/sf)':'C_HeatingGasEnergy(kBtu/sf)',\n",
    " 'CoolingEnergy(kBtu/sf)':'C_CoolingEnergy(kBtu/sf)',\n",
    " 'LightingEnergy(kBtu/sf)':'C_LightingEnergy(kBtu/sf)',\n",
    " 'EUI(kBtu/sf)':'C_EUI(kBtu/sf)',\n",
    " 'CO2_Electric(lb/sf)':'C_CO2_Electric(lb/sf)',\n",
    " 'CO2_Gas(lb/sf)':'C_CO2_Gas(lb/sf)',\n",
    " 'FanCost($)':'C_FanCost($)',\n",
    " 'HeatingElecCost($)':'C_HeatingElecCost($)',\n",
    " 'HeatingGasCost($)':'C_HeatingGasCost($)',\n",
    " 'CoolingCost($)':'C_CoolingCost($)',\n",
    " 'LightingCost($)':'C_LightingCost($)',\n",
    " 'AnnualCost($)':'C_AnnualCost($)',\n",
    " 'FanCost($/sf)':'C_FanCost($/sf)',\n",
    " 'HeatingElecCost($/sf)':'C_HeatingElecCost($/sf)',\n",
    " 'HeatingGasCost($/sf)':'C_HeatingGasCost($/sf)',\n",
    " 'CoolingCost($/sf)':'C_CoolingCost($/sf)',\n",
    " 'LightingCost($/sf)':'C_LightingCost($/sf)',\n",
    " 'AnnualCost($/sf)':'C_AnnualCost($/sf)'\n",
    "                            })\n",
    "\n",
    "# allClearAnnualDataComElec"
   ]
  },
  {
   "cell_type": "code",
   "execution_count": 39,
   "metadata": {},
   "outputs": [],
   "source": [
    "# Reset index\n",
    "allClearAnnualDataComElec.reset_index(inplace=True, drop=True)\n",
    "\n",
    "# allClearAnnualDataComElec"
   ]
  },
  {
   "cell_type": "code",
   "execution_count": 40,
   "metadata": {},
   "outputs": [],
   "source": [
    "# Define the scenario for the baselines.\n",
    "\n",
    "loweAnnualDataComElec = allAnnualDataComElec[allAnnualDataComElec[\"GlazingSystem\"] == \"Lowe\"]\n",
    "\n",
    "# loweAnnualDataComElec"
   ]
  },
  {
   "cell_type": "code",
   "execution_count": 41,
   "metadata": {},
   "outputs": [],
   "source": [
    "# Rename columns to indicate baseline to prepare for merge\"\n",
    "\n",
    "allLoweAnnualDataComElec = loweAnnualDataComElec.rename(columns={'Scenario':'L_Scenario',\n",
    " 'Date_Time':'L_Date_Time',\n",
    " 'Elevation':'L_Elevation',\n",
    " 'GlazingSystem':'L_GlazingSystem',\n",
    " 'FanEnergy(kBtu)':'L_FanEnergy(kBtu)',\n",
    " 'HeatingElecEnergy(kBtu)':'L_HeatingElecEnergy(kBtu)',\n",
    " 'HeatingGasEnergy(kBtu)':'L_HeatingGasEnergy(kBtu)',\n",
    " 'CoolingEnergy(kBtu)':'L_CoolingEnergy(kBtu)',\n",
    " 'LightingEnergy(kBtu)':'L_LightingEnergy(kBtu)',\n",
    " 'AnnualEnergy(kBtu)':'L_AnnualEnergy(kBtu)',\n",
    " 'FanEnergy(kBtu/sf)':'L_FanEnergy(kBtu/sf)',\n",
    " 'HeatingElecEnergy(kBtu/sf)':'L_HeatingElecEnergy(kBtu/sf)',\n",
    " 'HeatingGasEnergy(kBtu/sf)':'L_HeatingGasEnergy(kBtu/sf)',\n",
    " 'CoolingEnergy(kBtu/sf)':'L_CoolingEnergy(kBtu/sf)',\n",
    " 'LightingEnergy(kBtu/sf)':'L_LightingEnergy(kBtu/sf)',\n",
    " 'EUI(kBtu/sf)':'L_EUI(kBtu/sf)',\n",
    " 'CO2_Electric(lb/sf)':'L_CO2_Electric(lb/sf)',\n",
    " 'CO2_Gas(lb/sf)':'L_CO2_Gas(lb/sf)',\n",
    " 'FanCost($)':'L_FanCost($)',\n",
    " 'HeatingElecCost($)':'L_HeatingElecCost($)',\n",
    " 'HeatingGasCost($)':'L_HeatingGasCost($)',\n",
    " 'CoolingCost($)':'L_CoolingCost($)',\n",
    " 'LightingCost($)':'L_LightingCost($)',\n",
    " 'AnnualCost($)':'L_AnnualCost($)',\n",
    " 'FanCost($/sf)':'L_FanCost($/sf)',\n",
    " 'HeatingElecCost($/sf)':'L_HeatingElecCost($/sf)',\n",
    " 'HeatingGasCost($/sf)':'L_HeatingGasCost($/sf)',\n",
    " 'CoolingCost($/sf)':'L_CoolingCost($/sf)',\n",
    " 'LightingCost($/sf)':'L_LightingCost($/sf)',\n",
    " 'AnnualCost($/sf)':'L_AnnualCost($/sf)'\n",
    "                            })\n",
    "\n",
    "# allLoweAnnualDataComElec"
   ]
  },
  {
   "cell_type": "code",
   "execution_count": 42,
   "metadata": {},
   "outputs": [],
   "source": [
    "#Reset index\n",
    "allLoweAnnualDataComElec.reset_index(inplace=True, drop=True)\n",
    "\n",
    "# allLoweAnnualDataComElec"
   ]
  },
  {
   "cell_type": "code",
   "execution_count": 43,
   "metadata": {},
   "outputs": [],
   "source": [
    "# # Export individual CSV files for each condition\n",
    "\n",
    "# allBaselineAnnualDataComElec.to_csv(\"Scraper_Output/sat_exist_all_annual_com.csv\", header=True, index=True)\n",
    "# allClearAnnualDataComElec.to_csv(\"Scraper_Output/sat_clear_all_annual_com.csv\", header=True, index=True)\n",
    "# allLoweAnnualDataComElec.to_csv(\"Scraper_Output/sat_lowe_all_annual_com.csv\", header=True, index=True)"
   ]
  },
  {
   "cell_type": "markdown",
   "metadata": {},
   "source": [
    "---\n",
    "## Merge the 3 dataframes to perform delta from existing calculation\n"
   ]
  },
  {
   "cell_type": "code",
   "execution_count": 44,
   "metadata": {},
   "outputs": [],
   "source": [
    "# merge existing and clear\n",
    "MergedAnnualData = pd.merge(allBaselineAnnualDataComElec, allClearAnnualDataComElec, left_index=True, right_index=True)\n",
    "\n",
    "# merge the above with lowe\n",
    "AllMergedAnnualData = pd.merge(MergedAnnualData, allLoweAnnualDataComElec, left_index=True, right_index=True)\n",
    "\n",
    "# AllMergedAnnualData"
   ]
  },
  {
   "cell_type": "code",
   "execution_count": 45,
   "metadata": {},
   "outputs": [],
   "source": [
    "# list(AllMergedAnnualData.columns.values)"
   ]
  },
  {
   "cell_type": "code",
   "execution_count": 46,
   "metadata": {},
   "outputs": [],
   "source": [
    "# Deltas of exist - clear\n",
    "\n",
    "AllMergedAnnualData[\"DeltaClear_FanEnergy(kBtu/sf)\"] = AllMergedAnnualData[\"B_FanEnergy(kBtu/sf)\"] - AllMergedAnnualData[\"C_FanEnergy(kBtu/sf)\"]\n",
    "AllMergedAnnualData[\"DeltaClear_HeatingElecEnergy(kBtu/sf)\"] = AllMergedAnnualData[\"B_HeatingElecEnergy(kBtu/sf)\"] - AllMergedAnnualData[\"C_HeatingElecEnergy(kBtu/sf)\"]\n",
    "AllMergedAnnualData[\"DeltaClear_HeatingGasEnergy(kBtu/sf)\"] = AllMergedAnnualData[\"B_HeatingGasEnergy(kBtu/sf)\"] - AllMergedAnnualData[\"C_HeatingGasEnergy(kBtu/sf)\"]\n",
    "AllMergedAnnualData[\"DeltaClear_CoolingEnergy(kBtu/sf)\"] = AllMergedAnnualData[\"B_CoolingEnergy(kBtu/sf)\"] - AllMergedAnnualData[\"C_CoolingEnergy(kBtu/sf)\"]\n",
    "AllMergedAnnualData[\"DeltaClear_LightingEnergy(kBtu/sf)\"] = AllMergedAnnualData[\"B_LightingEnergy(kBtu/sf)\"] - AllMergedAnnualData[\"C_LightingEnergy(kBtu/sf)\"]\n",
    "AllMergedAnnualData[\"DeltaClear_EUI(kBtu/sf)\"] = AllMergedAnnualData[\"B_EUI(kBtu/sf)\"] - AllMergedAnnualData[\"C_EUI(kBtu/sf)\"]\n",
    "AllMergedAnnualData[\"DeltaClear_CO2_Electric(lb/sf)\"] = AllMergedAnnualData[\"B_CO2_Electric(lb/sf)\"] - AllMergedAnnualData[\"C_CO2_Electric(lb/sf)\"]\n",
    "AllMergedAnnualData[\"DeltaClear_CO2_Gas(lb/sf)\"] = AllMergedAnnualData[\"B_CO2_Gas(lb/sf)\"] - AllMergedAnnualData[\"C_CO2_Gas(lb/sf)\"]\n",
    "AllMergedAnnualData[\"DeltaClear_FanCost($)\"] = AllMergedAnnualData[\"B_FanCost($)\"] - AllMergedAnnualData[\"C_FanCost($)\"]\n",
    "AllMergedAnnualData[\"DeltaClear_HeatingElecCost($)\"] = AllMergedAnnualData[\"B_HeatingElecCost($)\"] - AllMergedAnnualData[\"C_HeatingElecCost($)\"]\n",
    "AllMergedAnnualData[\"DeltaClear_HeatingGasCost($)\"] = AllMergedAnnualData[\"B_HeatingGasCost($)\"] - AllMergedAnnualData[\"C_HeatingGasCost($)\"]\n",
    "AllMergedAnnualData[\"DeltaClear_CoolingCost($)\"] = AllMergedAnnualData[\"B_CoolingCost($)\"] - AllMergedAnnualData[\"C_CoolingCost($)\"]\n",
    "AllMergedAnnualData[\"DeltaClear_LightingCost($)\"] = AllMergedAnnualData[\"B_LightingCost($)\"] - AllMergedAnnualData[\"C_LightingCost($)\"]\n",
    "AllMergedAnnualData[\"DeltaClear_AnnualCost($)\"] = AllMergedAnnualData[\"B_AnnualCost($)\"] - AllMergedAnnualData[\"C_AnnualCost($)\"]\n",
    "AllMergedAnnualData[\"DeltaClear_FanCost($/sf)\"] = AllMergedAnnualData[\"B_FanCost($/sf)\"] - AllMergedAnnualData[\"C_FanCost($/sf)\"]\n",
    "AllMergedAnnualData[\"DeltaClear_HeatingElecCost($/sf)\"] = AllMergedAnnualData[\"B_HeatingElecCost($/sf)\"] - AllMergedAnnualData[\"C_HeatingElecCost($/sf)\"]\n",
    "AllMergedAnnualData[\"DeltaClear_HeatingGasCost($/sf)\"] = AllMergedAnnualData[\"B_HeatingGasCost($/sf)\"] - AllMergedAnnualData[\"C_HeatingGasCost($/sf)\"]\n",
    "AllMergedAnnualData[\"DeltaClear_CoolingCost($/sf)\"] = AllMergedAnnualData[\"B_CoolingCost($/sf)\"] - AllMergedAnnualData[\"C_CoolingCost($/sf)\"]\n",
    "AllMergedAnnualData[\"DeltaClear_LightingCost($/sf)\"] = AllMergedAnnualData[\"B_LightingCost($/sf)\"] - AllMergedAnnualData[\"C_LightingCost($/sf)\"]\n",
    "AllMergedAnnualData[\"DeltaClear_AnnualCost($/sf)\"] = AllMergedAnnualData[\"B_AnnualCost($/sf)\"] - AllMergedAnnualData[\"C_AnnualCost($/sf)\"]\n"
   ]
  },
  {
   "cell_type": "code",
   "execution_count": 47,
   "metadata": {},
   "outputs": [],
   "source": [
    "# list(AllMergedAnnualData.columns.values)"
   ]
  },
  {
   "cell_type": "code",
   "execution_count": 48,
   "metadata": {},
   "outputs": [],
   "source": [
    "# Deltas of exist - lowe\n",
    "\n",
    "AllMergedAnnualData[\"DeltaLowe_FanEnergy(kBtu/sf)\"] = AllMergedAnnualData[\"B_FanEnergy(kBtu/sf)\"] - AllMergedAnnualData[\"L_FanEnergy(kBtu/sf)\"]\n",
    "AllMergedAnnualData[\"DeltaLowe_HeatingElecEnergy(kBtu/sf)\"] = AllMergedAnnualData[\"B_HeatingElecEnergy(kBtu/sf)\"] - AllMergedAnnualData[\"L_HeatingElecEnergy(kBtu/sf)\"]\n",
    "AllMergedAnnualData[\"DeltaLowe_HeatingGasEnergy(kBtu/sf)\"] = AllMergedAnnualData[\"B_HeatingGasEnergy(kBtu/sf)\"] - AllMergedAnnualData[\"L_HeatingGasEnergy(kBtu/sf)\"]\n",
    "AllMergedAnnualData[\"DeltaLowe_CoolingEnergy(kBtu/sf)\"] = AllMergedAnnualData[\"B_CoolingEnergy(kBtu/sf)\"] - AllMergedAnnualData[\"L_CoolingEnergy(kBtu/sf)\"]\n",
    "AllMergedAnnualData[\"DeltaLowe_LightingEnergy(kBtu/sf)\"] = AllMergedAnnualData[\"B_LightingEnergy(kBtu/sf)\"] - AllMergedAnnualData[\"L_LightingEnergy(kBtu/sf)\"]\n",
    "AllMergedAnnualData[\"DeltaLowe_EUI(kBtu/sf)\"] = AllMergedAnnualData[\"B_EUI(kBtu/sf)\"] - AllMergedAnnualData[\"L_EUI(kBtu/sf)\"]\n",
    "AllMergedAnnualData[\"DeltaLowe_CO2_Electric(lb/sf)\"] = AllMergedAnnualData[\"B_CO2_Electric(lb/sf)\"] - AllMergedAnnualData[\"L_CO2_Electric(lb/sf)\"]\n",
    "AllMergedAnnualData[\"DeltaLowe_CO2_Gas(lb/sf)\"] = AllMergedAnnualData[\"B_CO2_Gas(lb/sf)\"] - AllMergedAnnualData[\"L_CO2_Gas(lb/sf)\"]\n",
    "AllMergedAnnualData[\"DeltaLowe_FanCost($)\"] = AllMergedAnnualData[\"B_FanCost($)\"] - AllMergedAnnualData[\"L_FanCost($)\"]\n",
    "AllMergedAnnualData[\"DeltaLowe_HeatingElecCost($)\"] = AllMergedAnnualData[\"B_HeatingElecCost($)\"] - AllMergedAnnualData[\"L_HeatingElecCost($)\"]\n",
    "AllMergedAnnualData[\"DeltaLowe_HeatingGasCost($)\"] = AllMergedAnnualData[\"B_HeatingGasCost($)\"] - AllMergedAnnualData[\"L_HeatingGasCost($)\"]\n",
    "AllMergedAnnualData[\"DeltaLowe_CoolingCost($)\"] = AllMergedAnnualData[\"B_CoolingCost($)\"] - AllMergedAnnualData[\"L_CoolingCost($)\"]\n",
    "AllMergedAnnualData[\"DeltaLowe_LightingCost($)\"] = AllMergedAnnualData[\"B_LightingCost($)\"] - AllMergedAnnualData[\"L_LightingCost($)\"]\n",
    "AllMergedAnnualData[\"DeltaLowe_AnnualCost($)\"] = AllMergedAnnualData[\"B_AnnualCost($)\"] - AllMergedAnnualData[\"L_AnnualCost($)\"]\n",
    "AllMergedAnnualData[\"DeltaLowe_FanCost($/sf)\"] = AllMergedAnnualData[\"B_FanCost($/sf)\"] - AllMergedAnnualData[\"L_FanCost($/sf)\"]\n",
    "AllMergedAnnualData[\"DeltaLowe_HeatingElecCost($/sf)\"] = AllMergedAnnualData[\"B_HeatingElecCost($/sf)\"] - AllMergedAnnualData[\"L_HeatingElecCost($/sf)\"]\n",
    "AllMergedAnnualData[\"DeltaLowe_HeatingGasCost($/sf)\"] = AllMergedAnnualData[\"B_HeatingGasCost($/sf)\"] - AllMergedAnnualData[\"L_HeatingGasCost($/sf)\"]\n",
    "AllMergedAnnualData[\"DeltaLowe_CoolingCost($/sf)\"] = AllMergedAnnualData[\"B_CoolingCost($/sf)\"] - AllMergedAnnualData[\"L_CoolingCost($/sf)\"]\n",
    "AllMergedAnnualData[\"DeltaLowe_LightingCost($/sf)\"] = AllMergedAnnualData[\"B_LightingCost($/sf)\"] - AllMergedAnnualData[\"L_LightingCost($/sf)\"]\n",
    "AllMergedAnnualData[\"DeltaLowe_AnnualCost($/sf)\"] = AllMergedAnnualData[\"B_AnnualCost($/sf)\"] - AllMergedAnnualData[\"L_AnnualCost($/sf)\"]\n"
   ]
  },
  {
   "cell_type": "code",
   "execution_count": 49,
   "metadata": {},
   "outputs": [],
   "source": [
    "# list(AllMergedAnnualData.columns.values)"
   ]
  },
  {
   "cell_type": "markdown",
   "metadata": {},
   "source": [
    "---\n",
    "## Group and Export Annual Delta Data\n",
    "Group dataframe by scenario<br>\n",
    "Export to file"
   ]
  },
  {
   "cell_type": "code",
   "execution_count": 50,
   "metadata": {},
   "outputs": [],
   "source": [
    "# Group by scenario\n",
    "AnnualDataDelta = AllMergedAnnualData.groupby([\"B_Scenario\", \"B_Elevation\", \"B_GlazingSystem\"], as_index=True)\n",
    "\n",
    "# AnnualDataDelta.sum().round(2)"
   ]
  },
  {
   "cell_type": "code",
   "execution_count": 51,
   "metadata": {},
   "outputs": [],
   "source": [
    "AnnualDataDelta = AnnualDataDelta.sum().round(2)"
   ]
  },
  {
   "cell_type": "code",
   "execution_count": 52,
   "metadata": {},
   "outputs": [],
   "source": [
    "# list(AnnualDataDelta.sum().round(2).columns.values)"
   ]
  },
  {
   "cell_type": "code",
   "execution_count": 53,
   "metadata": {},
   "outputs": [],
   "source": [
    "# Export grouped file to csv\n",
    "AnnualDataDelta.to_csv(\"Scraper_Output/sat_deltas_annual_com.csv\", header=True, index=True)"
   ]
  },
  {
   "cell_type": "markdown",
   "metadata": {},
   "source": [
    "## Find Peak Demand\n",
    "Slice data to find peak demand for each scenario<br>\n",
    "Export to csv"
   ]
  },
  {
   "cell_type": "code",
   "execution_count": 54,
   "metadata": {},
   "outputs": [],
   "source": [
    "# Copy dataframe to modify and leave original df intact\n",
    "get_peak_ComElec = all_ComElec2.copy(deep=True)\n",
    "\n",
    "# get_peak_ComElec"
   ]
  },
  {
   "cell_type": "code",
   "execution_count": 55,
   "metadata": {
    "scrolled": true
   },
   "outputs": [],
   "source": [
    "# Add energy totals\n",
    "# divide by the number of seconds in an hour (3600)\n",
    "totalComPeak = (get_peak_ComElec[\"FanEnergy[J](Hourly)\"] + get_peak_ComElec[\"HeatingElecEnergy[J](Hourly)\"] + get_peak_ComElec[\"HeatingGasEnergy[J](Hourly)\"] + get_peak_ComElec[\"CoolingEnergy[J](Hourly)\"] + get_peak_ComElec[\"LightingEnergy[J](Hourly)\"])\n",
    "        \n",
    "get_peak_ComElec[\"PeakEnergy[J](Hourly)\"] = totalComPeak\n",
    "\n",
    "get_peak_ComElec[\"PeakEnergy(w)\"] = (get_peak_ComElec[\"PeakEnergy[J](Hourly)\"] / 3600)\n",
    "\n",
    "get_peak_ComElec[\"PeakEnergy(w/sf)\"] = (get_peak_ComElec[\"PeakEnergy(w)\"] / sf)\n",
    "\n",
    "# get_peak_ComElec"
   ]
  },
  {
   "cell_type": "code",
   "execution_count": 56,
   "metadata": {},
   "outputs": [],
   "source": [
    "# Get scenario and find the max\n",
    "A1Eexist = get_peak_ComElec[get_peak_ComElec[\"Scenario\"] == \"A1Eexist\"]\n",
    "A1Eclear = get_peak_ComElec[get_peak_ComElec[\"Scenario\"] == \"A1Eclear\"]\n",
    "A1Elowe = get_peak_ComElec[get_peak_ComElec[\"Scenario\"] == \"A1Elowe\"]\n",
    "A1Nexist = get_peak_ComElec[get_peak_ComElec[\"Scenario\"] == \"A1Nexist\"]\n",
    "A1Nclear = get_peak_ComElec[get_peak_ComElec[\"Scenario\"] == \"A1Nclear\"]\n",
    "A1Nlowe = get_peak_ComElec[get_peak_ComElec[\"Scenario\"] == \"A1Nlowe\"]\n",
    "A1Wexist = get_peak_ComElec[get_peak_ComElec[\"Scenario\"] == \"A1Wexist\"]\n",
    "A1Wclear = get_peak_ComElec[get_peak_ComElec[\"Scenario\"] == \"A1Wclear\"]\n",
    "A1Wlowe = get_peak_ComElec[get_peak_ComElec[\"Scenario\"] == \"A1Wlowe\"]\n",
    "A2Sexist = get_peak_ComElec[get_peak_ComElec[\"Scenario\"] == \"A2Sexist\"]\n",
    "A2Sclear = get_peak_ComElec[get_peak_ComElec[\"Scenario\"] == \"A2Sclear\"]\n",
    "A2Slowe = get_peak_ComElec[get_peak_ComElec[\"Scenario\"] == \"A2Slowe\"]\n",
    "B1Eexist = get_peak_ComElec[get_peak_ComElec[\"Scenario\"] == \"B1Eexist\"]\n",
    "B1Eclear = get_peak_ComElec[get_peak_ComElec[\"Scenario\"] == \"B1Eclear\"]\n",
    "B1Elowe = get_peak_ComElec[get_peak_ComElec[\"Scenario\"] == \"B1Elowe\"]\n",
    "B1Nexist = get_peak_ComElec[get_peak_ComElec[\"Scenario\"] == \"B1Nexist\"]\n",
    "B1Nclear = get_peak_ComElec[get_peak_ComElec[\"Scenario\"] == \"B1Nclear\"]\n",
    "B1Nlowe = get_peak_ComElec[get_peak_ComElec[\"Scenario\"] == \"B1Nlowe\"]\n",
    "B1Wexist = get_peak_ComElec[get_peak_ComElec[\"Scenario\"] == \"B1Wexist\"]\n",
    "B1Wclear = get_peak_ComElec[get_peak_ComElec[\"Scenario\"] == \"B1Wclear\"]\n",
    "B1Wlowe = get_peak_ComElec[get_peak_ComElec[\"Scenario\"] == \"B1Wlowe\"]\n",
    "B2Eexist = get_peak_ComElec[get_peak_ComElec[\"Scenario\"] == \"B2Eexist\"]\n",
    "B2Eclear = get_peak_ComElec[get_peak_ComElec[\"Scenario\"] == \"B2Eclear\"]\n",
    "B2Elowe = get_peak_ComElec[get_peak_ComElec[\"Scenario\"] == \"B2Elowe\"]\n",
    "B3Sexist = get_peak_ComElec[get_peak_ComElec[\"Scenario\"] == \"B3Sexist\"]\n",
    "B3Sclear = get_peak_ComElec[get_peak_ComElec[\"Scenario\"] == \"B3Sclear\"]\n",
    "B3Slowe = get_peak_ComElec[get_peak_ComElec[\"Scenario\"] == \"B3Slowe\"]\n",
    "B3Wexist = get_peak_ComElec[get_peak_ComElec[\"Scenario\"] == \"B3Wexist\"]\n",
    "B3Wclear = get_peak_ComElec[get_peak_ComElec[\"Scenario\"] == \"B3Wclear\"]\n",
    "B3Wlowe = get_peak_ComElec[get_peak_ComElec[\"Scenario\"] == \"B3Wlowe\"]\n",
    "C1Eexist = get_peak_ComElec[get_peak_ComElec[\"Scenario\"] == \"C1Eexist\"]\n",
    "C1Eclear = get_peak_ComElec[get_peak_ComElec[\"Scenario\"] == \"C1Eclear\"]\n",
    "C1Elowe = get_peak_ComElec[get_peak_ComElec[\"Scenario\"] == \"C1Elowe\"]\n",
    "C1Nexist = get_peak_ComElec[get_peak_ComElec[\"Scenario\"] == \"C1Nexist\"]\n",
    "C1Nclear = get_peak_ComElec[get_peak_ComElec[\"Scenario\"] == \"C1Nclear\"]\n",
    "C1Nlowe = get_peak_ComElec[get_peak_ComElec[\"Scenario\"] == \"C1Nlowe\"]\n",
    "C1Sexist = get_peak_ComElec[get_peak_ComElec[\"Scenario\"] == \"C1Sexist\"]\n",
    "C1Sclear = get_peak_ComElec[get_peak_ComElec[\"Scenario\"] == \"C1Sclear\"]\n",
    "C1Slowe = get_peak_ComElec[get_peak_ComElec[\"Scenario\"] == \"C1Slowe\"]\n",
    "C2Wexist = get_peak_ComElec[get_peak_ComElec[\"Scenario\"] == \"C2Wexist\"]\n",
    "C2Wclear = get_peak_ComElec[get_peak_ComElec[\"Scenario\"] == \"C2Wclear\"]\n",
    "C2Wlowe = get_peak_ComElec[get_peak_ComElec[\"Scenario\"] == \"C2Wlowe\"]\n",
    "C3Wexist = get_peak_ComElec[get_peak_ComElec[\"Scenario\"] == \"C3Wexist\"]\n",
    "C3Wclear = get_peak_ComElec[get_peak_ComElec[\"Scenario\"] == \"C3Wclear\"]\n",
    "C3Wlowe = get_peak_ComElec[get_peak_ComElec[\"Scenario\"] == \"C3Wlowe\"]"
   ]
  },
  {
   "cell_type": "code",
   "execution_count": 57,
   "metadata": {},
   "outputs": [],
   "source": [
    "A1EexistPeak = (A1Eexist[A1Eexist[\"PeakEnergy[J](Hourly)\"] == A1Eexist[\"PeakEnergy[J](Hourly)\"].max()])\n",
    "A1EclearPeak = (A1Eclear[A1Eclear[\"PeakEnergy[J](Hourly)\"] == A1Eclear[\"PeakEnergy[J](Hourly)\"].max()])\n",
    "A1ElowePeak = (A1Elowe[A1Elowe[\"PeakEnergy[J](Hourly)\"] == A1Elowe[\"PeakEnergy[J](Hourly)\"].max()])\n",
    "A1NexistPeak = (A1Nexist[A1Nexist[\"PeakEnergy[J](Hourly)\"] == A1Nexist[\"PeakEnergy[J](Hourly)\"].max()])\n",
    "A1NclearPeak = (A1Nclear[A1Nclear[\"PeakEnergy[J](Hourly)\"] == A1Nclear[\"PeakEnergy[J](Hourly)\"].max()])\n",
    "A1NlowePeak = (A1Nlowe[A1Nlowe[\"PeakEnergy[J](Hourly)\"] == A1Nlowe[\"PeakEnergy[J](Hourly)\"].max()])\n",
    "A1WexistPeak = (A1Wexist[A1Wexist[\"PeakEnergy[J](Hourly)\"] == A1Wexist[\"PeakEnergy[J](Hourly)\"].max()])\n",
    "A1WclearPeak = (A1Wclear[A1Wclear[\"PeakEnergy[J](Hourly)\"] == A1Wclear[\"PeakEnergy[J](Hourly)\"].max()])\n",
    "A1WlowePeak = (A1Wlowe[A1Wlowe[\"PeakEnergy[J](Hourly)\"] == A1Wlowe[\"PeakEnergy[J](Hourly)\"].max()])\n",
    "A2SexisttPeak = (A2Sexist[A2Sexist[\"PeakEnergy[J](Hourly)\"] == A2Sexist[\"PeakEnergy[J](Hourly)\"].max()])\n",
    "A2SclearPeak = (A2Sclear[A2Sclear[\"PeakEnergy[J](Hourly)\"] == A2Sclear[\"PeakEnergy[J](Hourly)\"].max()])\n",
    "A2SlowePeak = (A2Slowe[A2Slowe[\"PeakEnergy[J](Hourly)\"] == A2Slowe[\"PeakEnergy[J](Hourly)\"].max()])\n",
    "B1EexistPeak = (B1Eexist[B1Eexist[\"PeakEnergy[J](Hourly)\"] == B1Eexist[\"PeakEnergy[J](Hourly)\"].max()])\n",
    "B1EclearPeak = (B1Eclear[B1Eclear[\"PeakEnergy[J](Hourly)\"] == B1Eclear[\"PeakEnergy[J](Hourly)\"].max()])\n",
    "B1ElowePeak = (B1Elowe[B1Elowe[\"PeakEnergy[J](Hourly)\"] == B1Elowe[\"PeakEnergy[J](Hourly)\"].max()])\n",
    "B1NexistPeak = (B1Nexist[B1Nexist[\"PeakEnergy[J](Hourly)\"] == B1Nexist[\"PeakEnergy[J](Hourly)\"].max()])\n",
    "B1NclearPeak = (B1Nclear[B1Nclear[\"PeakEnergy[J](Hourly)\"] == B1Nclear[\"PeakEnergy[J](Hourly)\"].max()])\n",
    "B1NlowePeak = (B1Nlowe[B1Nlowe[\"PeakEnergy[J](Hourly)\"] == B1Nlowe[\"PeakEnergy[J](Hourly)\"].max()])\n",
    "B1WexistPeak = (B1Wexist[B1Wexist[\"PeakEnergy[J](Hourly)\"] == B1Wexist[\"PeakEnergy[J](Hourly)\"].max()])\n",
    "B1WclearPeak = (B1Wclear[B1Wclear[\"PeakEnergy[J](Hourly)\"] == B1Wclear[\"PeakEnergy[J](Hourly)\"].max()])\n",
    "B1WlowePeak = (B1Wlowe[B1Wlowe[\"PeakEnergy[J](Hourly)\"] == B1Wlowe[\"PeakEnergy[J](Hourly)\"].max()])\n",
    "B2EexistPeak = (B2Eexist[B2Eexist[\"PeakEnergy[J](Hourly)\"] == B2Eexist[\"PeakEnergy[J](Hourly)\"].max()])\n",
    "B2EclearPeak = (B2Eclear[B2Eclear[\"PeakEnergy[J](Hourly)\"] == B2Eclear[\"PeakEnergy[J](Hourly)\"].max()])\n",
    "B2ElowePeak = (B2Elowe[B2Elowe[\"PeakEnergy[J](Hourly)\"] == B2Elowe[\"PeakEnergy[J](Hourly)\"].max()])\n",
    "B3SexistPeak = (B3Sexist[B3Sexist[\"PeakEnergy[J](Hourly)\"] == B3Sexist[\"PeakEnergy[J](Hourly)\"].max()])\n",
    "B3SclearPeak = (B3Sclear[B3Sclear[\"PeakEnergy[J](Hourly)\"] == B3Sclear[\"PeakEnergy[J](Hourly)\"].max()])\n",
    "B3SlowePeak = (B3Slowe[B3Slowe[\"PeakEnergy[J](Hourly)\"] == B3Slowe[\"PeakEnergy[J](Hourly)\"].max()])\n",
    "B3WexistPeak = (B3Wexist[B3Wexist[\"PeakEnergy[J](Hourly)\"] == B3Wexist[\"PeakEnergy[J](Hourly)\"].max()])\n",
    "B3WclearPeak = (B3Wclear[B3Wclear[\"PeakEnergy[J](Hourly)\"] == B3Wclear[\"PeakEnergy[J](Hourly)\"].max()])\n",
    "B3WlowePeak = (B3Wlowe[B3Wlowe[\"PeakEnergy[J](Hourly)\"] == B3Wlowe[\"PeakEnergy[J](Hourly)\"].max()])\n",
    "C1EexistPeak = (C1Eexist[C1Eexist[\"PeakEnergy[J](Hourly)\"] == C1Eexist[\"PeakEnergy[J](Hourly)\"].max()])\n",
    "C1EclearPeak = (C1Eclear[C1Eclear[\"PeakEnergy[J](Hourly)\"] == C1Eclear[\"PeakEnergy[J](Hourly)\"].max()])\n",
    "C1ElowePeak = (C1Elowe[C1Elowe[\"PeakEnergy[J](Hourly)\"] == C1Elowe[\"PeakEnergy[J](Hourly)\"].max()])\n",
    "C1NexistPeak = (C1Nexist[C1Nexist[\"PeakEnergy[J](Hourly)\"] == C1Nexist[\"PeakEnergy[J](Hourly)\"].max()])\n",
    "C1NclearPeak = (C1Nclear[C1Nclear[\"PeakEnergy[J](Hourly)\"] == C1Nclear[\"PeakEnergy[J](Hourly)\"].max()])\n",
    "C1NlowePeak = (C1Nlowe[C1Nlowe[\"PeakEnergy[J](Hourly)\"] == C1Nlowe[\"PeakEnergy[J](Hourly)\"].max()])\n",
    "C1SexistPeak = (C1Sexist[C1Sexist[\"PeakEnergy[J](Hourly)\"] == C1Sexist[\"PeakEnergy[J](Hourly)\"].max()])\n",
    "C1SclearPeak = (C1Sclear[C1Sclear[\"PeakEnergy[J](Hourly)\"] == C1Sclear[\"PeakEnergy[J](Hourly)\"].max()])\n",
    "C1SlowePeak = (C1Slowe[C1Slowe[\"PeakEnergy[J](Hourly)\"] == C1Slowe[\"PeakEnergy[J](Hourly)\"].max()])\n",
    "C2WexistPeak = (C2Wexist[C2Wexist[\"PeakEnergy[J](Hourly)\"] == C2Wexist[\"PeakEnergy[J](Hourly)\"].max()])\n",
    "C2WclearPeak = (C2Wclear[C2Wclear[\"PeakEnergy[J](Hourly)\"] == C2Wclear[\"PeakEnergy[J](Hourly)\"].max()])\n",
    "C2WlowePeak = (C2Wlowe[C2Wlowe[\"PeakEnergy[J](Hourly)\"] == C2Wlowe[\"PeakEnergy[J](Hourly)\"].max()])\n",
    "C3WexistPeak = (C3Wexist[C3Wexist[\"PeakEnergy[J](Hourly)\"] == C3Wexist[\"PeakEnergy[J](Hourly)\"].max()])\n",
    "C3WclearPeak = (C3Wclear[C3Wclear[\"PeakEnergy[J](Hourly)\"] == C3Wclear[\"PeakEnergy[J](Hourly)\"].max()])\n",
    "C3WlowePeak = (C3Wlowe[C3Wlowe[\"PeakEnergy[J](Hourly)\"] == C3Wlowe[\"PeakEnergy[J](Hourly)\"].max()])"
   ]
  },
  {
   "cell_type": "code",
   "execution_count": 58,
   "metadata": {},
   "outputs": [],
   "source": [
    "PeakDemandElec = A1EexistPeak.append([A1EclearPeak,\n",
    "A1ElowePeak,\n",
    "A1NexistPeak,\n",
    "A1NclearPeak,\n",
    "A1NlowePeak,\n",
    "A1WexistPeak,\n",
    "A1WclearPeak,\n",
    "A1WlowePeak,\n",
    "A2SexisttPeak,\n",
    "A2SclearPeak,\n",
    "A2SlowePeak,\n",
    "B1EexistPeak,\n",
    "B1EclearPeak,\n",
    "B1ElowePeak,\n",
    "B1NexistPeak,\n",
    "B1NclearPeak,\n",
    "B1NlowePeak,\n",
    "B1WexistPeak,\n",
    "B1WclearPeak,\n",
    "B1WlowePeak,\n",
    "B2EexistPeak,\n",
    "B2EclearPeak,\n",
    "B2ElowePeak,\n",
    "B3SexistPeak,\n",
    "B3SclearPeak,\n",
    "B3SlowePeak,\n",
    "B3WexistPeak,\n",
    "B3WclearPeak,\n",
    "B3WlowePeak,\n",
    "C1EexistPeak,\n",
    "C1EclearPeak,\n",
    "C1ElowePeak,\n",
    "C1NexistPeak,\n",
    "C1NclearPeak,\n",
    "C1NlowePeak,\n",
    "C1SexistPeak,\n",
    "C1SclearPeak,\n",
    "C1SlowePeak,\n",
    "C2WexistPeak,\n",
    "C2WclearPeak,\n",
    "C2WlowePeak,\n",
    "C3WexistPeak,\n",
    "C3WclearPeak,\n",
    "C3WlowePeak])\n",
    "\n",
    "# PeakDemandElec"
   ]
  },
  {
   "cell_type": "code",
   "execution_count": 59,
   "metadata": {},
   "outputs": [],
   "source": [
    "# Export dataframe  to csv\n",
    "PeakDemandElec.to_csv(\"Scraper_Output/sat_peak_com.csv\", header=True, index=True)"
   ]
  },
  {
   "cell_type": "markdown",
   "metadata": {},
   "source": [
    "---\n",
    "\n",
    "## Establish dataframes for each condition to determine delta from existing\n",
    "\n",
    "Create dataset with just existing condition.<br> \n",
    "Created a dataset with clear panel. <br>\n",
    "Create a dataset with lowe panel.<br>\n",
    "Export to CSV files\n"
   ]
  },
  {
   "cell_type": "code",
   "execution_count": 60,
   "metadata": {},
   "outputs": [],
   "source": [
    "# Define the scenario for the existing condition.\n",
    "baselinePeakDemandElec = PeakDemandElec[PeakDemandElec[\"GlazingSystem\"] == \"Exist\"]\n",
    "\n",
    "# baselinePeakDemandElec"
   ]
  },
  {
   "cell_type": "code",
   "execution_count": 61,
   "metadata": {},
   "outputs": [],
   "source": [
    "# list(baselinePeakDemandElec.columns.values)"
   ]
  },
  {
   "cell_type": "code",
   "execution_count": 62,
   "metadata": {},
   "outputs": [],
   "source": [
    "# Rename columns to indicate baseline to prepare for merge\"\n",
    "\n",
    "allbaselinePeakDemandElec = baselinePeakDemandElec.rename(columns={'Scenario':'B_Scenario',\n",
    " 'Date_Time':'B_Date_Time',\n",
    " 'Elevation':'Elevation',\n",
    " 'GlazingSystem':'GlazingSystem',\n",
    " 'HeatingElecEnergy[J](Hourly)':'B_HeatingElecEnergy[J](Hourly)',\n",
    " 'HeatingGasEnergy[J](Hourly)':'B_HeatingGasEnergy[J](Hourly)',\n",
    " 'FanEnergy[J](Hourly)':'B_FanEnergy[J](Hourly)',\n",
    " 'CoolingEnergy[J](Hourly)':'B_CoolingEnergy[J](Hourly)',\n",
    " 'LightingEnergy[J](Hourly)':'B_LightingEnergy[J](Hourly)',\n",
    " 'PeakEnergy[J](Hourly)':'B_PeakEnergy[J](Hourly)',\n",
    " 'PeakEnergy(w)':'B_PeakEnergy(w)',\n",
    " 'PeakEnergy(w/sf)':'B_PeakEnergy(w/sf)'\n",
    "                            })\n",
    "\n",
    "# allbaselinePeakDemandElec"
   ]
  },
  {
   "cell_type": "code",
   "execution_count": 63,
   "metadata": {},
   "outputs": [],
   "source": [
    "#Reset index\n",
    "allbaselinePeakDemandElec.reset_index(inplace=True, drop=True)\n",
    "\n",
    "# allbaselinePeakDemandElec"
   ]
  },
  {
   "cell_type": "code",
   "execution_count": 64,
   "metadata": {},
   "outputs": [],
   "source": [
    "# Define the scenario for the clear panel condition.\n",
    "clearPeakDemandElec = PeakDemandElec[PeakDemandElec[\"GlazingSystem\"] == \"Clear\"]\n",
    "\n",
    "# clearPeakDemandElec"
   ]
  },
  {
   "cell_type": "code",
   "execution_count": 65,
   "metadata": {},
   "outputs": [],
   "source": [
    "# Rename columns to indicate baseline to prepare for merge\"\n",
    "\n",
    "allClearPeakDemandElec = clearPeakDemandElec.rename(columns={'Scenario':'C_Scenario',\n",
    " 'Date_Time':'C_Date_Time',\n",
    " 'Elevation':'C_Elevation',\n",
    " 'GlazingSystem':'C_GlazingSystem',\n",
    " 'HeatingElecEnergy[J](Hourly)':'C_HeatingElecEnergy[J](Hourly)',\n",
    " 'HeatingGasEnergy[J](Hourly)':'C_HeatingGasEnergy[J](Hourly)',\n",
    " 'FanEnergy[J](Hourly)':'C_FanEnergy[J](Hourly)',\n",
    " 'CoolingEnergy[J](Hourly)':'C_CoolingEnergy[J](Hourly)',\n",
    " 'LightingEnergy[J](Hourly)':'C_LightingEnergy[J](Hourly)',\n",
    " 'PeakEnergy[J](Hourly)':'C_PeakEnergy[J](Hourly)',\n",
    " 'PeakEnergy(w)':'C_PeakEnergy(w)',\n",
    " 'PeakEnergy(w/sf)':'C_PeakEnergy(w/sf)'\n",
    "                            })\n",
    "\n",
    "# allClearPeakDemandElec"
   ]
  },
  {
   "cell_type": "code",
   "execution_count": 66,
   "metadata": {},
   "outputs": [],
   "source": [
    "#Reset index\n",
    "allClearPeakDemandElec.reset_index(inplace=True, drop=True)\n",
    "\n",
    "# allClearPeakDemandElec"
   ]
  },
  {
   "cell_type": "code",
   "execution_count": 67,
   "metadata": {},
   "outputs": [],
   "source": [
    "# Define the scenario for the lowe panel condition.\n",
    "lowePeakDemandElec = PeakDemandElec[PeakDemandElec[\"GlazingSystem\"] == \"Lowe\"]\n",
    "\n",
    "# lowePeakDemandElec"
   ]
  },
  {
   "cell_type": "code",
   "execution_count": 68,
   "metadata": {
    "scrolled": true
   },
   "outputs": [],
   "source": [
    "# Rename columns to indicate baseline to prepare for merge\"\n",
    "\n",
    "allLowePeakDemandElec = lowePeakDemandElec.rename(columns={'Scenario':'L_Scenario',\n",
    " 'Date_Time':'L_Date_Time',\n",
    " 'Elevation':'L_Elevation',\n",
    " 'GlazingSystem':'L_GlazingSystem',\n",
    " 'HeatingElecEnergy[J](Hourly)':'L_HeatingElecEnergy[J](Hourly)',\n",
    " 'HeatingGasEnergy[J](Hourly)':'L_HeatingGasEnergy[J](Hourly)',\n",
    " 'FanEnergy[J](Hourly)':'L_FanEnergy[J](Hourly)',\n",
    " 'CoolingEnergy[J](Hourly)':'L_CoolingEnergy[J](Hourly)',\n",
    " 'LightingEnergy[J](Hourly)':'L_LightingEnergy[J](Hourly)',\n",
    " 'PeakEnergy[J](Hourly)':'L_PeakEnergy[J](Hourly)',\n",
    " 'PeakEnergy(w)':'L_PeakEnergy(w)',\n",
    " 'PeakEnergy(w/sf)':'L_PeakEnergy(w/sf)'\n",
    "                            })\n",
    "\n",
    "# allLowePeakDemandElec"
   ]
  },
  {
   "cell_type": "code",
   "execution_count": 69,
   "metadata": {},
   "outputs": [],
   "source": [
    "# Reset index\n",
    "allLowePeakDemandElec.reset_index(inplace=True, drop=True)\n",
    "\n",
    "# allLowePeakDemandElec"
   ]
  },
  {
   "cell_type": "markdown",
   "metadata": {},
   "source": [
    "---\n",
    "## Merge the 3 dataframes to perform delta peak from existing calculation\n"
   ]
  },
  {
   "cell_type": "code",
   "execution_count": 70,
   "metadata": {},
   "outputs": [],
   "source": [
    "# merge existing and clear\n",
    "MergedAnnualPeakData = pd.merge(allbaselinePeakDemandElec, allClearPeakDemandElec, left_index=True, right_index=True)\n",
    "\n",
    "MergedAnnualPeakData\n",
    "\n",
    "#merge the above with lowe\n",
    "AllMergedAnnualPeakData = pd.merge(MergedAnnualPeakData, allLowePeakDemandElec, left_index=True, right_index=True)\n",
    "\n",
    "# AllMergedAnnualPeakData"
   ]
  },
  {
   "cell_type": "code",
   "execution_count": 71,
   "metadata": {},
   "outputs": [],
   "source": [
    "# list(AllMergedAnnualPeakData.columns.values)"
   ]
  },
  {
   "cell_type": "code",
   "execution_count": 72,
   "metadata": {},
   "outputs": [],
   "source": [
    "#Deltas of exist - clear\n",
    "\n",
    "AllMergedAnnualPeakData[\"DeltaClear_PeakEnergy(w)\"] = AllMergedAnnualPeakData[\"B_PeakEnergy(w)\"] - AllMergedAnnualPeakData[\"C_PeakEnergy(w)\"]\n",
    "AllMergedAnnualPeakData[\"DeltaClear_PeakEnergy(w/sf)\"] = AllMergedAnnualPeakData[\"B_PeakEnergy(w/sf)\"] - AllMergedAnnualPeakData[\"C_PeakEnergy(w/sf)\"]\n"
   ]
  },
  {
   "cell_type": "code",
   "execution_count": 73,
   "metadata": {},
   "outputs": [],
   "source": [
    "# Deltas of exist - lowe\n",
    "\n",
    "AllMergedAnnualPeakData[\"DeltaLowe_PeakEnergy(w)\"] = AllMergedAnnualPeakData[\"B_PeakEnergy(w)\"] - AllMergedAnnualPeakData[\"L_PeakEnergy(w)\"]\n",
    "AllMergedAnnualPeakData[\"DeltaLowe_PeakEnergy(w/sf)\"] = AllMergedAnnualPeakData[\"B_PeakEnergy(w/sf)\"] - AllMergedAnnualPeakData[\"L_PeakEnergy(w/sf)\"]\n",
    "\n",
    "# AllMergedAnnualPeakData"
   ]
  },
  {
   "cell_type": "code",
   "execution_count": 74,
   "metadata": {},
   "outputs": [],
   "source": [
    "# list(AllMergedAnnualPeakData.columns.values)"
   ]
  },
  {
   "cell_type": "code",
   "execution_count": 75,
   "metadata": {},
   "outputs": [],
   "source": [
    "# Export grouped file to csv\n",
    "AllMergedAnnualPeakData.to_csv(\"Scraper_Output/sat_deltas_peak_com.csv\", header=True, index=True)"
   ]
  },
  {
   "cell_type": "code",
   "execution_count": null,
   "metadata": {},
   "outputs": [],
   "source": []
  }
 ],
 "metadata": {
  "kernelspec": {
   "display_name": "Python 3",
   "language": "python",
   "name": "python3"
  },
  "language_info": {
   "codemirror_mode": {
    "name": "ipython",
    "version": 3
   },
   "file_extension": ".py",
   "mimetype": "text/x-python",
   "name": "python",
   "nbconvert_exporter": "python",
   "pygments_lexer": "ipython3",
   "version": "3.6.10"
  },
  "varInspector": {
   "cols": {
    "lenName": 16,
    "lenType": 16,
    "lenVar": 40
   },
   "kernels_config": {
    "python": {
     "delete_cmd_postfix": "",
     "delete_cmd_prefix": "del ",
     "library": "var_list.py",
     "varRefreshCmd": "print(var_dic_list())"
    },
    "r": {
     "delete_cmd_postfix": ") ",
     "delete_cmd_prefix": "rm(",
     "library": "var_list.r",
     "varRefreshCmd": "cat(var_dic_list()) "
    }
   },
   "types_to_exclude": [
    "module",
    "function",
    "builtin_function_or_method",
    "instance",
    "_Feature"
   ],
   "window_display": false
  }
 },
 "nbformat": 4,
 "nbformat_minor": 2
}
